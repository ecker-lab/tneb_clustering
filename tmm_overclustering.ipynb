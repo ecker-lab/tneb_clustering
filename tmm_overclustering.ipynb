{
 "cells": [
  {
   "metadata": {},
   "cell_type": "markdown",
   "source": "# Overclustering experiments with TMM",
   "id": "ade921d5598b5d5f"
  },
  {
   "metadata": {
    "ExecuteTime": {
     "end_time": "2024-09-05T14:15:17.796544Z",
     "start_time": "2024-09-05T14:15:17.634267Z"
    }
   },
   "cell_type": "code",
   "source": [
    "%load_ext autoreload\n",
    "%autoreload 2"
   ],
   "id": "99ead4ba31a1a87",
   "outputs": [
    {
     "name": "stdout",
     "output_type": "stream",
     "text": [
      "The autoreload extension is already loaded. To reload it, use:\n",
      "  %reload_ext autoreload\n"
     ]
    }
   ],
   "execution_count": 18
  },
  {
   "metadata": {
    "ExecuteTime": {
     "end_time": "2024-09-05T14:15:18.940769Z",
     "start_time": "2024-09-05T14:15:18.917446Z"
    }
   },
   "cell_type": "code",
   "source": [
    "import studenttmixture\n",
    "import matplotlib.pyplot as plt\n",
    "import sklearn.mixture\n",
    "import numpy as np\n",
    "import tqdm\n",
    "import itertools\n",
    "import scipy\n",
    "import scipy.sparse.csgraph\n",
    "import jax.random as jrandom\n",
    "\n",
    "# own code\n",
    "import src.corc.datasets_refactor as datasets2d\n",
    "import src.corc.jax_neb as jax_neb"
   ],
   "id": "9b2911099a06a684",
   "outputs": [],
   "execution_count": 19
  },
  {
   "metadata": {
    "ExecuteTime": {
     "end_time": "2024-09-05T14:19:45.287158Z",
     "start_time": "2024-09-05T14:19:45.200531Z"
    }
   },
   "cell_type": "code",
   "source": [
    "key = jrandom.PRNGKey(0)\n",
    "datasets = {\n",
    "    'Clusterlab1': datasets2d.Clusterlab1().sample(key, 100),\n",
    "    'Clusterlab2': datasets2d.Clusterlab2().sample(key, 200),\n",
    "    'Clusterlab3': datasets2d.Clusterlab3().sample(key, 200),\n",
    "    'Clusterlab4': datasets2d.Clusterlab4().sample(key, 200),\n",
    "    'Clusterlab6': datasets2d.Clusterlab6().sample(key, 250),\n",
    "    'Clusterlab8': datasets2d.Clusterlab8().sample(key, 300),\n",
    "    'Clusterlab9': datasets2d.Clusterlab9().sample(key, 300),\n",
    "    'Clusterlab10': datasets2d.Clusterlab10().sample(key, 300),\n",
    "    'BowTie': datasets2d.BowTie().sample(key, 256),\n",
    "    # 'ZigZag': datasets2d.ZigZag().sample(key, 64),\n",
    "    'UniformCircle': datasets2d.UniformCircle().sample(key, 256),\n",
    "    'UniformSquare': datasets2d.UniformSquare().sample(key, 256),\n",
    "}\n",
    "\n",
    "# missing are: AnisoBlobs, Blobs, Circles, Clusterlab5, Clusterlab7, Moons, ZigZig\n",
    "# clusterlab5 has different number of points per blob (15,50,50,50)\n",
    "# clusterlab7 is clusterlab6 plus 10 outliers\n",
    "# ZigZag is broken\n",
    "print(f\"there are {len(datasets)} datasets\")"
   ],
   "id": "1f03612768ab5e15",
   "outputs": [
    {
     "name": "stdout",
     "output_type": "stream",
     "text": [
      "there are 11 datasets\n"
     ]
    }
   ],
   "execution_count": 33
  },
  {
   "metadata": {
    "ExecuteTime": {
     "end_time": "2024-09-05T14:19:00.509590Z",
     "start_time": "2024-09-05T14:19:00.491058Z"
    }
   },
   "cell_type": "code",
   "source": [
    "data_X, data_y = datasets['Clusterlab10']\n",
    "print(f'current dataset has {len(set(data_y.tolist()))} dimensions')"
   ],
   "id": "e84f05f8642c9739",
   "outputs": [
    {
     "name": "stdout",
     "output_type": "stream",
     "text": [
      "current dataset has 6 dimensions\n"
     ]
    }
   ],
   "execution_count": 32
  },
  {
   "metadata": {
    "ExecuteTime": {
     "end_time": "2024-09-05T14:42:42.983628Z",
     "start_time": "2024-09-05T14:42:42.915131Z"
    }
   },
   "cell_type": "code",
   "source": "overclustering_n = 15 # always use the same number of clusters",
   "id": "27df5f6bb7f55f99",
   "outputs": [],
   "execution_count": 34
  },
  {
   "metadata": {
    "ExecuteTime": {
     "end_time": "2024-09-05T14:47:22.237560Z",
     "start_time": "2024-09-05T14:47:22.188771Z"
    }
   },
   "cell_type": "code",
   "source": [
    "# compute tmm\n",
    "tmm = studenttmixture.EMStudentMixture(n_components=overclustering_n, fixed_df=True, df=1.0, init_type=\"k++\", random_state=42)\n",
    "tmm.fit(np.array(data_X, dtype=np.float64))"
   ],
   "id": "ad1571f55d8124ff",
   "outputs": [],
   "execution_count": 58
  },
  {
   "metadata": {
    "ExecuteTime": {
     "end_time": "2024-09-05T15:13:35.136924Z",
     "start_time": "2024-09-05T14:58:40.144331Z"
    }
   },
   "cell_type": "code",
   "source": "adjacency, _, paths, temps, logprobs = jax_neb.compute_neb_paths(tmm, iterations=500)",
   "id": "3086f3c944b6c6a4",
   "outputs": [
    {
     "name": "stderr",
     "output_type": "stream",
     "text": [
      "100%|██████████| 225/225 [14:54<00:00,  3.98s/it]\n"
     ]
    }
   ],
   "execution_count": 62
  },
  {
   "metadata": {
    "ExecuteTime": {
     "end_time": "2024-09-05T15:14:15.422550Z",
     "start_time": "2024-09-05T15:14:15.384038Z"
    }
   },
   "cell_type": "code",
   "source": [
    "thresholds = set(adjacency.flatten())\n",
    "thresholds"
   ],
   "id": "f3a68be349ab4e39",
   "outputs": [
    {
     "data": {
      "text/plain": [
       "{-9.34257984161377,\n",
       " -9.208929061889648,\n",
       " -8.90778636932373,\n",
       " -8.713793754577637,\n",
       " -7.80174446105957,\n",
       " -7.45189905166626,\n",
       " -6.142277717590332,\n",
       " -5.553597450256348,\n",
       " -5.443879127502441,\n",
       " -5.154192924499512,\n",
       " -5.037203788757324,\n",
       " -3.5582752227783203,\n",
       " -3.3411285877227783,\n",
       " -3.088834524154663,\n",
       " 0.0}"
      ]
     },
     "execution_count": 65,
     "metadata": {},
     "output_type": "execute_result"
    }
   ],
   "execution_count": 65
  },
  {
   "metadata": {
    "ExecuteTime": {
     "end_time": "2024-09-05T15:33:00.577332Z",
     "start_time": "2024-09-05T15:33:00.506079Z"
    }
   },
   "cell_type": "code",
   "source": [
    "\n",
    "# number of clusters against threshold values\n",
    "cluster_numbers = list()\n",
    "for threshold in sorted(list(thresholds)):\n",
    "    tmp_adj = np.array(adjacency>=threshold,dtype=int)\n",
    "    n_components, component_labels = scipy.sparse.csgraph.connected_components(tmp_adj, directed=False)\n",
    "    cluster_numbers.append((threshold, n_components))\n",
    "    # print(f\"With Threshold: {threshold} we get {n_components} components\")\n",
    "    \n",
    "cluster_numbers = np.array(cluster_numbers)\n",
    "plt.plot(cluster_numbers[:,1], cluster_numbers[:,0], marker='o')\n",
    "plt.grid()"
   ],
   "id": "b51b037f775a61b1",
   "outputs": [
    {
     "data": {
      "text/plain": [
       "<Figure size 640x480 with 1 Axes>"
      ],
      "image/png": "[encoded data removed]"
     },
     "metadata": {},
     "output_type": "display_data"
    }
   ],
   "execution_count": 88
  },
  {
   "metadata": {},
   "cell_type": "code",
   "outputs": [],
   "execution_count": null,
   "source": "",
   "id": "15ab644414decb1c"
  },
  {
   "metadata": {},
   "cell_type": "code",
   "outputs": [],
   "execution_count": null,
   "source": "",
   "id": "f25b4784ad596aef"
  },
  {
   "metadata": {},
   "cell_type": "code",
   "outputs": [],
   "execution_count": null,
   "source": "",
   "id": "ccf635e9ed4b7f56"
  },
  {
   "metadata": {},
   "cell_type": "code",
   "outputs": [],
   "execution_count": null,
   "source": "",
   "id": "a22e323baf847900"
  }
 ],
 "metadata": {
  "kernelspec": {
   "display_name": "Python 3",
   "language": "python",
   "name": "python3"
  },
  "language_info": {
   "codemirror_mode": {
    "name": "ipython",
    "version": 2
   },
   "file_extension": ".py",
   "mimetype": "text/x-python",
   "name": "python",
   "nbconvert_exporter": "python",
   "pygments_lexer": "ipython2",
   "version": "2.7.6"
  }
 },
 "nbformat": 4,
 "nbformat_minor": 5
}
