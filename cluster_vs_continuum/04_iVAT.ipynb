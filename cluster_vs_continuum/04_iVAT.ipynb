{
 "cells": [
  {
   "attachments": {},
   "cell_type": "markdown",
   "metadata": {},
   "source": [
    "# Clustering of embeddings -> Cluster or continuum?"
   ]
  },
  {
   "cell_type": "code",
   "execution_count": null,
   "metadata": {},
   "outputs": [],
   "source": [
    "import pandas as pd\n",
    "import seaborn as sns\n",
    "import matplotlib.pyplot as plt\n",
    "import numpy as np\n",
    "\n",
    "from sklearn.cluster import KMeans\n",
    "from sklearn.manifold import TSNE\n",
    "from sklearn.neighbors import NearestNeighbors\n",
    "\n",
    "%matplotlib inline"
   ]
  },
  {
   "attachments": {},
   "cell_type": "markdown",
   "metadata": {},
   "source": [
    "# improved Visual Assessment of cluster Tendency (iVAT)\n",
    "\n",
    "Basically the same as VAT but produces more precise images at a heavier computing cost."
   ]
  },
  {
   "cell_type": "code",
   "execution_count": null,
   "metadata": {},
   "outputs": [],
   "source": [
    "from pyclustertend import ivat"
   ]
  },
  {
   "attachments": {},
   "cell_type": "markdown",
   "metadata": {},
   "source": [
    "## Try on different data"
   ]
  },
  {
   "attachments": {},
   "cell_type": "markdown",
   "metadata": {},
   "source": [
    "### sample points from uniform distribution with 32 dimensions"
   ]
  },
  {
   "cell_type": "code",
   "execution_count": null,
   "metadata": {},
   "outputs": [],
   "source": [
    "n_samples = 1000\n",
    "dim = 32\n",
    "\n",
    "n_centers = 10\n",
    "n_samples_around_c = 100"
   ]
  },
  {
   "cell_type": "code",
   "execution_count": null,
   "metadata": {},
   "outputs": [],
   "source": [
    "latent_emb = np.random.uniform(0,1,(n_samples, dim))\n",
    "latent_emb.shape"
   ]
  },
  {
   "cell_type": "code",
   "execution_count": null,
   "metadata": {},
   "outputs": [],
   "source": [
    "clustering = pd.DataFrame(TSNE(n_components=2, perplexity=30).fit_transform(latent_emb), columns=['x', 'y'])\n",
    "sns.scatterplot(data=clustering, x='x', y='y')\n",
    "plt.show()"
   ]
  },
  {
   "cell_type": "code",
   "execution_count": null,
   "metadata": {},
   "outputs": [],
   "source": [
    "ivat(latent_emb)"
   ]
  },
  {
   "attachments": {},
   "cell_type": "markdown",
   "metadata": {},
   "source": [
    "### sample from data instead of applying it to all"
   ]
  },
  {
   "cell_type": "code",
   "execution_count": null,
   "metadata": {},
   "outputs": [],
   "source": [
    "sample_size = 200"
   ]
  },
  {
   "cell_type": "code",
   "execution_count": null,
   "metadata": {},
   "outputs": [],
   "source": [
    "rand_indices = np.random.randint(0,latent_emb.shape[0], sample_size)\n",
    "X_sampled = latent_emb[rand_indices]\n",
    "\n",
    "ivat(X_sampled)"
   ]
  },
  {
   "attachments": {},
   "cell_type": "markdown",
   "metadata": {},
   "source": [
    "## std = 0.01"
   ]
  },
  {
   "cell_type": "code",
   "execution_count": null,
   "metadata": {},
   "outputs": [],
   "source": [
    "cluster_centers = np.random.uniform(0,1,size=(n_centers, dim))\n",
    "latent_emb = []\n",
    "labels = []\n",
    "\n",
    "# create data\n",
    "for ci, c in enumerate(cluster_centers):\n",
    "    samples = np.random.normal(c, 0.01, size=(n_samples_around_c, dim))\n",
    "    latent_emb.append(samples)\n",
    "    labels.append(np.ones(len(samples))*ci)\n",
    "\n",
    "latent_emb = np.array(latent_emb).reshape(n_centers*n_samples_around_c, -1)\n",
    "labels = np.array(labels).reshape(n_centers*n_samples_around_c, -1)"
   ]
  },
  {
   "cell_type": "code",
   "execution_count": null,
   "metadata": {},
   "outputs": [],
   "source": [
    "clustering = pd.DataFrame(TSNE(n_components=2, perplexity=30).fit_transform(latent_emb), columns=['x', 'y'])\n",
    "sns.scatterplot(data=clustering, x='x', y='y')\n",
    "plt.show()"
   ]
  },
  {
   "cell_type": "code",
   "execution_count": null,
   "metadata": {},
   "outputs": [],
   "source": [
    "ivat(latent_emb)"
   ]
  },
  {
   "attachments": {},
   "cell_type": "markdown",
   "metadata": {},
   "source": [
    "VAT gives clear blocks for clusters if the clusters are well separated."
   ]
  },
  {
   "attachments": {},
   "cell_type": "markdown",
   "metadata": {},
   "source": [
    "## std = 0.3"
   ]
  },
  {
   "cell_type": "code",
   "execution_count": null,
   "metadata": {},
   "outputs": [],
   "source": [
    "cluster_centers = np.random.uniform(0,1,size=(n_centers, dim))\n",
    "latent_emb = []\n",
    "labels = []\n",
    "\n",
    "# create data\n",
    "for ci, c in enumerate(cluster_centers):\n",
    "    samples = np.random.normal(c, 0.3, size=(n_samples_around_c, dim))\n",
    "    latent_emb.append(samples)\n",
    "    labels.append(np.ones(len(samples))*ci)\n",
    "\n",
    "latent_emb = np.array(latent_emb).reshape(n_centers*n_samples_around_c, -1)\n",
    "labels = np.array(labels).reshape(n_centers*n_samples_around_c, -1)"
   ]
  },
  {
   "cell_type": "code",
   "execution_count": null,
   "metadata": {},
   "outputs": [],
   "source": [
    "clustering = pd.DataFrame(TSNE(n_components=2, perplexity=30).fit_transform(latent_emb), columns=['x', 'y'])\n",
    "sns.scatterplot(data=clustering, x='x', y='y')\n",
    "plt.show()"
   ]
  },
  {
   "cell_type": "code",
   "execution_count": null,
   "metadata": {},
   "outputs": [],
   "source": [
    "ivat(latent_emb)"
   ]
  },
  {
   "cell_type": "code",
   "execution_count": null,
   "metadata": {},
   "outputs": [],
   "source": [
    "rand_indices = np.random.randint(0,latent_emb.shape[0], sample_size)\n",
    "X_sampled = latent_emb[rand_indices]\n",
    "\n",
    "ivat(X_sampled)"
   ]
  },
  {
   "attachments": {},
   "cell_type": "markdown",
   "metadata": {},
   "source": [
    "## std = 0.5"
   ]
  },
  {
   "cell_type": "code",
   "execution_count": null,
   "metadata": {},
   "outputs": [],
   "source": [
    "cluster_centers = np.random.uniform(0,1,size=(n_centers, dim))\n",
    "latent_emb = []\n",
    "labels = []\n",
    "\n",
    "# create data\n",
    "for ci, c in enumerate(cluster_centers):\n",
    "    samples = np.random.normal(c, 0.5, size=(n_samples_around_c, dim))\n",
    "    latent_emb.append(samples)\n",
    "    labels.append(np.ones(len(samples))*ci)\n",
    "\n",
    "latent_emb = np.array(latent_emb).reshape(n_centers*n_samples_around_c, -1)\n",
    "labels = np.array(labels).reshape(n_centers*n_samples_around_c, -1)"
   ]
  },
  {
   "cell_type": "code",
   "execution_count": null,
   "metadata": {},
   "outputs": [],
   "source": [
    "clustering = pd.DataFrame(TSNE(n_components=2, perplexity=30).fit_transform(latent_emb), columns=['x', 'y'])\n",
    "sns.scatterplot(data=clustering, x='x', y='y')\n",
    "plt.show()"
   ]
  },
  {
   "cell_type": "code",
   "execution_count": null,
   "metadata": {},
   "outputs": [],
   "source": [
    "ivat(latent_emb)"
   ]
  },
  {
   "cell_type": "code",
   "execution_count": null,
   "metadata": {},
   "outputs": [],
   "source": [
    "rand_indices = np.random.randint(0,latent_emb.shape[0], sample_size)\n",
    "X_sampled = latent_emb[rand_indices]\n",
    "\n",
    "ivat(X_sampled)"
   ]
  },
  {
   "attachments": {},
   "cell_type": "markdown",
   "metadata": {},
   "source": [
    "## std = 0.7"
   ]
  },
  {
   "cell_type": "code",
   "execution_count": null,
   "metadata": {},
   "outputs": [],
   "source": [
    "cluster_centers = np.random.uniform(0,1,size=(n_centers, dim))\n",
    "latent_emb = []\n",
    "labels = []\n",
    "\n",
    "# create data\n",
    "for ci, c in enumerate(cluster_centers):\n",
    "    samples = np.random.normal(c, 0.7, size=(n_samples_around_c, dim))\n",
    "    latent_emb.append(samples)\n",
    "    labels.append(np.ones(len(samples))*ci)\n",
    "\n",
    "latent_emb = np.array(latent_emb).reshape(n_centers*n_samples_around_c, -1)\n",
    "labels = np.array(labels).reshape(n_centers*n_samples_around_c, -1)"
   ]
  },
  {
   "cell_type": "code",
   "execution_count": null,
   "metadata": {},
   "outputs": [],
   "source": [
    "clustering = pd.DataFrame(TSNE(n_components=2, perplexity=30).fit_transform(latent_emb), columns=['x', 'y'])\n",
    "sns.scatterplot(data=clustering, x='x', y='y')\n",
    "plt.show()"
   ]
  },
  {
   "cell_type": "code",
   "execution_count": null,
   "metadata": {},
   "outputs": [],
   "source": [
    "rand_indices = np.random.randint(0,latent_emb.shape[0], sample_size)\n",
    "X_sampled = latent_emb[rand_indices]\n",
    "\n",
    "ivat(X_sampled)"
   ]
  },
  {
   "attachments": {},
   "cell_type": "markdown",
   "metadata": {},
   "source": [
    "## std = 0.8"
   ]
  },
  {
   "cell_type": "code",
   "execution_count": null,
   "metadata": {},
   "outputs": [],
   "source": [
    "cluster_centers = np.random.uniform(0,1,size=(n_centers, dim))\n",
    "latent_emb = []\n",
    "labels = []\n",
    "\n",
    "# create data\n",
    "for ci, c in enumerate(cluster_centers):\n",
    "    samples = np.random.normal(c, 0.8, size=(n_samples_around_c, dim))\n",
    "    latent_emb.append(samples)\n",
    "    labels.append(np.ones(len(samples))*ci)\n",
    "\n",
    "latent_emb = np.array(latent_emb).reshape(n_centers*n_samples_around_c, -1)\n",
    "labels = np.array(labels).reshape(n_centers*n_samples_around_c, -1)"
   ]
  },
  {
   "cell_type": "code",
   "execution_count": null,
   "metadata": {},
   "outputs": [],
   "source": [
    "clustering = pd.DataFrame(TSNE(n_components=2, perplexity=30).fit_transform(latent_emb), columns=['x', 'y'])\n",
    "sns.scatterplot(data=clustering, x='x', y='y')\n",
    "plt.show()"
   ]
  },
  {
   "cell_type": "code",
   "execution_count": null,
   "metadata": {},
   "outputs": [],
   "source": [
    "rand_indices = np.random.randint(0,latent_emb.shape[0], sample_size)\n",
    "X_sampled = latent_emb[rand_indices]\n",
    "\n",
    "ivat(X_sampled)"
   ]
  },
  {
   "attachments": {},
   "cell_type": "markdown",
   "metadata": {},
   "source": [
    "## std = 1.0"
   ]
  },
  {
   "cell_type": "code",
   "execution_count": null,
   "metadata": {},
   "outputs": [],
   "source": [
    "cluster_centers = np.random.uniform(0,1,size=(n_centers, dim))\n",
    "latent_emb = []\n",
    "labels = []\n",
    "\n",
    "# create data\n",
    "for ci, c in enumerate(cluster_centers):\n",
    "    samples = np.random.normal(c, 1.0, size=(n_samples_around_c, dim))\n",
    "    latent_emb.append(samples)\n",
    "    labels.append(np.ones(len(samples))*ci)\n",
    "\n",
    "latent_emb = np.array(latent_emb).reshape(n_centers*n_samples_around_c, -1)\n",
    "labels = np.array(labels).reshape(n_centers*n_samples_around_c, -1)"
   ]
  },
  {
   "cell_type": "code",
   "execution_count": null,
   "metadata": {},
   "outputs": [],
   "source": [
    "clustering = pd.DataFrame(TSNE(n_components=2, perplexity=30).fit_transform(latent_emb), columns=['x', 'y'])\n",
    "sns.scatterplot(data=clustering, x='x', y='y')\n",
    "plt.show()"
   ]
  },
  {
   "cell_type": "code",
   "execution_count": null,
   "metadata": {},
   "outputs": [],
   "source": [
    "rand_indices = np.random.randint(0,latent_emb.shape[0], sample_size)\n",
    "X_sampled = latent_emb[rand_indices]\n",
    "\n",
    "ivat(X_sampled)"
   ]
  },
  {
   "attachments": {},
   "cell_type": "markdown",
   "metadata": {},
   "source": [
    "## std = 3.0"
   ]
  },
  {
   "cell_type": "code",
   "execution_count": null,
   "metadata": {},
   "outputs": [],
   "source": [
    "cluster_centers = np.random.uniform(0,1,size=(n_centers, dim))\n",
    "latent_emb = []\n",
    "labels = []\n",
    "\n",
    "# create data\n",
    "for ci, c in enumerate(cluster_centers):\n",
    "    samples = np.random.normal(c, 3.0, size=(n_samples_around_c, dim))\n",
    "    latent_emb.append(samples)\n",
    "    labels.append(np.ones(len(samples))*ci)\n",
    "\n",
    "latent_emb = np.array(latent_emb).reshape(n_centers*n_samples_around_c, -1)\n",
    "labels = np.array(labels).reshape(n_centers*n_samples_around_c, -1)"
   ]
  },
  {
   "cell_type": "code",
   "execution_count": null,
   "metadata": {},
   "outputs": [],
   "source": [
    "clustering = pd.DataFrame(TSNE(n_components=2, perplexity=30).fit_transform(latent_emb), columns=['x', 'y'])\n",
    "sns.scatterplot(data=clustering, x='x', y='y')\n",
    "plt.show()"
   ]
  },
  {
   "cell_type": "code",
   "execution_count": null,
   "metadata": {},
   "outputs": [],
   "source": [
    "rand_indices = np.random.randint(0,latent_emb.shape[0], sample_size)\n",
    "X_sampled = latent_emb[rand_indices]\n",
    "\n",
    "ivat(X_sampled)"
   ]
  },
  {
   "cell_type": "code",
   "execution_count": null,
   "metadata": {},
   "outputs": [],
   "source": []
  }
 ],
 "metadata": {
  "kernelspec": {
   "display_name": "ame_o3d",
   "language": "python",
   "name": "python3"
  },
  "language_info": {
   "codemirror_mode": {
    "name": "ipython",
    "version": 3
   },
   "file_extension": ".py",
   "mimetype": "text/x-python",
   "name": "python",
   "nbconvert_exporter": "python",
   "pygments_lexer": "ipython3",
   "version": "3.9.6 (default, Jul 30 2021, 16:35:19) \n[GCC 7.5.0]"
  },
  "vscode": {
   "interpreter": {
    "hash": "3489909a15a678279f1c34097c62edaf574117429c949ea3cc4337bf23b75d72"
   }
  }
 },
 "nbformat": 4,
 "nbformat_minor": 2
}
