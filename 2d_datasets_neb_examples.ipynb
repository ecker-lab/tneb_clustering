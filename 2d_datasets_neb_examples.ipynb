{
 "cells": [
  {
   "cell_type": "code",
   "id": "0cbc8888-4fad-40e1-b7d1-32f1f1a34612",
   "metadata": {
    "ExecuteTime": {
     "end_time": "2024-09-02T13:08:01.697164Z",
     "start_time": "2024-09-02T13:08:01.639468Z"
    }
   },
   "source": [
    "from datasets2d import *"
   ],
   "outputs": [
    {
     "ename": "ModuleNotFoundError",
     "evalue": "No module named 'datasets2d'",
     "output_type": "error",
     "traceback": [
      "\u001B[0;31m---------------------------------------------------------------------------\u001B[0m",
      "\u001B[0;31mModuleNotFoundError\u001B[0m                       Traceback (most recent call last)",
      "Cell \u001B[0;32mIn[13], line 1\u001B[0m\n\u001B[0;32m----> 1\u001B[0m \u001B[38;5;28;01mfrom\u001B[39;00m \u001B[38;5;21;01mdatasets2d\u001B[39;00m \u001B[38;5;28;01mimport\u001B[39;00m \u001B[38;5;241m*\u001B[39m\n",
      "\u001B[0;31mModuleNotFoundError\u001B[0m: No module named 'datasets2d'"
     ]
    }
   ],
   "execution_count": 13
  },
  {
   "cell_type": "code",
   "id": "1450737a-a6cf-4a05-86ac-13f47e3eef0d",
   "metadata": {
    "ExecuteTime": {
     "end_time": "2024-08-30T13:59:52.278452Z",
     "start_time": "2024-08-30T13:59:52.259506Z"
    }
   },
   "source": [
    "import functools\n",
    "\n",
    "import jax\n",
    "import jax.lax as lax\n",
    "import jax.numpy as jnp\n",
    "import jax.scipy.stats as jstats\n",
    "import matplotlib.pyplot as plt\n",
    "import networkx as nx\n",
    "import numpy as np\n",
    "import sklearn.datasets\n",
    "import sklearn.mixture\n",
    "import tqdm\n",
    "\n",
    "\n",
    "import datasets2d\n",
    "import importlib\n",
    "\n",
    "importlib.reload(datasets2d)"
   ],
   "outputs": [
    {
     "ename": "ModuleNotFoundError",
     "evalue": "No module named 'jax'",
     "output_type": "error",
     "traceback": [
      "\u001B[0;31m---------------------------------------------------------------------------\u001B[0m",
      "\u001B[0;31mModuleNotFoundError\u001B[0m                       Traceback (most recent call last)",
      "Cell \u001B[0;32mIn[2], line 3\u001B[0m\n\u001B[1;32m      1\u001B[0m \u001B[38;5;28;01mimport\u001B[39;00m \u001B[38;5;21;01mfunctools\u001B[39;00m\n\u001B[0;32m----> 3\u001B[0m \u001B[38;5;28;01mimport\u001B[39;00m \u001B[38;5;21;01mjax\u001B[39;00m\n\u001B[1;32m      4\u001B[0m \u001B[38;5;28;01mimport\u001B[39;00m \u001B[38;5;21;01mjax\u001B[39;00m\u001B[38;5;21;01m.\u001B[39;00m\u001B[38;5;21;01mlax\u001B[39;00m \u001B[38;5;28;01mas\u001B[39;00m \u001B[38;5;21;01mlax\u001B[39;00m\n\u001B[1;32m      5\u001B[0m \u001B[38;5;28;01mimport\u001B[39;00m \u001B[38;5;21;01mjax\u001B[39;00m\u001B[38;5;21;01m.\u001B[39;00m\u001B[38;5;21;01mnumpy\u001B[39;00m \u001B[38;5;28;01mas\u001B[39;00m \u001B[38;5;21;01mjnp\u001B[39;00m\n",
      "\u001B[0;31mModuleNotFoundError\u001B[0m: No module named 'jax'"
     ]
    }
   ],
   "execution_count": 2
  },
  {
   "cell_type": "code",
   "id": "4753fb53-f477-4923-98a1-3aca2743041b",
   "metadata": {
    "ExecuteTime": {
     "end_time": "2024-08-30T13:59:57.768116Z",
     "start_time": "2024-08-30T13:59:57.745613Z"
    }
   },
   "source": [
    "from cycler import cycler\n",
    "\n",
    "# Set the color cycle to use 'tab20'\n",
    "plt.rcParams[\"axes.prop_cycle\"] = cycler(\n",
    "    color=plt.cm.tab10.colors,  # type: ignore\n",
    "    marker=[\n",
    "        \"o\",\n",
    "        \"s\",\n",
    "        \"D\",\n",
    "        \"x\",\n",
    "        \"P\",\n",
    "        \"H\",\n",
    "        \"d\",\n",
    "        \"v\",\n",
    "        \"^\",\n",
    "        \"<\",\n",
    "        \">\",\n",
    "        \"p\",\n",
    "        \"*\",\n",
    "        \"+\",\n",
    "        \"X\",\n",
    "        \"|\",\n",
    "        \"_\",\n",
    "        \".\",\n",
    "        \",\",\n",
    "        \"o\",\n",
    "    ][:10],\n",
    ")"
   ],
   "outputs": [
    {
     "ename": "NameError",
     "evalue": "name 'plt' is not defined",
     "output_type": "error",
     "traceback": [
      "\u001B[0;31m---------------------------------------------------------------------------\u001B[0m",
      "\u001B[0;31mNameError\u001B[0m                                 Traceback (most recent call last)",
      "Cell \u001B[0;32mIn[3], line 5\u001B[0m\n\u001B[1;32m      1\u001B[0m \u001B[38;5;28;01mfrom\u001B[39;00m \u001B[38;5;21;01mcycler\u001B[39;00m \u001B[38;5;28;01mimport\u001B[39;00m cycler\n\u001B[1;32m      3\u001B[0m \u001B[38;5;66;03m# Set the color cycle to use 'tab20'\u001B[39;00m\n\u001B[1;32m      4\u001B[0m plt\u001B[38;5;241m.\u001B[39mrcParams[\u001B[38;5;124m\"\u001B[39m\u001B[38;5;124maxes.prop_cycle\u001B[39m\u001B[38;5;124m\"\u001B[39m] \u001B[38;5;241m=\u001B[39m cycler(\n\u001B[0;32m----> 5\u001B[0m     color\u001B[38;5;241m=\u001B[39m\u001B[43mplt\u001B[49m\u001B[38;5;241m.\u001B[39mcm\u001B[38;5;241m.\u001B[39mtab10\u001B[38;5;241m.\u001B[39mcolors,  \u001B[38;5;66;03m# type: ignore\u001B[39;00m\n\u001B[1;32m      6\u001B[0m     marker\u001B[38;5;241m=\u001B[39m[\n\u001B[1;32m      7\u001B[0m         \u001B[38;5;124m\"\u001B[39m\u001B[38;5;124mo\u001B[39m\u001B[38;5;124m\"\u001B[39m,\n\u001B[1;32m      8\u001B[0m         \u001B[38;5;124m\"\u001B[39m\u001B[38;5;124ms\u001B[39m\u001B[38;5;124m\"\u001B[39m,\n\u001B[1;32m      9\u001B[0m         \u001B[38;5;124m\"\u001B[39m\u001B[38;5;124mD\u001B[39m\u001B[38;5;124m\"\u001B[39m,\n\u001B[1;32m     10\u001B[0m         \u001B[38;5;124m\"\u001B[39m\u001B[38;5;124mx\u001B[39m\u001B[38;5;124m\"\u001B[39m,\n\u001B[1;32m     11\u001B[0m         \u001B[38;5;124m\"\u001B[39m\u001B[38;5;124mP\u001B[39m\u001B[38;5;124m\"\u001B[39m,\n\u001B[1;32m     12\u001B[0m         \u001B[38;5;124m\"\u001B[39m\u001B[38;5;124mH\u001B[39m\u001B[38;5;124m\"\u001B[39m,\n\u001B[1;32m     13\u001B[0m         \u001B[38;5;124m\"\u001B[39m\u001B[38;5;124md\u001B[39m\u001B[38;5;124m\"\u001B[39m,\n\u001B[1;32m     14\u001B[0m         \u001B[38;5;124m\"\u001B[39m\u001B[38;5;124mv\u001B[39m\u001B[38;5;124m\"\u001B[39m,\n\u001B[1;32m     15\u001B[0m         \u001B[38;5;124m\"\u001B[39m\u001B[38;5;124m^\u001B[39m\u001B[38;5;124m\"\u001B[39m,\n\u001B[1;32m     16\u001B[0m         \u001B[38;5;124m\"\u001B[39m\u001B[38;5;124m<\u001B[39m\u001B[38;5;124m\"\u001B[39m,\n\u001B[1;32m     17\u001B[0m         \u001B[38;5;124m\"\u001B[39m\u001B[38;5;124m>\u001B[39m\u001B[38;5;124m\"\u001B[39m,\n\u001B[1;32m     18\u001B[0m         \u001B[38;5;124m\"\u001B[39m\u001B[38;5;124mp\u001B[39m\u001B[38;5;124m\"\u001B[39m,\n\u001B[1;32m     19\u001B[0m         \u001B[38;5;124m\"\u001B[39m\u001B[38;5;124m*\u001B[39m\u001B[38;5;124m\"\u001B[39m,\n\u001B[1;32m     20\u001B[0m         \u001B[38;5;124m\"\u001B[39m\u001B[38;5;124m+\u001B[39m\u001B[38;5;124m\"\u001B[39m,\n\u001B[1;32m     21\u001B[0m         \u001B[38;5;124m\"\u001B[39m\u001B[38;5;124mX\u001B[39m\u001B[38;5;124m\"\u001B[39m,\n\u001B[1;32m     22\u001B[0m         \u001B[38;5;124m\"\u001B[39m\u001B[38;5;124m|\u001B[39m\u001B[38;5;124m\"\u001B[39m,\n\u001B[1;32m     23\u001B[0m         \u001B[38;5;124m\"\u001B[39m\u001B[38;5;124m_\u001B[39m\u001B[38;5;124m\"\u001B[39m,\n\u001B[1;32m     24\u001B[0m         \u001B[38;5;124m\"\u001B[39m\u001B[38;5;124m.\u001B[39m\u001B[38;5;124m\"\u001B[39m,\n\u001B[1;32m     25\u001B[0m         \u001B[38;5;124m\"\u001B[39m\u001B[38;5;124m,\u001B[39m\u001B[38;5;124m\"\u001B[39m,\n\u001B[1;32m     26\u001B[0m         \u001B[38;5;124m\"\u001B[39m\u001B[38;5;124mo\u001B[39m\u001B[38;5;124m\"\u001B[39m,\n\u001B[1;32m     27\u001B[0m     ][:\u001B[38;5;241m10\u001B[39m],\n\u001B[1;32m     28\u001B[0m )\n",
      "\u001B[0;31mNameError\u001B[0m: name 'plt' is not defined"
     ]
    }
   ],
   "execution_count": 3
  },
  {
   "cell_type": "code",
   "id": "3e04a604-8f35-4090-bd50-c7b68d27423e",
   "metadata": {
    "ExecuteTime": {
     "end_time": "2024-08-30T13:59:59.251730Z",
     "start_time": "2024-08-30T13:59:59.209486Z"
    }
   },
   "source": [
    "@jax.jit\n",
    "@functools.partial(jax.vmap, in_axes=(0, None, None, None))\n",
    "def gmm_jax(x, means, covs, weights):\n",
    "    p = []\n",
    "\n",
    "    for mean, cov, weight in zip(means, covs, weights):\n",
    "        p.append(jstats.multivariate_normal.logpdf(x, mean, cov) + jnp.log(weight))\n",
    "\n",
    "    # logsumexp\n",
    "    p = jnp.stack(p, axis=-1)\n",
    "    p = jax.scipy.special.logsumexp(p, axis=-1)\n",
    "    return p\n",
    "\n",
    "\n",
    "@jax.jit\n",
    "def tmm_jax(x, means, covs, weights):\n",
    "    p = []\n",
    "\n",
    "    # pdfs of the individual components\n",
    "    for mean, cov, weight in zip(means, covs, weights):\n",
    "        p.append(jstats.t.logpdf(x, mean, cov) + jnp.log(weight))\n",
    "\n",
    "    # adding them all up\n",
    "    p = jnp.stack(p, axis=-1)\n",
    "    p = jax.scipy.special.logsumexp(p, axis=-1)\n",
    "    return p\n",
    "\n",
    "\n",
    "# the loss of the interpolation\n",
    "def loss(ms, means, covs, weights, dif_refrence, mixture_model=gmm_jax):\n",
    "    # maximize the negative log likelihood\n",
    "    nll = -mixture_model(ms, means, covs, weights).sum()\n",
    "\n",
    "    # calculate the difference between the points\n",
    "    dif = jnp.diff(ms, axis=0)\n",
    "    dif = (dif**2).sum(axis=1)\n",
    "\n",
    "    # penalize the difference between the points compared to the reference\n",
    "    # difference from the linear interpolation\n",
    "    dif = (dif - dif_refrence) ** 2\n",
    "    dif = dif.sum()\n",
    "\n",
    "    return nll * 1e-1  # + dif * 1e-2\n",
    "\n",
    "\n",
    "# perform gradient descent on the points\n",
    "@jax.jit\n",
    "def step(ms, means, covs, weights, dif_refrence):\n",
    "    g = jax.grad(loss)(ms, means, covs, weights, dif_refrence)\n",
    "    ms_new = ms - 1e-1 * g\n",
    "    ms = ms.at[1:-1].set(ms_new[1:-1])\n",
    "    return ms\n",
    "\n",
    "\n",
    "# reinterpolate the points to have a uniform distance along the same path\n",
    "@jax.jit\n",
    "def reinterpolate(ms):\n",
    "    dif = jnp.diff(ms, axis=0)\n",
    "    dif = (dif**2).sum(axis=1) ** 0.5\n",
    "    dif = jnp.cumsum(dif)\n",
    "    dif = jnp.concatenate([jnp.array([0]), dif])\n",
    "    dif = dif / dif[-1]\n",
    "\n",
    "    ts = jnp.linspace(0, 1, ms.shape[0])\n",
    "    rms = jax.vmap(jnp.interp, in_axes=(None, None, -1))(ts, dif, ms)\n",
    "    return rms.T\n",
    "\n",
    "\n",
    "# given two indicies i and j find interpolation between the ith and jth means\n",
    "def compute_interpolation(i, j, means, covs, weights):\n",
    "    m1, m2 = means[i], means[j]\n",
    "\n",
    "    # linear interpolation between m1 and m2\n",
    "    ts = jnp.linspace(0, 1, 1024)[..., None]\n",
    "    ms = (1 - ts) * m1 + ts * m2\n",
    "\n",
    "    # euclidean distance\n",
    "    dif_refrence = ((ms[0] - ms[1]) ** 2).sum()\n",
    "\n",
    "    # this is where the band becomes elastic and where the work is done.\n",
    "    for i in range(1024):\n",
    "        ms = step(ms, means, covs, weights, dif_refrence)\n",
    "        ms = reinterpolate(ms)\n",
    "\n",
    "    ps = gmm_jax(ms, means, covs, weights)\n",
    "    return ms, ts, ps\n",
    "\n",
    "\n",
    "# score the interpolation for the final graph\n",
    "@jax.jit\n",
    "def score_interpolation(xs):\n",
    "    # approximate by the decreasing sequence\n",
    "    min_ = lax.cummin(xs)\n",
    "    # find largest difference to decreasing approximation\n",
    "    min_ = jnp.abs(min_ - xs).max()\n",
    "\n",
    "    # the same but for increasing\n",
    "    max_ = lax.cummax(xs)\n",
    "    max_ = jnp.abs(max_ - xs).max()\n",
    "\n",
    "    # take the better approximation\n",
    "    return jnp.minimum(min_, max_)"
   ],
   "outputs": [
    {
     "ename": "NameError",
     "evalue": "name 'jax' is not defined",
     "output_type": "error",
     "traceback": [
      "\u001B[0;31m---------------------------------------------------------------------------\u001B[0m",
      "\u001B[0;31mNameError\u001B[0m                                 Traceback (most recent call last)",
      "Cell \u001B[0;32mIn[4], line 1\u001B[0m\n\u001B[0;32m----> 1\u001B[0m \u001B[38;5;129m@jax\u001B[39m\u001B[38;5;241m.\u001B[39mjit\n\u001B[1;32m      2\u001B[0m \u001B[38;5;129m@functools\u001B[39m\u001B[38;5;241m.\u001B[39mpartial(jax\u001B[38;5;241m.\u001B[39mvmap, in_axes\u001B[38;5;241m=\u001B[39m(\u001B[38;5;241m0\u001B[39m, \u001B[38;5;28;01mNone\u001B[39;00m, \u001B[38;5;28;01mNone\u001B[39;00m, \u001B[38;5;28;01mNone\u001B[39;00m))\n\u001B[1;32m      3\u001B[0m \u001B[38;5;28;01mdef\u001B[39;00m \u001B[38;5;21mgmm_jax\u001B[39m(x, means, covs, weights):\n\u001B[1;32m      4\u001B[0m     p \u001B[38;5;241m=\u001B[39m []\n\u001B[1;32m      6\u001B[0m     \u001B[38;5;28;01mfor\u001B[39;00m mean, cov, weight \u001B[38;5;129;01min\u001B[39;00m \u001B[38;5;28mzip\u001B[39m(means, covs, weights):\n",
      "\u001B[0;31mNameError\u001B[0m: name 'jax' is not defined"
     ]
    }
   ],
   "execution_count": 4
  },
  {
   "cell_type": "code",
   "id": "28f0abfb-dd7f-482a-b4f0-714ad752f512",
   "metadata": {
    "ExecuteTime": {
     "end_time": "2024-08-30T14:00:00.891170Z",
     "start_time": "2024-08-30T14:00:00.873772Z"
    }
   },
   "source": [
    "data_X, data_y = datasets2d.DATASETS[\"Clusterlab10\"]()\n",
    "n_components = 12\n",
    "\n",
    "gmm = sklearn.mixture.GaussianMixture(\n",
    "    n_components=n_components,\n",
    "    covariance_type=\"spherical\",\n",
    ")\n",
    "gmm.fit(data_X)\n"
   ],
   "outputs": [
    {
     "ename": "NameError",
     "evalue": "name 'datasets2d' is not defined",
     "output_type": "error",
     "traceback": [
      "\u001B[0;31m---------------------------------------------------------------------------\u001B[0m",
      "\u001B[0;31mNameError\u001B[0m                                 Traceback (most recent call last)",
      "Cell \u001B[0;32mIn[5], line 1\u001B[0m\n\u001B[0;32m----> 1\u001B[0m data_X, data_y \u001B[38;5;241m=\u001B[39m \u001B[43mdatasets2d\u001B[49m\u001B[38;5;241m.\u001B[39mDATASETS[\u001B[38;5;124m\"\u001B[39m\u001B[38;5;124mClusterlab10\u001B[39m\u001B[38;5;124m\"\u001B[39m]()\n\u001B[1;32m      2\u001B[0m n_components \u001B[38;5;241m=\u001B[39m \u001B[38;5;241m12\u001B[39m\n\u001B[1;32m      4\u001B[0m gmm \u001B[38;5;241m=\u001B[39m sklearn\u001B[38;5;241m.\u001B[39mmixture\u001B[38;5;241m.\u001B[39mGaussianMixture(\n\u001B[1;32m      5\u001B[0m     n_components\u001B[38;5;241m=\u001B[39mn_components,\n\u001B[1;32m      6\u001B[0m     covariance_type\u001B[38;5;241m=\u001B[39m\u001B[38;5;124m\"\u001B[39m\u001B[38;5;124mspherical\u001B[39m\u001B[38;5;124m\"\u001B[39m,\n\u001B[1;32m      7\u001B[0m )\n",
      "\u001B[0;31mNameError\u001B[0m: name 'datasets2d' is not defined"
     ]
    }
   ],
   "execution_count": 5
  },
  {
   "cell_type": "code",
   "id": "98d30b14-b4c1-48f7-a88e-f51eff28b6f1",
   "metadata": {
    "ExecuteTime": {
     "end_time": "2024-08-30T14:00:15.205940Z",
     "start_time": "2024-08-30T14:00:15.156648Z"
    }
   },
   "source": [
    "# plot the data and density\n",
    "fig, (ax1, ax2) = plt.subplots(1, 2, figsize=(16, 8))\n",
    "\n",
    "x = np.linspace(data_X[:, 0].min() - 0.1, data_X[:, 0].max() + 0.1, 128)\n",
    "y = np.linspace(data_X[:, 1].min() - 0.1, data_X[:, 1].max() + 0.1, 128)\n",
    "\n",
    "XY = np.stack(np.meshgrid(x, y), -1)\n",
    "\n",
    "p = gmm.score_samples(XY.reshape(-1, 2)).reshape(128, 128)\n",
    "\n",
    "p_jax = gmm_jax(XY.reshape(-1, 2), gmm.means_, gmm.covariances_, gmm.weights_)\n",
    "p_jax = p_jax.reshape(128, 128)\n",
    "\n",
    "print(np.abs(p - p_jax).max())\n",
    "\n",
    "r = ax1.contourf(x, y, p, levels=64, cmap=\"coolwarm\", alpha=0.5)\n",
    "\n",
    "y = gmm.predict(data_X)\n",
    "\n",
    "ax1.scatter(\n",
    "    data_X[:, 0],\n",
    "    data_X[:, 1],\n",
    "    # c=y,\n",
    "    # cmap=\"tab10\",\n",
    "    color=\"gray\",\n",
    "    alpha=0.5,\n",
    ")\n",
    "\n",
    "# plot centers\n",
    "ax1.scatter(\n",
    "    gmm.means_[:, 0],  # type: ignore\n",
    "    gmm.means_[:, 1],  # type: ignore\n",
    "    c=\"black\",\n",
    "    s=256,\n",
    "    marker=\"x\",\n",
    "    lw=3,\n",
    ")\n",
    "\n",
    "\n",
    "adjacency = np.zeros((n_components, n_components))\n",
    "\n",
    "\n",
    "# iterate through all pairs of indicies to build the graph\n",
    "for i in range(n_components):\n",
    "    for j in range(i + 1, n_components):\n",
    "\n",
    "        ms, ts, ps = compute_interpolation(\n",
    "            i, j, gmm.means_, gmm.covariances_, gmm.weights_\n",
    "        )\n",
    "\n",
    "        score = score_interpolation(ps)\n",
    "        adjacency[i, j] = score\n",
    "\n",
    "        # in case something goes wrong with the initialisation\n",
    "        if np.isnan(ps).any():\n",
    "            print(\"nan in\", i, j)\n",
    "            continue\n",
    "\n",
    "        # only draw soem of the interpolations\n",
    "        if i > 0:\n",
    "            continue\n",
    "\n",
    "        if j % 2 != 0:\n",
    "            continue\n",
    "\n",
    "        # print(ms)\n",
    "\n",
    "        # if i == 0:\n",
    "        # if j % 2 == 0:\n",
    "        k = ax1.plot(ms[:, 0], ms[:, 1], lw=3, alpha=0.5)\n",
    "\n",
    "        ax2.plot(\n",
    "            ts,\n",
    "            ps,\n",
    "            color=k[0].get_color(),\n",
    "            marker=k[0].get_marker(),\n",
    "        )\n",
    "\n",
    "        # print(i, j)\n",
    "        # break\n",
    "\n",
    "    # break\n",
    "\n",
    "adjacency = adjacency + adjacency.T\n",
    "adjacency = adjacency - np.diag(np.diag(adjacency))\n",
    "adjacency = adjacency / adjacency.max()\n",
    "\n",
    "adjacency = 1 - adjacency\n",
    "\n",
    "\n",
    "for i in range(n_components):\n",
    "    for j in range(i + 1, n_components):\n",
    "        if (adjacency[i, j]) < 0.7:\n",
    "            continue\n",
    "\n",
    "        ax1.plot(\n",
    "            [\n",
    "                gmm.means_[i, 0],  # type: ignore\n",
    "                gmm.means_[j, 0],  # type: ignore\n",
    "            ],\n",
    "            [\n",
    "                gmm.means_[i, 1],  # type: ignore\n",
    "                gmm.means_[j, 1],  # type: ignore\n",
    "            ],\n",
    "            color=\"black\",\n",
    "            alpha=(adjacency[i, j]),\n",
    "        )\n",
    "\n",
    "        # write value of adjacency nex to line\n",
    "        ax1.text(\n",
    "            (gmm.means_[i, 0] + gmm.means_[j, 0]) / 2,  # type: ignore\n",
    "            (gmm.means_[i, 1] + gmm.means_[j, 1]) / 2,  # type: ignore\n",
    "            f\"{float(adjacency[i, j]):.2f}\",\n",
    "            alpha=(adjacency[i, j]),\n",
    "        )\n",
    "\n",
    "\n",
    "ax1.set_title(\"GMM\")\n",
    "ax2.set_title(\"Interpolation\")\n",
    "\n",
    "ax2.set_xlabel(\"t\")\n",
    "ax2.set_ylabel(\"log likelihood\")\n",
    "\n",
    "plt.tight_layout()\n",
    "plt.show()\n",
    "\n",
    "plt.hist(adjacency.flatten())"
   ],
   "outputs": [
    {
     "ename": "NameError",
     "evalue": "name 'plt' is not defined",
     "output_type": "error",
     "traceback": [
      "\u001B[0;31m---------------------------------------------------------------------------\u001B[0m",
      "\u001B[0;31mNameError\u001B[0m                                 Traceback (most recent call last)",
      "Cell \u001B[0;32mIn[6], line 2\u001B[0m\n\u001B[1;32m      1\u001B[0m \u001B[38;5;66;03m# plot the data and density\u001B[39;00m\n\u001B[0;32m----> 2\u001B[0m fig, (ax1, ax2) \u001B[38;5;241m=\u001B[39m \u001B[43mplt\u001B[49m\u001B[38;5;241m.\u001B[39msubplots(\u001B[38;5;241m1\u001B[39m, \u001B[38;5;241m2\u001B[39m, figsize\u001B[38;5;241m=\u001B[39m(\u001B[38;5;241m16\u001B[39m, \u001B[38;5;241m8\u001B[39m))\n\u001B[1;32m      4\u001B[0m x \u001B[38;5;241m=\u001B[39m np\u001B[38;5;241m.\u001B[39mlinspace(data_X[:, \u001B[38;5;241m0\u001B[39m]\u001B[38;5;241m.\u001B[39mmin() \u001B[38;5;241m-\u001B[39m \u001B[38;5;241m0.1\u001B[39m, data_X[:, \u001B[38;5;241m0\u001B[39m]\u001B[38;5;241m.\u001B[39mmax() \u001B[38;5;241m+\u001B[39m \u001B[38;5;241m0.1\u001B[39m, \u001B[38;5;241m128\u001B[39m)\n\u001B[1;32m      5\u001B[0m y \u001B[38;5;241m=\u001B[39m np\u001B[38;5;241m.\u001B[39mlinspace(data_X[:, \u001B[38;5;241m1\u001B[39m]\u001B[38;5;241m.\u001B[39mmin() \u001B[38;5;241m-\u001B[39m \u001B[38;5;241m0.1\u001B[39m, data_X[:, \u001B[38;5;241m1\u001B[39m]\u001B[38;5;241m.\u001B[39mmax() \u001B[38;5;241m+\u001B[39m \u001B[38;5;241m0.1\u001B[39m, \u001B[38;5;241m128\u001B[39m)\n",
      "\u001B[0;31mNameError\u001B[0m: name 'plt' is not defined"
     ]
    }
   ],
   "execution_count": 6
  },
  {
   "cell_type": "code",
   "id": "7a404e1d-a238-45cc-9113-1c2cf40c2ce5",
   "metadata": {
    "ExecuteTime": {
     "end_time": "2024-08-30T14:00:17.351351Z",
     "start_time": "2024-08-30T14:00:17.207737Z"
    }
   },
   "source": [
    "!ls"
   ],
   "outputs": [
    {
     "name": "stdout",
     "output_type": "stream",
     "text": [
      "2d_datasets_neb_examples.ipynb\r\n",
      "README.md\r\n",
      "\u001B[34mconfigs\u001B[m\u001B[m\r\n",
      "environment.yml\r\n",
      "graphdino_morphological_embeddings_tsne.pkl\r\n",
      "main.py\r\n",
      "\u001B[34mnotebooks\u001B[m\u001B[m\r\n",
      "setup.py\r\n",
      "\u001B[34msrc\u001B[m\u001B[m\r\n"
     ]
    }
   ],
   "execution_count": 7
  },
  {
   "cell_type": "code",
   "id": "0fd719f7-127a-4510-8a1a-e742f34be4be",
   "metadata": {
    "ExecuteTime": {
     "end_time": "2024-08-30T14:00:18.850656Z",
     "start_time": "2024-08-30T14:00:18.829341Z"
    }
   },
   "source": [
    "from graphcut import disconnected_cut_threshold, label_components"
   ],
   "outputs": [
    {
     "ename": "ModuleNotFoundError",
     "evalue": "No module named 'graphcut'",
     "output_type": "error",
     "traceback": [
      "\u001B[0;31m---------------------------------------------------------------------------\u001B[0m",
      "\u001B[0;31mModuleNotFoundError\u001B[0m                       Traceback (most recent call last)",
      "Cell \u001B[0;32mIn[8], line 1\u001B[0m\n\u001B[0;32m----> 1\u001B[0m \u001B[38;5;28;01mfrom\u001B[39;00m \u001B[38;5;21;01mgraphcut\u001B[39;00m \u001B[38;5;28;01mimport\u001B[39;00m disconnected_cut_threshold, label_components\n",
      "\u001B[0;31mModuleNotFoundError\u001B[0m: No module named 'graphcut'"
     ]
    }
   ],
   "execution_count": 8
  },
  {
   "cell_type": "code",
   "id": "009a5219-bb74-49e3-bfaf-660697f36e9b",
   "metadata": {
    "ExecuteTime": {
     "end_time": "2024-08-30T14:00:21.497718Z",
     "start_time": "2024-08-30T14:00:21.480440Z"
    }
   },
   "source": [
    "unique_dist = sorted(list(set(adjacency.flatten())))"
   ],
   "outputs": [
    {
     "ename": "NameError",
     "evalue": "name 'adjacency' is not defined",
     "output_type": "error",
     "traceback": [
      "\u001B[0;31m---------------------------------------------------------------------------\u001B[0m",
      "\u001B[0;31mNameError\u001B[0m                                 Traceback (most recent call last)",
      "Cell \u001B[0;32mIn[9], line 1\u001B[0m\n\u001B[0;32m----> 1\u001B[0m unique_dist \u001B[38;5;241m=\u001B[39m \u001B[38;5;28msorted\u001B[39m(\u001B[38;5;28mlist\u001B[39m(\u001B[38;5;28mset\u001B[39m(\u001B[43madjacency\u001B[49m\u001B[38;5;241m.\u001B[39mflatten())))\n",
      "\u001B[0;31mNameError\u001B[0m: name 'adjacency' is not defined"
     ]
    }
   ],
   "execution_count": 9
  },
  {
   "cell_type": "code",
   "id": "8e3de79a-91a8-47d3-ab12-559ed5aeb2a1",
   "metadata": {
    "ExecuteTime": {
     "end_time": "2024-08-30T14:00:23.134932Z",
     "start_time": "2024-08-30T14:00:23.112454Z"
    }
   },
   "source": [
    "cc_dict = {}\n",
    "g = nx.from_numpy_array(adjacency)\n",
    "prev_cc = nx.number_connected_components(g) \n",
    "cc_dict[prev_cc] = 0\n",
    "for i in unique_dist:\n",
    "    g = nx.from_numpy_array(adjacency > i)\n",
    "    cc = nx.number_connected_components(g) \n",
    "    if cc >  prev_cc:\n",
    "        print(cc, i)\n",
    "        prev_cc = cc\n",
    "        cc_dict[prev_cc] = i"
   ],
   "outputs": [
    {
     "ename": "NameError",
     "evalue": "name 'nx' is not defined",
     "output_type": "error",
     "traceback": [
      "\u001B[0;31m---------------------------------------------------------------------------\u001B[0m",
      "\u001B[0;31mNameError\u001B[0m                                 Traceback (most recent call last)",
      "Cell \u001B[0;32mIn[10], line 2\u001B[0m\n\u001B[1;32m      1\u001B[0m cc_dict \u001B[38;5;241m=\u001B[39m {}\n\u001B[0;32m----> 2\u001B[0m g \u001B[38;5;241m=\u001B[39m \u001B[43mnx\u001B[49m\u001B[38;5;241m.\u001B[39mfrom_numpy_array(adjacency)\n\u001B[1;32m      3\u001B[0m prev_cc \u001B[38;5;241m=\u001B[39m nx\u001B[38;5;241m.\u001B[39mnumber_connected_components(g) \n\u001B[1;32m      4\u001B[0m cc_dict[prev_cc] \u001B[38;5;241m=\u001B[39m \u001B[38;5;241m0\u001B[39m\n",
      "\u001B[0;31mNameError\u001B[0m: name 'nx' is not defined"
     ]
    }
   ],
   "execution_count": 10
  },
  {
   "cell_type": "code",
   "id": "d852df29-0022-46d5-a03c-b10a0ff6fe07",
   "metadata": {
    "ExecuteTime": {
     "end_time": "2024-08-30T14:00:25.217278Z",
     "start_time": "2024-08-30T14:00:25.195239Z"
    }
   },
   "source": [
    "for i in range(2, n_components):\n",
    "    t = cc_dict[i]\n",
    "    adjacency_cut = adjacency > t\n",
    "    cs = label_components(adjacency_cut)\n",
    "\n",
    "    plt.scatter(\n",
    "        data_X[:, 0],\n",
    "        data_X[:, 1],\n",
    "        # c=y,\n",
    "        # cmap=\"tab10\",\n",
    "        color=\"gray\",\n",
    "        alpha=0.5,\n",
    "    )\n",
    "\n",
    "    plt.scatter(\n",
    "        gmm.means_[:, 0],  # type: ignore\n",
    "        gmm.means_[:, 1],  # type: ignore\n",
    "        c=cs,\n",
    "        cmap=\"tab10\",\n",
    "    )\n",
    "    plt.title(f\"Threshold: {t:.2f}, Clusters {i}\")\n",
    "    plt.show()\n",
    "\n",
    "\n"
   ],
   "outputs": [
    {
     "ename": "NameError",
     "evalue": "name 'n_components' is not defined",
     "output_type": "error",
     "traceback": [
      "\u001B[0;31m---------------------------------------------------------------------------\u001B[0m",
      "\u001B[0;31mNameError\u001B[0m                                 Traceback (most recent call last)",
      "Cell \u001B[0;32mIn[11], line 1\u001B[0m\n\u001B[0;32m----> 1\u001B[0m \u001B[38;5;28;01mfor\u001B[39;00m i \u001B[38;5;129;01min\u001B[39;00m \u001B[38;5;28mrange\u001B[39m(\u001B[38;5;241m2\u001B[39m, \u001B[43mn_components\u001B[49m):\n\u001B[1;32m      2\u001B[0m     t \u001B[38;5;241m=\u001B[39m cc_dict[i]\n\u001B[1;32m      3\u001B[0m     adjacency_cut \u001B[38;5;241m=\u001B[39m adjacency \u001B[38;5;241m>\u001B[39m t\n",
      "\u001B[0;31mNameError\u001B[0m: name 'n_components' is not defined"
     ]
    }
   ],
   "execution_count": 11
  },
  {
   "cell_type": "code",
   "id": "17f9d1e5-bc34-4dd2-a5eb-45207e769f0e",
   "metadata": {
    "ExecuteTime": {
     "end_time": "2024-08-30T14:00:26.719613Z",
     "start_time": "2024-08-30T14:00:26.701602Z"
    }
   },
   "source": [
    "plt.xlabel(\"Number of clusters\")\n",
    "plt.ylabel(\"Normalised Threshold\")\n",
    "\n",
    "plt.plot([*range(2, n_components)], list(cc_dict.values())[1:-1])\n",
    "plt.xticks([*range(2, n_components)])\n",
    "plt.grid()\n",
    "plt.show()"
   ],
   "outputs": [
    {
     "ename": "NameError",
     "evalue": "name 'plt' is not defined",
     "output_type": "error",
     "traceback": [
      "\u001B[0;31m---------------------------------------------------------------------------\u001B[0m",
      "\u001B[0;31mNameError\u001B[0m                                 Traceback (most recent call last)",
      "Cell \u001B[0;32mIn[12], line 1\u001B[0m\n\u001B[0;32m----> 1\u001B[0m \u001B[43mplt\u001B[49m\u001B[38;5;241m.\u001B[39mxlabel(\u001B[38;5;124m\"\u001B[39m\u001B[38;5;124mNumber of clusters\u001B[39m\u001B[38;5;124m\"\u001B[39m)\n\u001B[1;32m      2\u001B[0m plt\u001B[38;5;241m.\u001B[39mylabel(\u001B[38;5;124m\"\u001B[39m\u001B[38;5;124mNormalised Threshold\u001B[39m\u001B[38;5;124m\"\u001B[39m)\n\u001B[1;32m      4\u001B[0m plt\u001B[38;5;241m.\u001B[39mplot([\u001B[38;5;241m*\u001B[39m\u001B[38;5;28mrange\u001B[39m(\u001B[38;5;241m2\u001B[39m, n_components)], \u001B[38;5;28mlist\u001B[39m(cc_dict\u001B[38;5;241m.\u001B[39mvalues())[\u001B[38;5;241m1\u001B[39m:\u001B[38;5;241m-\u001B[39m\u001B[38;5;241m1\u001B[39m])\n",
      "\u001B[0;31mNameError\u001B[0m: name 'plt' is not defined"
     ]
    }
   ],
   "execution_count": 12
  },
  {
   "cell_type": "code",
   "execution_count": null,
   "id": "bbdfe614-5bdc-4203-beaa-34d00555f66c",
   "metadata": {},
   "outputs": [],
   "source": [
    "# pip install -U \"jax[cuda12]\""
   ]
  }
 ],
 "metadata": {
  "kernelspec": {
   "display_name": "Python 3 (ipykernel)",
   "language": "python",
   "name": "python3"
  },
  "language_info": {
   "codemirror_mode": {
    "name": "ipython",
    "version": 3
   },
   "file_extension": ".py",
   "mimetype": "text/x-python",
   "name": "python",
   "nbconvert_exporter": "python",
   "pygments_lexer": "ipython3",
   "version": "3.9.19"
  }
 },
 "nbformat": 4,
 "nbformat_minor": 5
}
