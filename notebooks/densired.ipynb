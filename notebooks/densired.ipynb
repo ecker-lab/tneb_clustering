{
 "cells": [
  {
   "cell_type": "markdown",
   "id": "ff6aff1c-bac3-4c75-874b-563bb2a2106f",
   "metadata": {},
   "source": [
    "# Density-Connected Datasets\n",
    "\n",
    "Generation scripts for DENSIRED scripts.\n",
    "\n",
    "This is the script that we used to generate all densired-datasets which are stored in densired.npz and densired_soft.npz in the datasets folder.\n",
    "\n",
    "Since densired requires `numpy>=2.0` while other packages rely on `numpy<2.0` one needs a dedicated environment with the package `densired` installed.\n",
    "\n",
    "In order to run this script, please install the dedicated environment by running:\n",
    "\n",
    "`conda env create -f environment_densired.yml`"
   ]
  },
  {
   "cell_type": "code",
   "execution_count": 1,
   "id": "initial_id",
   "metadata": {
    "ExecuteTime": {
     "end_time": "2024-09-17T14:38:36.943424Z",
     "start_time": "2024-09-17T14:38:36.925765Z"
    }
   },
   "outputs": [],
   "source": [
    "%load_ext autoreload\n",
    "%autoreload 2"
   ]
  },
  {
   "cell_type": "code",
   "execution_count": 2,
   "id": "f47d3e14",
   "metadata": {},
   "outputs": [],
   "source": [
    "import corc"
   ]
  },
  {
   "cell_type": "code",
   "execution_count": 29,
   "id": "e81c4c97464b09f7",
   "metadata": {
    "ExecuteTime": {
     "end_time": "2024-09-17T14:30:27.412592Z",
     "start_time": "2024-09-17T14:30:21.343604Z"
    }
   },
   "outputs": [],
   "source": [
    "import densired\n",
    "import numpy as np\n",
    "import sklearn.preprocessing\n",
    "import time\n",
    "import matplotlib.pyplot as plt\n",
    "import corc.visualization\n"
   ]
  },
  {
   "cell_type": "code",
   "execution_count": 4,
   "id": "d2f31153-e4d9-4fa9-ba36-db0d532e679f",
   "metadata": {},
   "outputs": [],
   "source": [
    "# note that the data was generated without fixing the seed. \n",
    "# So the created dataset will look slightly different.\n",
    "\n",
    "funky_shapes = dict()\n",
    "for dim in [8,16,32,64]:\n",
    "    skeleton = densired.datagen.densityDataGen(\n",
    "        dim=dim,\n",
    "        radius=5,\n",
    "        clunum=6,\n",
    "        core_num=200,\n",
    "        min_dist=0.7,\n",
    "        dens_factors=True,\n",
    "        step_spread=0.3,\n",
    "        # ratio_noise=0.1,\n",
    "        ratio_con=0.01,\n",
    "        seed=42\n",
    "    )\n",
    "    points = skeleton.generate_data(data_num=10000)\n",
    "    funky_shapes[dim] = points\n",
    "        \n",
    "with open('densired.npz', 'wb') as f:\n",
    "    np.savez(f, d8=funky_shapes[8], d16=funky_shapes[16], d32=funky_shapes[32], d64=funky_shapes[64])"
   ]
  },
  {
   "cell_type": "code",
   "execution_count": 5,
   "id": "112c0c86",
   "metadata": {},
   "outputs": [],
   "source": [
    "# note that the data was generated without fixing the seed. \n",
    "# So the created dataset will look slightly different.\n",
    "\n",
    "funky_shapes = dict()\n",
    "for dim in [8,16,32,64]:\n",
    "    skeleton = densired.datagen.densityDataGen(\n",
    "        dim=dim,\n",
    "        radius=5,\n",
    "        clunum=6,\n",
    "        core_num=200,\n",
    "        min_dist=1.2,\n",
    "        dens_factors=True,\n",
    "        step_spread=0.3,\n",
    "        # ratio_noise=0.1,\n",
    "        ratio_con=0.01,\n",
    "        distribution=\"studentt\",\n",
    "        con_distribution=4,\n",
    "        seed=42\n",
    "    )\n",
    "    points = skeleton.generate_data(data_num=10000)\n",
    "    funky_shapes[dim] = points\n",
    "        \n",
    "with open('densired_soft.npz', 'wb') as f:\n",
    "    np.savez(f, d8=funky_shapes[8], d16=funky_shapes[16], d32=funky_shapes[32], d64=funky_shapes[64])"
   ]
  },
  {
   "cell_type": "markdown",
   "id": "36410f2c",
   "metadata": {},
   "source": [
    "## Additional code to check whether the created dataset is linearly separable"
   ]
  },
  {
   "cell_type": "code",
   "execution_count": 27,
   "id": "c74156f0",
   "metadata": {},
   "outputs": [],
   "source": [
    "with open('densired_soft.npz', 'rb') as f:\n",
    "    data = np.load(f)\n",
    "\n",
    "    X = data['d8'][:, :-1] # or d16, d32, d64\n",
    "    y = data['d8'][:, -1] # or d16, d32, d64"
   ]
  },
  {
   "cell_type": "code",
   "execution_count": 28,
   "id": "f037de3a5b3c6de",
   "metadata": {
    "ExecuteTime": {
     "end_time": "2024-09-17T14:27:03.911846Z",
     "start_time": "2024-09-17T14:27:03.886593Z"
    }
   },
   "outputs": [
    {
     "name": "stdout",
     "output_type": "stream",
     "text": [
      "Accuracy: 0.9425\n"
     ]
    },
    {
     "data": {
      "image/png": "[encoded data removed]",
      "text/plain": [
       "<Figure size 640x480 with 1 Axes>"
      ]
     },
     "metadata": {},
     "output_type": "display_data"
    }
   ],
   "source": [
    "import torch\n",
    "import sklearn.model_selection\n",
    "\n",
    "# constants\n",
    "noise = True\n",
    "dim = X.shape[1]\n",
    "classes = int(np.max(y))+1 \n",
    "if noise:\n",
    "    classes += 1 # for the noise class\n",
    "\n",
    "\n",
    "# data loading\n",
    "if noise:\n",
    "    y += 1# shift to avoid -1 for the noise points\n",
    "\n",
    "X = torch.tensor(X, dtype=torch.float32)\n",
    "y = torch.tensor(y, dtype=torch.int64) \n",
    "X_train, X_test, y_train, y_test = sklearn.model_selection.train_test_split(X, y, test_size=0.2, random_state=42)\n",
    "train_dataset = torch.utils.data.TensorDataset(X_train, y_train)\n",
    "test_dataset = torch.utils.data.TensorDataset(X_test, y_test)\n",
    "train_loader = torch.utils.data.DataLoader(train_dataset, batch_size=32, shuffle=True)\n",
    "test_loader = torch.utils.data.DataLoader(test_dataset, batch_size=32, shuffle=True)\n",
    "\n",
    "# model = torch.nn.Sequential(\n",
    "#     torch.nn.Linear(dim, 64),\n",
    "#     torch.nn.ReLU(),\n",
    "#     torch.nn.Linear(64, 64),\n",
    "#     torch.nn.ReLU(),\n",
    "#     torch.nn.Linear(64, classes),\n",
    "# )\n",
    "\n",
    "model = torch.nn.Linear(dim, classes)\n",
    "\n",
    "optimizer = torch.optim.Adam(model.parameters(), lr=1e-3)\n",
    "\n",
    "num_epochs = 100\n",
    "\n",
    "# train model\n",
    "losses = list()\n",
    "for epoch in range(num_epochs):\n",
    "    epoch_loss = 0.0\n",
    "    for x,y in train_loader:\n",
    "        starttime = time.time()\n",
    "        y_pred = model(x)\n",
    "        loss = torch.nn.functional.cross_entropy(y_pred, y)\n",
    "        optimizer.zero_grad()\n",
    "        loss.backward()\n",
    "        optimizer.step()\n",
    "        epoch_loss += loss.item() * x.size(0)\n",
    "    losses.append(epoch_loss / len(train_loader))\n",
    "\n",
    "# check accuracy\n",
    "model.eval()\n",
    "total = 0\n",
    "correct = 0\n",
    "for x,y in test_loader:\n",
    "    y_pred = model(x)\n",
    "    _, y_pred = torch.max(y_pred, 1)\n",
    "    total += y.size(0)\n",
    "    correct += (y_pred == y).sum().item()\n",
    "accuracy = correct / total\n",
    "print(f'Accuracy: {accuracy}')\n",
    "\n",
    "# plot training loss\n",
    "plt.plot(losses)\n",
    "plt.xlabel('Epoch')\n",
    "plt.ylabel('Loss')\n",
    "plt.show()"
   ]
  }
 ],
 "metadata": {
  "kernelspec": {
   "display_name": "densired",
   "language": "python",
   "name": "python3"
  },
  "language_info": {
   "codemirror_mode": {
    "name": "ipython",
    "version": 3
   },
   "file_extension": ".py",
   "mimetype": "text/x-python",
   "name": "python",
   "nbconvert_exporter": "python",
   "pygments_lexer": "ipython3",
   "version": "3.13.2"
  }
 },
 "nbformat": 4,
 "nbformat_minor": 5
}
