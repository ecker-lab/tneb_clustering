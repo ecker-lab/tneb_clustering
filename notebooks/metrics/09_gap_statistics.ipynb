{
 "cells": [
  {
   "cell_type": "markdown",
   "id": "ee1d72e6",
   "metadata": {},
   "source": [
    "Install gapstatistics from https://github.com/Mavengence/GapStatistics/tree/main"
   ]
  },
  {
   "cell_type": "code",
   "execution_count": null,
   "id": "35451fce",
   "metadata": {},
   "outputs": [],
   "source": [
    "from gapstatistics.gapstatistics import GapStatistics\n",
    "\n",
    "import pandas as pd\n",
    "import seaborn as sns\n",
    "import matplotlib.pyplot as plt\n",
    "import numpy as np\n",
    "\n",
    "from sklearn.cluster import KMeans\n",
    "from sklearn.manifold import TSNE\n",
    "import warnings\n",
    "from tqdm import tqdm\n",
    "from sklearn.manifold import trustworthiness\n",
    "from corc.generation import GenerationModel"
   ]
  },
  {
   "cell_type": "markdown",
   "id": "604d83a4",
   "metadata": {},
   "source": [
    "## Equividistant triangle, 2 dim, different stds"
   ]
  },
  {
   "cell_type": "code",
   "execution_count": null,
   "id": "11e083aa",
   "metadata": {},
   "outputs": [],
   "source": [
    "params = {\n",
    "    'center_structure': 'equidistant_triangle',\n",
    "    'n_centers': 3,\n",
    "    'distance': 1,\n",
    "    'n_samples': 1000,\n",
    "    'std':0.01,\n",
    "    'dim': 2,\n",
    "}\n"
   ]
  },
  {
   "cell_type": "code",
   "execution_count": null,
   "id": "41788b69",
   "metadata": {},
   "outputs": [],
   "source": [
    "params['std'] = 0.01\n",
    "gen = GenerationModel(**params)\n",
    "data = gen.sample_embedding()\n",
    "plt.scatter(data[:, 0], data[:, 1], c=gen.labels)\n",
    "\n",
    "\n",
    "gs = GapStatistics(return_params=True)\n",
    "\n",
    "optimum, _ = gs.fit_predict(K=20, X=data)\n",
    "\n",
    "gs.plot()"
   ]
  },
  {
   "cell_type": "code",
   "execution_count": null,
   "id": "e1e1e45c",
   "metadata": {},
   "outputs": [],
   "source": [
    "params['std'] = 0.03\n",
    "gen = GenerationModel(**params)\n",
    "data = gen.sample_embedding()\n",
    "plt.scatter(data[:, 0], data[:, 1], c=gen.labels)\n",
    "\n",
    "\n",
    "gs = GapStatistics(return_params=True)\n",
    "\n",
    "optimum, _ = gs.fit_predict(K=20, X=data)\n",
    "\n",
    "gs.plot()"
   ]
  },
  {
   "cell_type": "code",
   "execution_count": null,
   "id": "f10a8edd",
   "metadata": {},
   "outputs": [],
   "source": [
    "params['std'] = 0.05\n",
    "gen = GenerationModel(**params)\n",
    "data = gen.sample_embedding()\n",
    "plt.scatter(data[:, 0], data[:, 1], c=gen.labels)\n",
    "\n",
    "\n",
    "gs = GapStatistics(return_params=True)\n",
    "\n",
    "optimum, _ = gs.fit_predict(K=20, X=data)\n",
    "\n",
    "gs.plot()"
   ]
  },
  {
   "cell_type": "code",
   "execution_count": null,
   "id": "791419ed",
   "metadata": {},
   "outputs": [],
   "source": [
    "params['std'] = 0.1\n",
    "gen = GenerationModel(**params)\n",
    "data = gen.sample_embedding()\n",
    "plt.scatter(data[:, 0], data[:, 1], c=gen.labels)\n",
    "\n",
    "\n",
    "gs = GapStatistics(return_params=True)\n",
    "\n",
    "optimum, _ = gs.fit_predict(K=20, X=data)\n",
    "\n",
    "gs.plot()"
   ]
  },
  {
   "cell_type": "markdown",
   "id": "2730eb91",
   "metadata": {},
   "source": [
    "## 5 clusters, 2d different stds\n",
    "\n",
    "# Conclusion,\n",
    "\n",
    "### when there are clusters with big and small distances between centers but we still see the modes - the gap statistics tend to underestimate the number of clusters"
   ]
  },
  {
   "cell_type": "code",
   "execution_count": null,
   "id": "74452308",
   "metadata": {},
   "outputs": [],
   "source": [
    "params = {\n",
    "    'center_structure': 'uniform',\n",
    "    'n_centers': 5,\n",
    "    'distance': 1,\n",
    "    'n_samples': 1000,\n",
    "    'dim': 2,\n",
    "    'save_file': False,\n",
    "    'outdir': '.', \n",
    "    'std' : 0.2\n",
    "}"
   ]
  },
  {
   "cell_type": "code",
   "execution_count": null,
   "id": "b8685235",
   "metadata": {},
   "outputs": [],
   "source": [
    "params['std'] = 0.01\n",
    "gen = GenerationModel(**params)\n",
    "data = gen.sample_embedding()\n",
    "plt.scatter(data[:, 0], data[:, 1], c=gen.labels)"
   ]
  },
  {
   "cell_type": "code",
   "execution_count": null,
   "id": "9513901a",
   "metadata": {},
   "outputs": [],
   "source": [
    "warnings.filterwarnings(\"ignore\")\n",
    "\n",
    "gs = GapStatistics(return_params=True)\n",
    "\n",
    "optimum, _ = gs.fit_predict(K=10, X=data)\n",
    "\n",
    "gs.plot()"
   ]
  },
  {
   "cell_type": "code",
   "execution_count": null,
   "id": "55c26758",
   "metadata": {},
   "outputs": [],
   "source": [
    "params['std'] = 0.03\n",
    "gen = GenerationModel(**params)\n",
    "data = gen.sample_embedding()\n",
    "plt.scatter(data[:, 0], data[:, 1], c=gen.labels)"
   ]
  },
  {
   "cell_type": "code",
   "execution_count": null,
   "id": "2eb8fcb3",
   "metadata": {},
   "outputs": [],
   "source": [
    "warnings.filterwarnings(\"ignore\")\n",
    "\n",
    "gs = GapStatistics(return_params=True)\n",
    "\n",
    "optimum, _ = gs.fit_predict(K=10, X=data)\n",
    "\n",
    "gs.plot()"
   ]
  },
  {
   "cell_type": "code",
   "execution_count": null,
   "id": "d132e166",
   "metadata": {},
   "outputs": [],
   "source": [
    "warnings.filterwarnings(\"ignore\")\n",
    "\n",
    "gs = GapStatistics(return_params=True)\n",
    "\n",
    "optimum, _ = gs.fit_predict(K=10, X=data)\n",
    "\n",
    "gs.plot()"
   ]
  },
  {
   "cell_type": "code",
   "execution_count": null,
   "id": "05007297",
   "metadata": {},
   "outputs": [],
   "source": [
    "params['std'] = 0.05\n",
    "gen = GenerationModel(**params)\n",
    "data = gen.sample_embedding()\n",
    "plt.scatter(data[:, 0], data[:, 1], c=gen.labels)\n",
    "# tsne = TSNE(n_components=2).fit_transform(data)\n",
    "# plt.scatter(tsne[:,0], tsne[:,1], c=gen.labels)"
   ]
  },
  {
   "cell_type": "code",
   "execution_count": null,
   "id": "626879f3",
   "metadata": {},
   "outputs": [],
   "source": [
    "warnings.filterwarnings(\"ignore\")\n",
    "\n",
    "gs = GapStatistics(return_params=True)\n",
    "\n",
    "optimum, _ = gs.fit_predict(K=10, X=data)\n",
    "\n",
    "gs.plot()"
   ]
  },
  {
   "cell_type": "code",
   "execution_count": null,
   "id": "c85e68d9",
   "metadata": {},
   "outputs": [],
   "source": [
    "params['std'] = 0.05\n",
    "gen = GenerationModel(**params)\n",
    "data = gen.sample_embedding()\n",
    "plt.scatter(data[:, 0], data[:, 1], c=gen.labels)"
   ]
  },
  {
   "cell_type": "code",
   "execution_count": null,
   "id": "78c83979",
   "metadata": {},
   "outputs": [],
   "source": [
    "warnings.filterwarnings(\"ignore\")\n",
    "\n",
    "gs = GapStatistics(return_params=True)\n",
    "\n",
    "optimum, _ = gs.fit_predict(K=10, X=data)\n",
    "\n",
    "gs.plot()"
   ]
  },
  {
   "cell_type": "markdown",
   "id": "d1057886",
   "metadata": {},
   "source": [
    "## 10 centers, 2d, different stds\n",
    "\n",
    "## Still tends to underestimate the amount of clusters"
   ]
  },
  {
   "cell_type": "code",
   "execution_count": null,
   "id": "4c3cee9a",
   "metadata": {},
   "outputs": [],
   "source": [
    "params = {\n",
    "    'center_structure': 'uniform',\n",
    "    'n_centers': 10,\n",
    "    'distance': 1,\n",
    "    'n_samples': 1000,\n",
    "    'dim': 2,\n",
    "    'save_file': False,\n",
    "    'outdir': '.', \n",
    "    'std' : 0.2\n",
    "}"
   ]
  },
  {
   "cell_type": "code",
   "execution_count": null,
   "id": "c5255ca2",
   "metadata": {},
   "outputs": [],
   "source": [
    "warnings.filterwarnings(\"ignore\")\n",
    "\n",
    "params['std'] = 0.01\n",
    "gen = GenerationModel(**params)\n",
    "data = gen.sample_embedding()\n",
    "plt.scatter(data[:, 0], data[:, 1], c=gen.labels)\n",
    "\n",
    "\n",
    "gs = GapStatistics(return_params=True)\n",
    "\n",
    "optimum, _ = gs.fit_predict(K=20, X=data)\n",
    "\n",
    "gs.plot()"
   ]
  },
  {
   "cell_type": "code",
   "execution_count": null,
   "id": "469fe0a7",
   "metadata": {},
   "outputs": [],
   "source": [
    "warnings.filterwarnings(\"ignore\")\n",
    "\n",
    "params['std'] = 0.03\n",
    "gen = GenerationModel(**params)\n",
    "data = gen.sample_embedding()\n",
    "plt.scatter(data[:, 0], data[:, 1], c=gen.labels)\n",
    "\n",
    "\n",
    "gs = GapStatistics(return_params=True)\n",
    "\n",
    "optimum, _ = gs.fit_predict(K=20, X=data)\n",
    "\n",
    "gs.plot()"
   ]
  },
  {
   "cell_type": "code",
   "execution_count": null,
   "id": "9a45955e",
   "metadata": {},
   "outputs": [],
   "source": [
    "warnings.filterwarnings(\"ignore\")\n",
    "\n",
    "params['std'] = 0.05\n",
    "gen = GenerationModel(**params)\n",
    "data = gen.sample_embedding()\n",
    "plt.scatter(data[:, 0], data[:, 1], c=gen.labels)\n",
    "\n",
    "\n",
    "gs = GapStatistics(return_params=True)\n",
    "\n",
    "optimum, _ = gs.fit_predict(K=20, X=data)\n",
    "\n",
    "gs.plot()"
   ]
  }
 ],
 "metadata": {
  "kernelspec": {
   "display_name": "Python 3 (ipykernel)",
   "language": "python",
   "name": "python3"
  },
  "language_info": {
   "codemirror_mode": {
    "name": "ipython",
    "version": 3
   },
   "file_extension": ".py",
   "mimetype": "text/x-python",
   "name": "python",
   "nbconvert_exporter": "python",
   "pygments_lexer": "ipython3",
   "version": "3.9.18"
  }
 },
 "nbformat": 4,
 "nbformat_minor": 5
}
