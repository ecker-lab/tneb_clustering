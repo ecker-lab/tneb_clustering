{
 "cells": [
  {
   "attachments": {},
   "cell_type": "markdown",
   "metadata": {},
   "source": [
    "# Clustering of embeddings -> Cluster or continuum?"
   ]
  },
  {
   "cell_type": "code",
   "execution_count": null,
   "metadata": {},
   "outputs": [],
   "source": [
    "import pandas as pd\n",
    "import seaborn as sns\n",
    "import matplotlib.pyplot as plt\n",
    "import numpy as np\n",
    "\n",
    "from sklearn.cluster import KMeans\n",
    "from sklearn.metrics import silhouette_score\n",
    "from sklearn.manifold import TSNE"
   ]
  },
  {
   "attachments": {},
   "cell_type": "markdown",
   "metadata": {},
   "source": [
    "## Get data"
   ]
  },
  {
   "attachments": {},
   "cell_type": "markdown",
   "metadata": {},
   "source": [
    "### sample points from uniform distribution with 32 dimensions"
   ]
  },
  {
   "cell_type": "code",
   "execution_count": null,
   "metadata": {},
   "outputs": [],
   "source": [
    "n_samples = 1000\n",
    "dim = 32\n",
    "\n",
    "n_centers = 10\n",
    "n_samples_around_c = 100"
   ]
  },
  {
   "attachments": {},
   "cell_type": "markdown",
   "metadata": {},
   "source": [
    "## uniform"
   ]
  },
  {
   "cell_type": "code",
   "execution_count": null,
   "metadata": {},
   "outputs": [],
   "source": [
    "latent_emb = np.random.uniform(0,1,(n_samples, dim))\n",
    "latent_emb.shape"
   ]
  },
  {
   "cell_type": "code",
   "execution_count": null,
   "metadata": {},
   "outputs": [],
   "source": [
    "clustering = pd.DataFrame(TSNE(n_components=2, perplexity=30).fit_transform(latent_emb), columns=['x', 'y'])\n",
    "sns.scatterplot(data=clustering, x='x', y='y')\n",
    "plt.show()"
   ]
  },
  {
   "cell_type": "code",
   "execution_count": null,
   "metadata": {},
   "outputs": [],
   "source": [
    "KMean= KMeans(n_clusters=2)\n",
    "KMean.fit(latent_emb)\n",
    "label=KMean.predict(latent_emb)\n",
    "\n",
    "print(f'Silhouette Score(n=2): {silhouette_score(latent_emb, label)}')\n",
    "\n",
    "KMean= KMeans(n_clusters=10)\n",
    "KMean.fit(latent_emb)\n",
    "label=KMean.predict(latent_emb)\n",
    "\n",
    "print(f'Silhouette Score(n=10): {silhouette_score(latent_emb, label)}')\n",
    "\n",
    "KMean= KMeans(n_clusters=20)\n",
    "KMean.fit(latent_emb)\n",
    "label=KMean.predict(latent_emb)\n",
    "\n",
    "print(f'Silhouette Score(n=20): {silhouette_score(latent_emb, label)}')"
   ]
  },
  {
   "attachments": {},
   "cell_type": "markdown",
   "metadata": {},
   "source": [
    "## std = 0.01"
   ]
  },
  {
   "cell_type": "code",
   "execution_count": null,
   "metadata": {},
   "outputs": [],
   "source": [
    "cluster_centers = np.random.uniform(0,1,size=(n_centers, dim))\n",
    "latent_emb = []\n",
    "labels = []\n",
    "\n",
    "# create data\n",
    "for ci, c in enumerate(cluster_centers):\n",
    "    samples = np.random.normal(c, 0.01, size=(n_samples_around_c, dim))\n",
    "    latent_emb.append(samples)\n",
    "    labels.append(np.ones(len(samples))*ci)\n",
    "\n",
    "latent_emb = np.array(latent_emb).reshape(n_centers*n_samples_around_c, -1)\n",
    "labels = np.array(labels).reshape(n_centers*n_samples_around_c, -1)"
   ]
  },
  {
   "cell_type": "code",
   "execution_count": null,
   "metadata": {},
   "outputs": [],
   "source": [
    "clustering = pd.DataFrame(TSNE(n_components=2, perplexity=30).fit_transform(latent_emb), columns=['x', 'y'])\n",
    "sns.scatterplot(data=clustering, x='x', y='y')\n",
    "plt.show()"
   ]
  },
  {
   "cell_type": "code",
   "execution_count": null,
   "metadata": {},
   "outputs": [],
   "source": [
    "KMean= KMeans(n_clusters=2)\n",
    "KMean.fit(latent_emb)\n",
    "label=KMean.predict(latent_emb)\n",
    "\n",
    "print(f'Silhouette Score(n=2): {silhouette_score(latent_emb, label)}')\n",
    "\n",
    "KMean= KMeans(n_clusters=10)\n",
    "KMean.fit(latent_emb)\n",
    "label=KMean.predict(latent_emb)\n",
    "\n",
    "print(f'Silhouette Score(n=10): {silhouette_score(latent_emb, label)}')\n",
    "\n",
    "KMean= KMeans(n_clusters=20)\n",
    "KMean.fit(latent_emb)\n",
    "label=KMean.predict(latent_emb)\n",
    "\n",
    "print(f'Silhouette Score(n=20): {silhouette_score(latent_emb, label)}')"
   ]
  },
  {
   "attachments": {},
   "cell_type": "markdown",
   "metadata": {},
   "source": [
    "## std = 0.3"
   ]
  },
  {
   "cell_type": "code",
   "execution_count": null,
   "metadata": {},
   "outputs": [],
   "source": [
    "cluster_centers = np.random.uniform(0,1,size=(n_centers, dim))\n",
    "latent_emb = []\n",
    "labels = []\n",
    "\n",
    "# create data\n",
    "for ci, c in enumerate(cluster_centers):\n",
    "    samples = np.random.normal(c, 0.3, size=(n_samples_around_c, dim))\n",
    "    latent_emb.append(samples)\n",
    "    labels.append(np.ones(len(samples))*ci)\n",
    "\n",
    "latent_emb = np.array(latent_emb).reshape(n_centers*n_samples_around_c, -1)\n",
    "labels = np.array(labels).reshape(n_centers*n_samples_around_c, -1)"
   ]
  },
  {
   "cell_type": "code",
   "execution_count": null,
   "metadata": {},
   "outputs": [],
   "source": [
    "clustering = pd.DataFrame(TSNE(n_components=2, perplexity=30).fit_transform(latent_emb), columns=['x', 'y'])\n",
    "sns.scatterplot(data=clustering, x='x', y='y')\n",
    "plt.show()"
   ]
  },
  {
   "cell_type": "code",
   "execution_count": null,
   "metadata": {},
   "outputs": [],
   "source": [
    "KMean= KMeans(n_clusters=2)\n",
    "KMean.fit(latent_emb)\n",
    "label=KMean.predict(latent_emb)\n",
    "\n",
    "print(f'Silhouette Score(n=2): {silhouette_score(latent_emb, label)}')\n",
    "\n",
    "KMean= KMeans(n_clusters=10)\n",
    "KMean.fit(latent_emb)\n",
    "label=KMean.predict(latent_emb)\n",
    "\n",
    "print(f'Silhouette Score(n=10): {silhouette_score(latent_emb, label)}')\n",
    "\n",
    "KMean= KMeans(n_clusters=20)\n",
    "KMean.fit(latent_emb)\n",
    "label=KMean.predict(latent_emb)\n",
    "\n",
    "print(f'Silhouette Score(n=20): {silhouette_score(latent_emb, label)}')"
   ]
  },
  {
   "attachments": {},
   "cell_type": "markdown",
   "metadata": {},
   "source": [
    "## std = 0.4"
   ]
  },
  {
   "cell_type": "code",
   "execution_count": null,
   "metadata": {},
   "outputs": [],
   "source": [
    "cluster_centers = np.random.uniform(0,1,size=(n_centers, dim))\n",
    "latent_emb = []\n",
    "labels = []\n",
    "\n",
    "# create data\n",
    "for ci, c in enumerate(cluster_centers):\n",
    "    samples = np.random.normal(c, 0.4, size=(n_samples_around_c, dim))\n",
    "    latent_emb.append(samples)\n",
    "    labels.append(np.ones(len(samples))*ci)\n",
    "\n",
    "latent_emb = np.array(latent_emb).reshape(n_centers*n_samples_around_c, -1)\n",
    "labels = np.array(labels).reshape(n_centers*n_samples_around_c, -1)"
   ]
  },
  {
   "cell_type": "code",
   "execution_count": null,
   "metadata": {},
   "outputs": [],
   "source": [
    "clustering = pd.DataFrame(TSNE(n_components=2, perplexity=30).fit_transform(latent_emb), columns=['x', 'y'])\n",
    "sns.scatterplot(data=clustering, x='x', y='y')\n",
    "plt.show()"
   ]
  },
  {
   "cell_type": "code",
   "execution_count": null,
   "metadata": {},
   "outputs": [],
   "source": [
    "KMean= KMeans(n_clusters=2)\n",
    "KMean.fit(latent_emb)\n",
    "label=KMean.predict(latent_emb)\n",
    "\n",
    "print(f'Silhouette Score(n=2): {silhouette_score(latent_emb, label)}')\n",
    "\n",
    "KMean= KMeans(n_clusters=10)\n",
    "KMean.fit(latent_emb)\n",
    "label=KMean.predict(latent_emb)\n",
    "\n",
    "print(f'Silhouette Score(n=10): {silhouette_score(latent_emb, label)}')\n",
    "\n",
    "KMean= KMeans(n_clusters=20)\n",
    "KMean.fit(latent_emb)\n",
    "label=KMean.predict(latent_emb)\n",
    "\n",
    "print(f'Silhouette Score(n=20): {silhouette_score(latent_emb, label)}')"
   ]
  },
  {
   "attachments": {},
   "cell_type": "markdown",
   "metadata": {},
   "source": [
    "## std = 0.5"
   ]
  },
  {
   "cell_type": "code",
   "execution_count": null,
   "metadata": {},
   "outputs": [],
   "source": [
    "cluster_centers = np.random.uniform(0,1,size=(n_centers, dim))\n",
    "latent_emb = []\n",
    "labels = []\n",
    "\n",
    "# create data\n",
    "for ci, c in enumerate(cluster_centers):\n",
    "    samples = np.random.normal(c, 0.5, size=(n_samples_around_c, dim))\n",
    "    latent_emb.append(samples)\n",
    "    labels.append(np.ones(len(samples))*ci)\n",
    "\n",
    "latent_emb = np.array(latent_emb).reshape(n_centers*n_samples_around_c, -1)\n",
    "labels = np.array(labels).reshape(n_centers*n_samples_around_c, -1)"
   ]
  },
  {
   "cell_type": "code",
   "execution_count": null,
   "metadata": {},
   "outputs": [],
   "source": [
    "clustering = pd.DataFrame(TSNE(n_components=2, perplexity=30).fit_transform(latent_emb), columns=['x', 'y'])\n",
    "sns.scatterplot(data=clustering, x='x', y='y')\n",
    "plt.show()"
   ]
  },
  {
   "cell_type": "code",
   "execution_count": null,
   "metadata": {},
   "outputs": [],
   "source": [
    "KMean= KMeans(n_clusters=2)\n",
    "KMean.fit(latent_emb)\n",
    "label=KMean.predict(latent_emb)\n",
    "\n",
    "print(f'Silhouette Score(n=2): {silhouette_score(latent_emb, label)}')\n",
    "\n",
    "KMean= KMeans(n_clusters=10)\n",
    "KMean.fit(latent_emb)\n",
    "label=KMean.predict(latent_emb)\n",
    "\n",
    "print(f'Silhouette Score(n=10): {silhouette_score(latent_emb, label)}')\n",
    "\n",
    "KMean= KMeans(n_clusters=20)\n",
    "KMean.fit(latent_emb)\n",
    "label=KMean.predict(latent_emb)\n",
    "\n",
    "print(f'Silhouette Score(n=20): {silhouette_score(latent_emb, label)}')"
   ]
  },
  {
   "attachments": {},
   "cell_type": "markdown",
   "metadata": {},
   "source": [
    "Score for not so clear distribution is very low, but still the score of the correct number of clusters is higher than for the wrong number of clusters."
   ]
  },
  {
   "cell_type": "code",
   "execution_count": null,
   "metadata": {},
   "outputs": [],
   "source": []
  }
 ],
 "metadata": {
  "kernelspec": {
   "display_name": "ame_o3d",
   "language": "python",
   "name": "python3"
  },
  "language_info": {
   "codemirror_mode": {
    "name": "ipython",
    "version": 3
   },
   "file_extension": ".py",
   "mimetype": "text/x-python",
   "name": "python",
   "nbconvert_exporter": "python",
   "pygments_lexer": "ipython3",
   "version": "3.9.16"
  },
  "vscode": {
   "interpreter": {
    "hash": "3489909a15a678279f1c34097c62edaf574117429c949ea3cc4337bf23b75d72"
   }
  }
 },
 "nbformat": 4,
 "nbformat_minor": 2
}
