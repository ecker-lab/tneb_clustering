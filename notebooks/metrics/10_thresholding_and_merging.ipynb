{
 "cells": [
  {
   "cell_type": "code",
   "execution_count": 1,
   "metadata": {},
   "outputs": [],
   "source": [
    "import numpy as np\n",
    "import matplotlib.pyplot as plt\n",
    "from sklearn import datasets\n",
    "\n",
    "from corc.graph_metrics import gwg, gwgmara"
   ]
  },
  {
   "cell_type": "code",
   "execution_count": 2,
   "metadata": {},
   "outputs": [],
   "source": [
    "noisy_circles = datasets.make_circles(\n",
    "    n_samples=1000, factor=0.5, noise=0.05, random_state=42\n",
    ")"
   ]
  },
  {
   "cell_type": "code",
   "execution_count": 3,
   "metadata": {},
   "outputs": [],
   "source": [
    "n_components = 15"
   ]
  },
  {
   "cell_type": "code",
   "execution_count": 4,
   "metadata": {},
   "outputs": [],
   "source": [
    "mgwg = gwg.GWG(\n",
    "        latent_dim=2,\n",
    "        n_clusters=2, \n",
    "        n_components=n_components,\n",
    "        n_neighbors=3,\n",
    "        seed=42,\n",
    "        )\n",
    "mgwgmara = gwgmara.GWGMara(\n",
    "        latent_dim=2, \n",
    "        n_clusters=2, \n",
    "        n_components=n_components,\n",
    "        n_neighbors=3,\n",
    "        filter_edges=False,\n",
    "        seed=42\n",
    "        )"
   ]
  },
  {
   "cell_type": "code",
   "execution_count": 5,
   "metadata": {},
   "outputs": [],
   "source": [
    "algorithm = mgwgmara\n",
    "dataset = noisy_circles"
   ]
  },
  {
   "cell_type": "code",
   "execution_count": 6,
   "metadata": {},
   "outputs": [],
   "source": [
    "X, y = dataset\n",
    "y = [0]*len(X) if y is None else np.array(y, dtype='int')\n",
    "\n",
    "algorithm.fit(X)"
   ]
  },
  {
   "cell_type": "code",
   "execution_count": null,
   "metadata": {},
   "outputs": [],
   "source": [
    "from itertools import cycle, islice\n",
    "            \n",
    "if hasattr(algorithm, \"labels_\"):\n",
    "    y_pred = algorithm.labels_.astype(int)\n",
    "else:\n",
    "    y_pred = algorithm.predict(X)\n",
    "\n",
    "colors = np.array(\n",
    "    list(\n",
    "        islice(\n",
    "            cycle(\n",
    "                [\n",
    "                    \"#377eb8\",\n",
    "                    \"#ff7f00\",\n",
    "                    \"#4daf4a\",\n",
    "                    \"#f781bf\",\n",
    "                    \"#a65628\",\n",
    "                    \"#984ea3\",\n",
    "                    \"#999999\",\n",
    "                    \"#e41a1c\",\n",
    "                    \"#dede00\",\n",
    "                ]\n",
    "            ),\n",
    "            int(max(max(y_pred), max(y)) + 1),\n",
    "        )\n",
    "    )\n",
    ")\n",
    "colors = np.append(colors, [\"#000000\"])\n",
    "plt.scatter(X[:, 0], X[:, 1], s=10, color=colors[y_pred])\n",
    "algorithm.plot_graph()"
   ]
  },
  {
   "cell_type": "code",
   "execution_count": 8,
   "metadata": {},
   "outputs": [],
   "source": [
    "thresholds, cluster_numbers, clusterings = algorithm.get_thresholds_and_cluster_numbers()"
   ]
  },
  {
   "cell_type": "code",
   "execution_count": null,
   "metadata": {},
   "outputs": [],
   "source": [
    "algorithm.plot_thresholds(cluster_numbers)"
   ]
  },
  {
   "cell_type": "code",
   "execution_count": 10,
   "metadata": {},
   "outputs": [],
   "source": [
    "for n in np.arange(1,n_components):\n",
    "    y_pred = algorithm.predict(X, target_number_clusters=n)\n",
    "    colors = np.array(\n",
    "        list(\n",
    "            islice(\n",
    "                cycle(\n",
    "                    [\n",
    "                        \"#377eb8\",\n",
    "                        \"#ff7f00\",\n",
    "                        \"#4daf4a\",\n",
    "                        \"#f781bf\",\n",
    "                        \"#a65628\",\n",
    "                        \"#984ea3\",\n",
    "                        \"#999999\",\n",
    "                        \"#e41a1c\",\n",
    "                        \"#dede00\",\n",
    "                    ]\n",
    "                ),\n",
    "                int(max(max(y_pred), max(y)) + 1),\n",
    "            )\n",
    "        )\n",
    "    )\n",
    "    colors = np.append(colors, [\"#000000\"])\n",
    "    plt.scatter(X[:, 0], X[:, 1], s=10, color=colors[y_pred])\n",
    "    algorithm.plot_graph()\n",
    "    plt.show()"
   ]
  },
  {
   "cell_type": "code",
   "execution_count": null,
   "metadata": {},
   "outputs": [],
   "source": []
  }
 ],
 "metadata": {
  "kernelspec": {
   "display_name": "Python 3",
   "language": "python",
   "name": "python3"
  },
  "language_info": {
   "codemirror_mode": {
    "name": "ipython",
    "version": 3
   },
   "file_extension": ".py",
   "mimetype": "text/x-python",
   "name": "python",
   "nbconvert_exporter": "python",
   "pygments_lexer": "ipython3",
   "version": "3.11.9"
  }
 },
 "nbformat": 4,
 "nbformat_minor": 2
}
