{
 "cells": [
  {
   "cell_type": "markdown",
   "metadata": {},
   "source": [
    "# GMM vs TMM"
   ]
  },
  {
   "cell_type": "code",
   "execution_count": 1,
   "metadata": {},
   "outputs": [],
   "source": [
    "%load_ext autoreload\n",
    "%autoreload 2\n",
    "\n",
    "import os\n",
    "os.environ[\"XLA_PYTHON_CLIENT_ALLOCATOR\"] = \"platform\"\n",
    "os.environ[\"XLA_PYTHON_CLIENT_PREALLOCATE\"] = \"false\"\n",
    "os.environ['JAX_ENABLE_X64'] = '1'\n",
    "\n",
    "cache_path = \"../../cache/\""
   ]
  },
  {
   "cell_type": "code",
   "execution_count": 2,
   "metadata": {},
   "outputs": [],
   "source": [
    "import numpy as np\n",
    "import pandas as pd\n",
    "import pickle\n",
    "import sklearn\n",
    "import tqdm\n",
    "from matplotlib.patches import Patch\n",
    "import corc.utils\n",
    "import corc.our_datasets\n",
    "import matplotlib.pyplot as plt"
   ]
  },
  {
   "cell_type": "code",
   "execution_count": 3,
   "metadata": {},
   "outputs": [],
   "source": [
    "dataset_names = corc.our_datasets.COMPLEX_DATASETS"
   ]
  },
  {
   "cell_type": "code",
   "execution_count": 22,
   "metadata": {},
   "outputs": [
    {
     "name": "stdout",
     "output_type": "stream",
     "text": [
      "blobs1_8\n",
      "blobs1_16\n",
      "blobs1_32\n",
      "6 clusters is not achievable.\n",
      "Working with 4 clusters instead.\n",
      "6 clusters is not achievable.\n",
      "Working with 2 clusters instead.\n",
      "6 clusters is not achievable.\n",
      "Working with 2 clusters instead.\n",
      "6 clusters is not achievable.\n",
      "Working with 3 clusters instead.\n",
      "6 clusters is not achievable.\n",
      "Working with 3 clusters instead.\n",
      "blobs1_64\n",
      "6 clusters is not achievable.\n",
      "Working with 3 clusters instead.\n",
      "6 clusters is not achievable.\n",
      "Working with 3 clusters instead.\n",
      "6 clusters is not achievable.\n",
      "Working with 3 clusters instead.\n",
      "6 clusters is not achievable.\n",
      "Working with 2 clusters instead.\n",
      "6 clusters is not achievable.\n",
      "Working with 2 clusters instead.\n",
      "6 clusters is not achievable.\n",
      "Working with 2 clusters instead.\n",
      "6 clusters is not achievable.\n",
      "Working with 1 clusters instead.\n",
      "blobs2_8\n",
      "blobs2_16\n",
      "blobs2_32\n",
      "6 clusters is not achievable.\n",
      "Working with 4 clusters instead.\n",
      "6 clusters is not achievable.\n",
      "Working with 4 clusters instead.\n",
      "6 clusters is not achievable.\n",
      "Working with 2 clusters instead.\n",
      "blobs2_64\n",
      "6 clusters is not achievable.\n",
      "Working with 1 clusters instead.\n",
      "6 clusters is not achievable.\n",
      "Working with 1 clusters instead.\n",
      "6 clusters is not achievable.\n",
      "Working with 1 clusters instead.\n",
      "6 clusters is not achievable.\n",
      "Working with 3 clusters instead.\n",
      "6 clusters is not achievable.\n",
      "Working with 1 clusters instead.\n",
      "6 clusters is not achievable.\n",
      "Working with 1 clusters instead.\n",
      "densired8\n",
      "densired16\n",
      "densired32\n",
      "densired64\n",
      "densired_soft_8\n",
      "densired_soft_16\n",
      "densired_soft_32\n",
      "densired_soft_64\n",
      "mnist8\n",
      "mnist16\n",
      "mnist32\n",
      "mnist64\n"
     ]
    }
   ],
   "source": [
    "n_components=35\n",
    "\n",
    "all_aris_tmm = dict()\n",
    "for dataset_name in (dataset_names):\n",
    "    print(dataset_name)\n",
    "\n",
    "    file_path_tmm = cache_path + f\"stability/seeds_{dataset_name}_{n_components}.pkl\"\n",
    "    if not os.path.exists(file_path_tmm):\n",
    "        continue\n",
    "    with open(file_path_tmm, 'rb') as file:\n",
    "        models_tmm = pickle.load(file)\n",
    "\n",
    "    X, y, tsne = corc.utils.load_dataset(dataset_name,cache_path=cache_path)\n",
    "    n_classes = len(np.unique(y))\n",
    "\n",
    "    ari_scores = list()\n",
    "    for model in models_tmm:\n",
    "        predictions = model.predict_with_target(X, target_number_classes = n_classes)\n",
    "        ari_scores.append(sklearn.metrics.adjusted_rand_score(predictions, y))\n",
    "    all_aris_tmm[dataset_name] = ari_scores\n",
    "\n",
    "df_tmm_manual = pd.DataFrame(all_aris_tmm)\n"
   ]
  },
  {
   "cell_type": "code",
   "execution_count": 4,
   "metadata": {},
   "outputs": [],
   "source": [
    "if os.path.exists(cache_path + f\"stability/all_aris_of_seeds.pkl\"):\n",
    "    with open(cache_path + f\"stability/all_aris_of_seeds.pkl\", 'rb') as file:\n",
    "        all_dataframes = pickle.load(file)"
   ]
  },
  {
   "cell_type": "code",
   "execution_count": 4,
   "metadata": {},
   "outputs": [
    {
     "name": "stderr",
     "output_type": "stream",
     "text": [
      " 15%|█▌        | 3/20 [00:10<01:01,  3.61s/it]"
     ]
    },
    {
     "name": "stdout",
     "output_type": "stream",
     "text": [
      "6 clusters is not achievable.\n",
      "Working with 4 clusters instead.\n",
      "6 clusters is not achievable.\n",
      "Working with 5 clusters instead.\n",
      "6 clusters is not achievable.\n",
      "Working with 5 clusters instead.\n"
     ]
    },
    {
     "name": "stderr",
     "output_type": "stream",
     "text": [
      " 35%|███▌      | 7/20 [00:24<00:45,  3.46s/it]"
     ]
    },
    {
     "name": "stdout",
     "output_type": "stream",
     "text": [
      "6 clusters is not achievable.\n",
      "Working with 5 clusters instead.\n"
     ]
    },
    {
     "name": "stderr",
     "output_type": "stream",
     "text": [
      " 70%|███████   | 14/20 [00:41<00:15,  2.60s/it]"
     ]
    },
    {
     "name": "stdout",
     "output_type": "stream",
     "text": [
      "6 clusters is not achievable.\n",
      "Working with 5 clusters instead.\n"
     ]
    },
    {
     "name": "stderr",
     "output_type": "stream",
     "text": [
      " 75%|███████▌  | 15/20 [00:44<00:13,  2.77s/it]"
     ]
    },
    {
     "name": "stdout",
     "output_type": "stream",
     "text": [
      "6 clusters is not achievable.\n",
      "Working with 5 clusters instead.\n",
      "6 clusters is not achievable.\n",
      "Working with 4 clusters instead.\n",
      "6 clusters is not achievable.\n",
      "Working with 4 clusters instead.\n",
      "6 clusters is not achievable.\n",
      "Working with 4 clusters instead.\n",
      "6 clusters is not achievable.\n",
      "Working with 5 clusters instead.\n",
      "6 clusters is not achievable.\n",
      "Working with 4 clusters instead.\n",
      "6 clusters is not achievable.\n",
      "Working with 5 clusters instead.\n",
      "6 clusters is not achievable.\n",
      "Working with 5 clusters instead.\n",
      "6 clusters is not achievable.\n",
      "Working with 4 clusters instead.\n",
      "6 clusters is not achievable.\n",
      "Working with 4 clusters instead.\n",
      "6 clusters is not achievable.\n",
      "Working with 3 clusters instead.\n",
      "6 clusters is not achievable.\n",
      "Working with 4 clusters instead.\n",
      "6 clusters is not achievable.\n",
      "Working with 4 clusters instead.\n"
     ]
    },
    {
     "name": "stderr",
     "output_type": "stream",
     "text": [
      " 80%|████████  | 16/20 [00:46<00:10,  2.55s/it]"
     ]
    },
    {
     "name": "stdout",
     "output_type": "stream",
     "text": [
      "6 clusters is not achievable.\n",
      "Working with 5 clusters instead.\n",
      "6 clusters is not achievable.\n",
      "Working with 4 clusters instead.\n",
      "6 clusters is not achievable.\n",
      "Working with 4 clusters instead.\n",
      "6 clusters is not achievable.\n",
      "Working with 5 clusters instead.\n"
     ]
    },
    {
     "name": "stderr",
     "output_type": "stream",
     "text": [
      "100%|██████████| 20/20 [00:51<00:00,  2.58s/it]\n",
      " 15%|█▌        | 3/20 [00:13<01:15,  4.42s/it]"
     ]
    },
    {
     "name": "stdout",
     "output_type": "stream",
     "text": [
      "6 clusters is not achievable.\n",
      "Working with 5 clusters instead.\n",
      "6 clusters is not achievable.\n",
      "Working with 4 clusters instead.\n",
      "6 clusters is not achievable.\n",
      "Working with 3 clusters instead.\n",
      "6 clusters is not achievable.\n",
      "Working with 4 clusters instead.\n",
      "6 clusters is not achievable.\n",
      "Working with 4 clusters instead.\n",
      "6 clusters is not achievable.\n",
      "Working with 4 clusters instead.\n",
      "6 clusters is not achievable.\n",
      "Working with 5 clusters instead.\n",
      "6 clusters is not achievable.\n",
      "Working with 3 clusters instead.\n",
      "6 clusters is not achievable.\n",
      "Working with 4 clusters instead.\n",
      "6 clusters is not achievable.\n",
      "Working with 4 clusters instead.\n"
     ]
    },
    {
     "name": "stderr",
     "output_type": "stream",
     "text": [
      " 20%|██        | 4/20 [00:14<00:54,  3.38s/it]"
     ]
    },
    {
     "name": "stdout",
     "output_type": "stream",
     "text": [
      "6 clusters is not achievable.\n",
      "Working with 2 clusters instead.\n",
      "6 clusters is not achievable.\n",
      "Working with 4 clusters instead.\n",
      "6 clusters is not achievable.\n",
      "Working with 2 clusters instead.\n",
      "6 clusters is not achievable.\n",
      "Working with 4 clusters instead.\n",
      "6 clusters is not achievable.\n",
      "Working with 4 clusters instead.\n"
     ]
    },
    {
     "name": "stderr",
     "output_type": "stream",
     "text": [
      " 35%|███▌      | 7/20 [00:31<01:05,  5.07s/it]"
     ]
    },
    {
     "name": "stdout",
     "output_type": "stream",
     "text": [
      "6 clusters is not achievable.\n",
      "Working with 4 clusters instead.\n",
      "6 clusters is not achievable.\n",
      "Working with 2 clusters instead.\n",
      "6 clusters is not achievable.\n",
      "Working with 4 clusters instead.\n",
      "6 clusters is not achievable.\n",
      "Working with 3 clusters instead.\n",
      "6 clusters is not achievable.\n",
      "Working with 4 clusters instead.\n",
      "6 clusters is not achievable.\n",
      "Working with 3 clusters instead.\n",
      "6 clusters is not achievable.\n",
      "Working with 3 clusters instead.\n",
      "6 clusters is not achievable.\n",
      "Working with 4 clusters instead.\n",
      "6 clusters is not achievable.\n",
      "Working with 5 clusters instead.\n",
      "6 clusters is not achievable.\n",
      "Working with 4 clusters instead.\n",
      "6 clusters is not achievable.\n",
      "Working with 4 clusters instead.\n",
      "6 clusters is not achievable.\n",
      "Working with 1 clusters instead.\n"
     ]
    },
    {
     "name": "stderr",
     "output_type": "stream",
     "text": [
      " 40%|████      | 8/20 [00:33<00:50,  4.21s/it]"
     ]
    },
    {
     "name": "stdout",
     "output_type": "stream",
     "text": [
      "6 clusters is not achievable.\n",
      "Working with 3 clusters instead.\n",
      "6 clusters is not achievable.\n",
      "Working with 3 clusters instead.\n",
      "6 clusters is not achievable.\n",
      "Working with 5 clusters instead.\n",
      "6 clusters is not achievable.\n",
      "Working with 3 clusters instead.\n",
      "6 clusters is not achievable.\n",
      "Working with 2 clusters instead.\n"
     ]
    },
    {
     "name": "stderr",
     "output_type": "stream",
     "text": [
      " 75%|███████▌  | 15/20 [00:55<00:15,  3.03s/it]"
     ]
    },
    {
     "name": "stdout",
     "output_type": "stream",
     "text": [
      "6 clusters is not achievable.\n",
      "Working with 4 clusters instead.\n",
      "6 clusters is not achievable.\n",
      "Working with 5 clusters instead.\n"
     ]
    },
    {
     "name": "stderr",
     "output_type": "stream",
     "text": [
      " 80%|████████  | 16/20 [00:57<00:11,  2.79s/it]"
     ]
    },
    {
     "name": "stdout",
     "output_type": "stream",
     "text": [
      "6 clusters is not achievable.\n",
      "Working with 5 clusters instead.\n",
      "6 clusters is not achievable.\n",
      "Working with 5 clusters instead.\n",
      "6 clusters is not achievable.\n",
      "Working with 5 clusters instead.\n",
      "6 clusters is not achievable.\n",
      "Working with 5 clusters instead.\n",
      "6 clusters is not achievable.\n",
      "Working with 4 clusters instead.\n"
     ]
    },
    {
     "name": "stderr",
     "output_type": "stream",
     "text": [
      "100%|██████████| 20/20 [01:03<00:00,  3.16s/it]\n",
      " 10%|█         | 2/20 [00:13<02:07,  7.10s/it]"
     ]
    },
    {
     "name": "stdout",
     "output_type": "stream",
     "text": [
      "6 clusters is not achievable.\n",
      "Working with 4 clusters instead.\n",
      "6 clusters is not achievable.\n",
      "Working with 2 clusters instead.\n",
      "6 clusters is not achievable.\n",
      "Working with 2 clusters instead.\n",
      "6 clusters is not achievable.\n",
      "Working with 3 clusters instead.\n",
      "6 clusters is not achievable.\n",
      "Working with 3 clusters instead.\n"
     ]
    },
    {
     "name": "stderr",
     "output_type": "stream",
     "text": [
      " 15%|█▌        | 3/20 [00:16<01:27,  5.14s/it]"
     ]
    },
    {
     "name": "stdout",
     "output_type": "stream",
     "text": [
      "skipping blobs1_64\n"
     ]
    },
    {
     "name": "stderr",
     "output_type": "stream",
     "text": [
      " 30%|███       | 6/20 [00:35<01:28,  6.34s/it]"
     ]
    },
    {
     "name": "stdout",
     "output_type": "stream",
     "text": [
      "6 clusters is not achievable.\n",
      "Working with 4 clusters instead.\n",
      "6 clusters is not achievable.\n",
      "Working with 4 clusters instead.\n",
      "6 clusters is not achievable.\n",
      "Working with 2 clusters instead.\n"
     ]
    },
    {
     "name": "stderr",
     "output_type": "stream",
     "text": [
      " 35%|███▌      | 7/20 [00:36<01:05,  5.00s/it]"
     ]
    },
    {
     "name": "stdout",
     "output_type": "stream",
     "text": [
      "skipping blobs2_64\n"
     ]
    },
    {
     "name": "stderr",
     "output_type": "stream",
     "text": [
      " 75%|███████▌  | 15/20 [01:12<00:23,  4.79s/it]"
     ]
    },
    {
     "name": "stdout",
     "output_type": "stream",
     "text": [
      "6 clusters is not achievable.\n",
      "Working with 5 clusters instead.\n"
     ]
    },
    {
     "name": "stderr",
     "output_type": "stream",
     "text": [
      "100%|██████████| 20/20 [01:23<00:00,  4.16s/it]\n"
     ]
    }
   ],
   "source": [
    "all_dataframes = dict()\n",
    "for n_components in [15,25,35]:\n",
    "    all_aris_tmm = dict()\n",
    "    all_aris_gmm = dict()\n",
    "    for dataset_name in tqdm.tqdm(dataset_names):\n",
    "\n",
    "        file_path_tmm = cache_path + f\"stability/seeds_{dataset_name}_{n_components}.pkl\"\n",
    "        file_path_gmm = cache_path + f\"stability/seeds_{dataset_name}_gmm_{n_components}.pkl\"\n",
    "        if not os.path.exists(file_path_tmm) or not os.path.exists(file_path_gmm):\n",
    "            print(f\"skipping {dataset_name}\")\n",
    "            continue\n",
    "        # print(dataset_name)\n",
    "        with open(file_path_tmm, 'rb') as file:\n",
    "            models_tmm = pickle.load(file)\n",
    "\n",
    "        with open(file_path_gmm, 'rb') as file:\n",
    "            models_gmm = pickle.load(file)\n",
    "\n",
    "        X, y, tsne = corc.utils.load_dataset(dataset_name,cache_path=cache_path)\n",
    "        n_classes = len(np.unique(y))\n",
    "\n",
    "        ari_scores = list()\n",
    "        for model in models_tmm:\n",
    "            predictions = model.predict_with_target(X, target_number_classes = n_classes)\n",
    "            ari_scores.append(sklearn.metrics.adjusted_rand_score(predictions, y))\n",
    "        all_aris_tmm[dataset_name] = ari_scores\n",
    "\n",
    "        ari_scores = list()\n",
    "        for model in models_gmm:\n",
    "            predictions = model.predict_with_target(X, target_number_classes = n_classes)\n",
    "            ari_scores.append(sklearn.metrics.adjusted_rand_score(predictions, y))\n",
    "        all_aris_gmm[dataset_name] = ari_scores\n",
    "    df_tmm = pd.DataFrame(all_aris_tmm)\n",
    "    df_gmm = pd.DataFrame(all_aris_gmm)\n",
    "\n",
    "    df_stats_tmm = df_tmm.agg(['mean', 'std'])\n",
    "    df_stats_tmm = df_stats_tmm.rename(index={'mean': 'Mean TMM', 'std': 'Std TMM'})\n",
    "    df_stats_gmm = df_gmm.agg(['mean', 'std'])\n",
    "    df_stats_gmm = df_stats_gmm.rename(index={'mean': 'Mean GMM', 'std': 'Std GMM'})\n",
    "    df_both = pd.concat([df_stats_tmm, df_stats_gmm], axis=0)\n",
    "    all_dataframes[n_components] = df_both\n",
    "\n",
    "    with open(cache_path + f\"stability/all_aris_of_seeds.pkl\", 'wb') as file:\n",
    "        pickle.dump(all_dataframes, file)"
   ]
  },
  {
   "cell_type": "code",
   "execution_count": 5,
   "metadata": {},
   "outputs": [
    {
     "ename": "NameError",
     "evalue": "name 'all_aris_gmm' is not defined",
     "output_type": "error",
     "traceback": [
      "\u001b[0;31m---------------------------------------------------------------------------\u001b[0m",
      "\u001b[0;31mNameError\u001b[0m                                 Traceback (most recent call last)",
      "Cell \u001b[0;32mIn[5], line 1\u001b[0m\n\u001b[0;32m----> 1\u001b[0m df_gmm \u001b[38;5;241m=\u001b[39m pd\u001b[38;5;241m.\u001b[39mDataFrame(all_aris_gmm)\n",
      "\u001b[0;31mNameError\u001b[0m: name 'all_aris_gmm' is not defined"
     ]
    }
   ],
   "source": [
    "df_gmm = pd.DataFrame(all_aris_gmm)\n"
   ]
  },
  {
   "cell_type": "code",
   "execution_count": 23,
   "metadata": {},
   "outputs": [
    {
     "data": {
      "text/html": [
       "<div>\n",
       "<style scoped>\n",
       "    .dataframe tbody tr th:only-of-type {\n",
       "        vertical-align: middle;\n",
       "    }\n",
       "\n",
       "    .dataframe tbody tr th {\n",
       "        vertical-align: top;\n",
       "    }\n",
       "\n",
       "    .dataframe thead th {\n",
       "        text-align: right;\n",
       "    }\n",
       "</style>\n",
       "<table border=\"1\" class=\"dataframe\">\n",
       "  <thead>\n",
       "    <tr style=\"text-align: right;\">\n",
       "      <th></th>\n",
       "      <th>blobs1_8</th>\n",
       "      <th>blobs1_16</th>\n",
       "      <th>blobs1_32</th>\n",
       "      <th>blobs1_64</th>\n",
       "      <th>blobs2_8</th>\n",
       "      <th>blobs2_16</th>\n",
       "      <th>blobs2_32</th>\n",
       "      <th>blobs2_64</th>\n",
       "      <th>densired8</th>\n",
       "      <th>densired16</th>\n",
       "      <th>densired32</th>\n",
       "      <th>densired64</th>\n",
       "      <th>densired_soft_8</th>\n",
       "      <th>densired_soft_16</th>\n",
       "      <th>densired_soft_32</th>\n",
       "      <th>densired_soft_64</th>\n",
       "      <th>mnist8</th>\n",
       "      <th>mnist16</th>\n",
       "      <th>mnist32</th>\n",
       "      <th>mnist64</th>\n",
       "    </tr>\n",
       "  </thead>\n",
       "  <tbody>\n",
       "    <tr>\n",
       "      <th>mean</th>\n",
       "      <td>0.254399</td>\n",
       "      <td>0.291197</td>\n",
       "      <td>0.099561</td>\n",
       "      <td>0.118822</td>\n",
       "      <td>0.725640</td>\n",
       "      <td>0.486727</td>\n",
       "      <td>0.078977</td>\n",
       "      <td>0.122357</td>\n",
       "      <td>0.943490</td>\n",
       "      <td>0.991722</td>\n",
       "      <td>0.853693</td>\n",
       "      <td>0.976347</td>\n",
       "      <td>0.874788</td>\n",
       "      <td>0.790831</td>\n",
       "      <td>0.885017</td>\n",
       "      <td>0.809538</td>\n",
       "      <td>0.664255</td>\n",
       "      <td>0.763149</td>\n",
       "      <td>0.752843</td>\n",
       "      <td>0.580064</td>\n",
       "    </tr>\n",
       "    <tr>\n",
       "      <th>std</th>\n",
       "      <td>0.086741</td>\n",
       "      <td>0.104645</td>\n",
       "      <td>0.100272</td>\n",
       "      <td>0.158560</td>\n",
       "      <td>0.063614</td>\n",
       "      <td>0.230811</td>\n",
       "      <td>0.138827</td>\n",
       "      <td>0.184839</td>\n",
       "      <td>0.041884</td>\n",
       "      <td>0.018096</td>\n",
       "      <td>0.077501</td>\n",
       "      <td>0.026050</td>\n",
       "      <td>0.031051</td>\n",
       "      <td>0.058604</td>\n",
       "      <td>0.037707</td>\n",
       "      <td>0.047143</td>\n",
       "      <td>0.000640</td>\n",
       "      <td>0.096397</td>\n",
       "      <td>0.048607</td>\n",
       "      <td>0.038053</td>\n",
       "    </tr>\n",
       "  </tbody>\n",
       "</table>\n",
       "</div>"
      ],
      "text/plain": [
       "      blobs1_8  blobs1_16  blobs1_32  blobs1_64  blobs2_8  blobs2_16  \\\n",
       "mean  0.254399   0.291197   0.099561   0.118822  0.725640   0.486727   \n",
       "std   0.086741   0.104645   0.100272   0.158560  0.063614   0.230811   \n",
       "\n",
       "      blobs2_32  blobs2_64  densired8  densired16  densired32  densired64  \\\n",
       "mean   0.078977   0.122357   0.943490    0.991722    0.853693    0.976347   \n",
       "std    0.138827   0.184839   0.041884    0.018096    0.077501    0.026050   \n",
       "\n",
       "      densired_soft_8  densired_soft_16  densired_soft_32  densired_soft_64  \\\n",
       "mean         0.874788          0.790831          0.885017          0.809538   \n",
       "std          0.031051          0.058604          0.037707          0.047143   \n",
       "\n",
       "        mnist8   mnist16   mnist32   mnist64  \n",
       "mean  0.664255  0.763149  0.752843  0.580064  \n",
       "std   0.000640  0.096397  0.048607  0.038053  "
      ]
     },
     "execution_count": 23,
     "metadata": {},
     "output_type": "execute_result"
    }
   ],
   "source": [
    "df_tmm_manual.agg(['mean', 'std'])\n"
   ]
  },
  {
   "cell_type": "code",
   "execution_count": null,
   "metadata": {},
   "outputs": [
    {
     "data": {
      "text/html": [
       "<div>\n",
       "<style scoped>\n",
       "    .dataframe tbody tr th:only-of-type {\n",
       "        vertical-align: middle;\n",
       "    }\n",
       "\n",
       "    .dataframe tbody tr th {\n",
       "        vertical-align: top;\n",
       "    }\n",
       "\n",
       "    .dataframe thead th {\n",
       "        text-align: right;\n",
       "    }\n",
       "</style>\n",
       "<table border=\"1\" class=\"dataframe\">\n",
       "  <thead>\n",
       "    <tr style=\"text-align: right;\">\n",
       "      <th></th>\n",
       "      <th>blobs1_8</th>\n",
       "      <th>blobs1_16</th>\n",
       "      <th>blobs1_32</th>\n",
       "      <th>blobs1_64</th>\n",
       "      <th>blobs2_8</th>\n",
       "      <th>blobs2_16</th>\n",
       "      <th>blobs2_32</th>\n",
       "      <th>blobs2_64</th>\n",
       "      <th>densired8</th>\n",
       "      <th>densired16</th>\n",
       "      <th>densired32</th>\n",
       "      <th>densired64</th>\n",
       "      <th>densired_soft_8</th>\n",
       "      <th>densired_soft_16</th>\n",
       "      <th>densired_soft_32</th>\n",
       "      <th>densired_soft_64</th>\n",
       "      <th>mnist8</th>\n",
       "      <th>mnist16</th>\n",
       "      <th>mnist32</th>\n",
       "      <th>mnist64</th>\n",
       "    </tr>\n",
       "  </thead>\n",
       "  <tbody>\n",
       "    <tr>\n",
       "      <th>mean</th>\n",
       "      <td>0.282259</td>\n",
       "      <td>0.284714</td>\n",
       "      <td>0.054974</td>\n",
       "      <td>0.116333</td>\n",
       "      <td>0.616263</td>\n",
       "      <td>0.497623</td>\n",
       "      <td>0.070284</td>\n",
       "      <td>0.129668</td>\n",
       "      <td>0.943490</td>\n",
       "      <td>0.991722</td>\n",
       "      <td>0.853693</td>\n",
       "      <td>0.983721</td>\n",
       "      <td>0.874788</td>\n",
       "      <td>0.790831</td>\n",
       "      <td>0.866942</td>\n",
       "      <td>0.813729</td>\n",
       "      <td>0.664255</td>\n",
       "      <td>0.763149</td>\n",
       "      <td>0.752843</td>\n",
       "      <td>0.580064</td>\n",
       "    </tr>\n",
       "    <tr>\n",
       "      <th>std</th>\n",
       "      <td>0.079028</td>\n",
       "      <td>0.095005</td>\n",
       "      <td>0.057556</td>\n",
       "      <td>0.153521</td>\n",
       "      <td>0.126164</td>\n",
       "      <td>0.225051</td>\n",
       "      <td>0.117990</td>\n",
       "      <td>0.198835</td>\n",
       "      <td>0.041884</td>\n",
       "      <td>0.018096</td>\n",
       "      <td>0.077501</td>\n",
       "      <td>0.018770</td>\n",
       "      <td>0.031051</td>\n",
       "      <td>0.058604</td>\n",
       "      <td>0.026153</td>\n",
       "      <td>0.047629</td>\n",
       "      <td>0.000640</td>\n",
       "      <td>0.096397</td>\n",
       "      <td>0.048607</td>\n",
       "      <td>0.038053</td>\n",
       "    </tr>\n",
       "  </tbody>\n",
       "</table>\n",
       "</div>"
      ],
      "text/plain": [
       "      blobs1_8  blobs1_16  blobs1_32  blobs1_64  blobs2_8  blobs2_16  \\\n",
       "mean  0.282259   0.284714   0.054974   0.116333  0.616263   0.497623   \n",
       "std   0.079028   0.095005   0.057556   0.153521  0.126164   0.225051   \n",
       "\n",
       "      blobs2_32  blobs2_64  densired8  densired16  densired32  densired64  \\\n",
       "mean   0.070284   0.129668   0.943490    0.991722    0.853693    0.983721   \n",
       "std    0.117990   0.198835   0.041884    0.018096    0.077501    0.018770   \n",
       "\n",
       "      densired_soft_8  densired_soft_16  densired_soft_32  densired_soft_64  \\\n",
       "mean         0.874788          0.790831          0.866942          0.813729   \n",
       "std          0.031051          0.058604          0.026153          0.047629   \n",
       "\n",
       "        mnist8   mnist16   mnist32   mnist64  \n",
       "mean  0.664255  0.763149  0.752843  0.580064  \n",
       "std   0.000640  0.096397  0.048607  0.038053  "
      ]
     },
     "execution_count": 21,
     "metadata": {},
     "output_type": "execute_result"
    }
   ],
   "source": [
    "df_tmm_manual.agg(['mean', 'std'])\n"
   ]
  },
  {
   "cell_type": "code",
   "execution_count": 18,
   "metadata": {},
   "outputs": [
    {
     "data": {
      "text/html": [
       "<div>\n",
       "<style scoped>\n",
       "    .dataframe tbody tr th:only-of-type {\n",
       "        vertical-align: middle;\n",
       "    }\n",
       "\n",
       "    .dataframe tbody tr th {\n",
       "        vertical-align: top;\n",
       "    }\n",
       "\n",
       "    .dataframe thead th {\n",
       "        text-align: right;\n",
       "    }\n",
       "</style>\n",
       "<table border=\"1\" class=\"dataframe\">\n",
       "  <thead>\n",
       "    <tr style=\"text-align: right;\">\n",
       "      <th></th>\n",
       "      <th>blobs1_8</th>\n",
       "      <th>blobs1_16</th>\n",
       "      <th>blobs1_32</th>\n",
       "      <th>blobs2_8</th>\n",
       "      <th>blobs2_16</th>\n",
       "      <th>blobs2_32</th>\n",
       "      <th>densired8</th>\n",
       "      <th>densired16</th>\n",
       "      <th>densired32</th>\n",
       "      <th>densired64</th>\n",
       "      <th>densired_soft_8</th>\n",
       "      <th>densired_soft_16</th>\n",
       "      <th>densired_soft_32</th>\n",
       "      <th>densired_soft_64</th>\n",
       "      <th>mnist8</th>\n",
       "      <th>mnist16</th>\n",
       "      <th>mnist32</th>\n",
       "      <th>mnist64</th>\n",
       "    </tr>\n",
       "  </thead>\n",
       "  <tbody>\n",
       "    <tr>\n",
       "      <th>Mean TMM</th>\n",
       "      <td>0.254399</td>\n",
       "      <td>0.315383</td>\n",
       "      <td>0.099561</td>\n",
       "      <td>0.616263</td>\n",
       "      <td>0.472701</td>\n",
       "      <td>0.078133</td>\n",
       "      <td>0.943490</td>\n",
       "      <td>0.991722</td>\n",
       "      <td>0.853693</td>\n",
       "      <td>0.976347</td>\n",
       "      <td>0.874788</td>\n",
       "      <td>0.790831</td>\n",
       "      <td>0.885017</td>\n",
       "      <td>0.809538</td>\n",
       "      <td>0.664255</td>\n",
       "      <td>0.763149</td>\n",
       "      <td>0.752843</td>\n",
       "      <td>0.580064</td>\n",
       "    </tr>\n",
       "    <tr>\n",
       "      <th>Std TMM</th>\n",
       "      <td>0.086741</td>\n",
       "      <td>0.085962</td>\n",
       "      <td>0.100272</td>\n",
       "      <td>0.126164</td>\n",
       "      <td>0.220613</td>\n",
       "      <td>0.138896</td>\n",
       "      <td>0.041884</td>\n",
       "      <td>0.018096</td>\n",
       "      <td>0.077501</td>\n",
       "      <td>0.026050</td>\n",
       "      <td>0.031051</td>\n",
       "      <td>0.058604</td>\n",
       "      <td>0.037707</td>\n",
       "      <td>0.047143</td>\n",
       "      <td>0.000640</td>\n",
       "      <td>0.096397</td>\n",
       "      <td>0.048607</td>\n",
       "      <td>0.038053</td>\n",
       "    </tr>\n",
       "    <tr>\n",
       "      <th>Mean GMM</th>\n",
       "      <td>0.243779</td>\n",
       "      <td>0.485655</td>\n",
       "      <td>0.273292</td>\n",
       "      <td>0.768583</td>\n",
       "      <td>0.605311</td>\n",
       "      <td>0.294786</td>\n",
       "      <td>0.998940</td>\n",
       "      <td>0.999443</td>\n",
       "      <td>0.982230</td>\n",
       "      <td>0.983552</td>\n",
       "      <td>0.700672</td>\n",
       "      <td>0.653724</td>\n",
       "      <td>0.633538</td>\n",
       "      <td>0.354908</td>\n",
       "      <td>0.629386</td>\n",
       "      <td>0.520579</td>\n",
       "      <td>0.273971</td>\n",
       "      <td>0.086512</td>\n",
       "    </tr>\n",
       "    <tr>\n",
       "      <th>Std GMM</th>\n",
       "      <td>0.106693</td>\n",
       "      <td>0.216788</td>\n",
       "      <td>0.065886</td>\n",
       "      <td>0.151919</td>\n",
       "      <td>0.147023</td>\n",
       "      <td>0.194710</td>\n",
       "      <td>0.001112</td>\n",
       "      <td>0.000388</td>\n",
       "      <td>0.030136</td>\n",
       "      <td>0.032509</td>\n",
       "      <td>0.087873</td>\n",
       "      <td>0.122072</td>\n",
       "      <td>0.068203</td>\n",
       "      <td>0.068445</td>\n",
       "      <td>0.048804</td>\n",
       "      <td>0.083255</td>\n",
       "      <td>0.085203</td>\n",
       "      <td>0.062800</td>\n",
       "    </tr>\n",
       "  </tbody>\n",
       "</table>\n",
       "</div>"
      ],
      "text/plain": [
       "          blobs1_8  blobs1_16  blobs1_32  blobs2_8  blobs2_16  blobs2_32  \\\n",
       "Mean TMM  0.254399   0.315383   0.099561  0.616263   0.472701   0.078133   \n",
       "Std TMM   0.086741   0.085962   0.100272  0.126164   0.220613   0.138896   \n",
       "Mean GMM  0.243779   0.485655   0.273292  0.768583   0.605311   0.294786   \n",
       "Std GMM   0.106693   0.216788   0.065886  0.151919   0.147023   0.194710   \n",
       "\n",
       "          densired8  densired16  densired32  densired64  densired_soft_8  \\\n",
       "Mean TMM   0.943490    0.991722    0.853693    0.976347         0.874788   \n",
       "Std TMM    0.041884    0.018096    0.077501    0.026050         0.031051   \n",
       "Mean GMM   0.998940    0.999443    0.982230    0.983552         0.700672   \n",
       "Std GMM    0.001112    0.000388    0.030136    0.032509         0.087873   \n",
       "\n",
       "          densired_soft_16  densired_soft_32  densired_soft_64    mnist8  \\\n",
       "Mean TMM          0.790831          0.885017          0.809538  0.664255   \n",
       "Std TMM           0.058604          0.037707          0.047143  0.000640   \n",
       "Mean GMM          0.653724          0.633538          0.354908  0.629386   \n",
       "Std GMM           0.122072          0.068203          0.068445  0.048804   \n",
       "\n",
       "           mnist16   mnist32   mnist64  \n",
       "Mean TMM  0.763149  0.752843  0.580064  \n",
       "Std TMM   0.096397  0.048607  0.038053  \n",
       "Mean GMM  0.520579  0.273971  0.086512  \n",
       "Std GMM   0.083255  0.085203  0.062800  "
      ]
     },
     "execution_count": 18,
     "metadata": {},
     "output_type": "execute_result"
    }
   ],
   "source": [
    "all_dataframes[35]"
   ]
  },
  {
   "cell_type": "code",
   "execution_count": 9,
   "metadata": {},
   "outputs": [],
   "source": [
    "def plot_combined_data(df_both):\n",
    "    means = df_both.loc[['Mean TMM', 'Mean GMM']]\n",
    "    stds = df_both.loc[['Std TMM', 'Std GMM']]\n",
    "    \n",
    "    columns_to_plot = [col for col in means.columns if not col.startswith('blob')]\n",
    "    means = means[columns_to_plot]\n",
    "    stds = stds[columns_to_plot]\n",
    "\n",
    "    x = np.arange(len(means.columns))\n",
    "    width = 0.35\n",
    "\n",
    "    plt.bar(x - width/2, means.loc['Mean TMM'], width, yerr=stds.loc['Std TMM'], label='TMM')\n",
    "    plt.bar(x + width/2, means.loc['Mean GMM'], width, yerr=stds.loc['Std GMM'], label='GMM')\n",
    "\n",
    "    # plt.xticks(x, means.columns)\n",
    "    plt.xticks(x, means.columns, rotation=90)\n",
    "    plt.legend()\n",
    "    plt.show()\n"
   ]
  },
  {
   "cell_type": "code",
   "execution_count": null,
   "metadata": {},
   "outputs": [],
   "source": []
  },
  {
   "cell_type": "code",
   "execution_count": 47,
   "metadata": {},
   "outputs": [
    {
     "data": {
      "image/png": "[encoded data removed]",
      "text/plain": [
       "<Figure size 1300x660 with 1 Axes>"
      ]
     },
     "metadata": {},
     "output_type": "display_data"
    }
   ],
   "source": [
    "def plot_combined_data2(df_both1, df_both2, df_both3):\n",
    "    means1 = df_both1.loc[['Mean TMM', 'Mean GMM']]\n",
    "    stds1 = df_both1.loc[['Std TMM', 'Std GMM']]\n",
    "    means2 = df_both2.loc[['Mean TMM', 'Mean GMM']]\n",
    "    stds2 = df_both2.loc[['Std TMM', 'Std GMM']]\n",
    "    means3 = df_both3.loc[['Mean TMM', 'Mean GMM']]\n",
    "    stds3 = df_both3.loc[['Std TMM', 'Std GMM']]\n",
    "\n",
    "    columns_to_plot = set(means1.columns) & set(means2.columns) & set(means3.columns)\n",
    "    columns_to_plot = [col for col in means1.columns if not col.startswith('blob')]\n",
    "    means1 = means1[columns_to_plot]\n",
    "    stds1 = stds1[columns_to_plot]\n",
    "    means2 = means2.reindex(columns=columns_to_plot, fill_value=0)\n",
    "    stds2 = stds2.reindex(columns=columns_to_plot, fill_value=0)\n",
    "\n",
    "    means3 = means3.reindex(columns=columns_to_plot, fill_value=0)\n",
    "    stds3 = stds3.reindex(columns=columns_to_plot, fill_value=0)\n",
    "\n",
    "    x = np.arange(len(means1.columns))\n",
    "    width = 0.13\n",
    "\n",
    "    plt.rcParams['font.size'] = 22\n",
    "    plt.rcParams['text.usetex'] = False    \n",
    "    plt.figure(figsize=(13, 6.6))\n",
    "    plt.xlim(-0.55, len(means1.columns)-.5)\n",
    "\n",
    "\n",
    "    for i, col in enumerate(means1.columns):\n",
    "        plt.bar(x[i] - 0.26, means1.loc['Mean TMM', col], width, yerr=stds1.loc['Std TMM', col], color='#f3cdbb', zorder=5)\n",
    "        plt.bar(x[i] - 0.13, means1.loc['Mean GMM', col], width, yerr=stds1.loc['Std GMM', col], color='#c7ddf2', zorder=5)\n",
    "        plt.bar(x[i], means2.loc['Mean TMM', col], width, yerr=stds2.loc['Std TMM', col], color='#e69679', zorder=5)\n",
    "        plt.bar(x[i] + 0.13, means2.loc['Mean GMM', col], width, yerr=stds2.loc['Std GMM', col], color='#8ebae5', zorder=5)\n",
    "        plt.bar(x[i] + 0.26, means3.loc['Mean TMM', col], width, yerr=stds3.loc['Std TMM', col], color='#d85c41', zorder=5)\n",
    "        plt.bar(x[i] + 0.39, means3.loc['Mean GMM', col], width, yerr=stds3.loc['Std GMM', col], color='#407fb7', zorder=5)\n",
    "    \n",
    "    plt.text(x[0]-0.32,0.1, \"15\", fontsize=18, color='black',rotation=90, alpha=.8, weight='bold', zorder=6)\n",
    "    plt.text(x[0]-0.05,0.1, \"25\", fontsize=18, color='black',rotation=90, alpha=.8, weight='bold', zorder=6)\n",
    "    plt.text(x[0]+0.21,0.1, \"35\", fontsize=18, color='black',rotation=90, alpha=.8, weight='bold', zorder=6)\n",
    "    plt.plot([], [], color='#d85c41', label='t-NEB')\n",
    "    plt.plot([], [], color='#407fb7', label='g-NEB')\n",
    "\n",
    "    column_names = [corc.our_datasets.dataset_displaynames[col] for col in means1.columns] #corc.our_datasets.dataset_displaynames[means1.columns]\n",
    "    # plt.xticks(x+0.2, column_names, rotation=40, ha='right')\n",
    "\n",
    "    plt.xticks(x, [''] * len(column_names))  # Remove default tick labels\n",
    "    for i, label in enumerate(column_names):\n",
    "        plt.text(x[i]-.45, -0.47, label, rotation=50, ha='center')\n",
    "\n",
    "    plt.ylabel('ARI')\n",
    "    plt.legend(frameon=True, facecolor='white', edgecolor='white', framealpha=1, loc=(0.83,0.75), labelspacing=0.1, borderaxespad=-0,)\n",
    "    plt.grid(axis='y', linestyle='-', color='grey', linewidth=0.5)\n",
    "    plt.gca().spines['top'].set_visible(False)\n",
    "    plt.gca().spines['left'].set_visible(False)\n",
    "    plt.gca().spines['right'].set_visible(False)\n",
    "\n",
    "    plt.tight_layout()\n",
    "    plt.savefig(f\"../../figures/tmm_vs_gmm.pdf\", bbox_inches='tight', pad_inches=0)\n",
    "    plt.show()\n",
    "\n",
    "plot_combined_data2(all_dataframes[15], all_dataframes[25], all_dataframes[35])"
   ]
  },
  {
   "cell_type": "code",
   "execution_count": 74,
   "metadata": {},
   "outputs": [
    {
     "data": {
      "image/png": "[encoded data removed]",
      "text/plain": [
       "<Figure size 1500x600 with 1 Axes>"
      ]
     },
     "metadata": {},
     "output_type": "display_data"
    }
   ],
   "source": [
    "plot_combined_data2(all_dataframes[15], all_dataframes[25], all_dataframes[35])"
   ]
  }
 ],
 "metadata": {
  "kernelspec": {
   "display_name": "continuum",
   "language": "python",
   "name": "python3"
  },
  "language_info": {
   "codemirror_mode": {
    "name": "ipython",
    "version": 3
   },
   "file_extension": ".py",
   "mimetype": "text/x-python",
   "name": "python",
   "nbconvert_exporter": "python",
   "pygments_lexer": "ipython3",
   "version": "3.11.9"
  }
 },
 "nbformat": 4,
 "nbformat_minor": 2
}
