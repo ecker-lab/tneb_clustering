{
 "cells": [
  {
   "cell_type": "markdown",
   "id": "9094ae00",
   "metadata": {},
   "source": [
    "# Comparing several hyperparameters"
   ]
  },
  {
   "cell_type": "code",
   "execution_count": 1,
   "id": "42c4638c",
   "metadata": {},
   "outputs": [],
   "source": [
    "%load_ext autoreload\n",
    "%autoreload 2"
   ]
  },
  {
   "cell_type": "code",
   "execution_count": 2,
   "id": "76b9f7a9",
   "metadata": {},
   "outputs": [],
   "source": [
    "import corc.utils\n",
    "# import corc\n",
    "import matplotlib.pyplot as plt\n",
    "import pickle\n",
    "import corc.graph_metrics.uniforce\n",
    "import corc.graph_metrics.neb\n",
    "import pandas as pd\n",
    "import corc.our_datasets\n",
    "import tqdm \n",
    "cache_folder = \"../cache\""
   ]
  },
  {
   "cell_type": "code",
   "execution_count": 3,
   "id": "0caedc87",
   "metadata": {},
   "outputs": [],
   "source": [
    "datasets = corc.our_datasets.CORE_HD_DATASETS\n"
   ]
  },
  {
   "cell_type": "code",
   "execution_count": 4,
   "id": "620ccfc5",
   "metadata": {},
   "outputs": [],
   "source": [
    "def get_all_aris(cache_folder):\n",
    "    all_aris = dict()\n",
    "    # datasets = corc.our_datasets.DATASETS2D\n",
    "    # datasets = corc.our_datasets.CORE_HD_DATASETS\n",
    "    datasets = corc.our_datasets.DATASET_SELECTOR\n",
    "\n",
    "    for dataset in tqdm.tqdm(datasets):\n",
    "        X,y,tsne = corc.utils.load_dataset(dataset, cache_folder)\n",
    "        tmms = corc.utils.load_tmms(dataset, cache_folder)\n",
    "        all_aris[dataset] = [tmm.get_ari(X,y) for tmm in tmms]\n",
    "    max_aris = {dataset: max(aris) for dataset, aris in all_aris.items()}\n",
    "    return max_aris"
   ]
  },
  {
   "cell_type": "code",
   "execution_count": 11,
   "id": "c036dc12",
   "metadata": {},
   "outputs": [
    {
     "data": {
      "text/plain": [
       "{'blobs1_8': 0.45558200570663937,\n",
       " 'blobs1_16': 0.6759548176546891,\n",
       " 'blobs1_32': 0.547233861559596,\n",
       " 'blobs1_64': 0.12621379288088347,\n",
       " 'blobs2_8': 0.8752176340463999,\n",
       " 'blobs2_16': 0.7073808773132997,\n",
       " 'blobs2_32': 0.6906247775609116,\n",
       " 'blobs2_64': 0.12739255568970906,\n",
       " 'densired8': 0.9145697065291251,\n",
       " 'densired16': 0.9991528922898953,\n",
       " 'densired32': 0.9411052766030661,\n",
       " 'densired64': 0.9614168886493925,\n",
       " 'densired_soft_8': 0.8833875240681565,\n",
       " 'densired_soft_16': 0.8539937631150106,\n",
       " 'densired_soft_32': 0.9322775794855321,\n",
       " 'densired_soft_64': 0.875586336729425,\n",
       " 'mnist8': 0.7821003184105341,\n",
       " 'mnist16': 0.9252612024371736,\n",
       " 'mnist32': 0.7767798517182053,\n",
       " 'mnist64': 0.736006091775825}"
      ]
     },
     "execution_count": 11,
     "metadata": {},
     "output_type": "execute_result"
    }
   ],
   "source": [
    "max_aris = {dataset: max(aris) for dataset, aris in all_aris.items()}\n",
    "max_aris"
   ]
  },
  {
   "cell_type": "code",
   "execution_count": 15,
   "id": "ea268f4c",
   "metadata": {},
   "outputs": [
    {
     "name": "stderr",
     "output_type": "stream",
     "text": [
      "100%|██████████| 12/12 [00:10<00:00,  1.13it/s]\n"
     ]
    },
    {
     "data": {
      "text/plain": [
       "{'densired8': 0.9154259542207419,\n",
       " 'densired16': 0.9994812581099763,\n",
       " 'densired32': 0.9403327318878137,\n",
       " 'densired64': 0.9611912026531544,\n",
       " 'densired_soft_8': 0.8864630461210533,\n",
       " 'densired_soft_16': 0.9357572061626555,\n",
       " 'densired_soft_32': 0.9362739455687082,\n",
       " 'densired_soft_64': 0.7876474875493565,\n",
       " 'mnist8': 0.7736526782829555,\n",
       " 'mnist16': 0.9178499306648794,\n",
       " 'mnist32': 0.7911511607016158,\n",
       " 'mnist64': 0.730825738083194}"
      ]
     },
     "execution_count": 15,
     "metadata": {},
     "output_type": "execute_result"
    }
   ],
   "source": [
    "all_aris_cache3 = get_all_aris(\"../cache3\")\n",
    "all_aris_cache3"
   ]
  },
  {
   "cell_type": "code",
   "execution_count": 6,
   "id": "19ba8c82",
   "metadata": {},
   "outputs": [
    {
     "name": "stderr",
     "output_type": "stream",
     "text": [
      " 35%|███▍      | 9/26 [00:04<00:11,  1.48it/s]"
     ]
    },
    {
     "name": "stdout",
     "output_type": "stream",
     "text": [
      "6 clusters is not achievable.\n",
      "Working with 3 clusters instead.\n"
     ]
    },
    {
     "name": "stderr",
     "output_type": "stream",
     "text": [
      " 38%|███▊      | 10/26 [00:04<00:09,  1.67it/s]"
     ]
    },
    {
     "name": "stdout",
     "output_type": "stream",
     "text": [
      "6 clusters is not achievable.\n",
      "Working with 5 clusters instead.\n",
      "6 clusters is not achievable.\n",
      "Working with 4 clusters instead.\n",
      "6 clusters is not achievable.\n",
      "Working with 3 clusters instead.\n",
      "6 clusters is not achievable.\n",
      "Working with 5 clusters instead.\n",
      "6 clusters is not achievable.\n",
      "Working with 3 clusters instead.\n",
      "6 clusters is not achievable.\n",
      "Working with 3 clusters instead.\n",
      "6 clusters is not achievable.\n",
      "Working with 4 clusters instead.\n",
      "6 clusters is not achievable.\n",
      "Working with 3 clusters instead.\n"
     ]
    },
    {
     "name": "stderr",
     "output_type": "stream",
     "text": [
      " 50%|█████     | 13/26 [00:06<00:06,  2.00it/s]"
     ]
    },
    {
     "name": "stdout",
     "output_type": "stream",
     "text": [
      "6 clusters is not achievable.\n",
      "Working with 5 clusters instead.\n",
      "6 clusters is not achievable.\n",
      "Working with 2 clusters instead.\n",
      "6 clusters is not achievable.\n",
      "Working with 2 clusters instead.\n",
      "6 clusters is not achievable.\n",
      "Working with 3 clusters instead.\n",
      "6 clusters is not achievable.\n",
      "Working with 4 clusters instead.\n"
     ]
    },
    {
     "name": "stderr",
     "output_type": "stream",
     "text": [
      " 54%|█████▍    | 14/26 [00:06<00:06,  1.74it/s]"
     ]
    },
    {
     "name": "stdout",
     "output_type": "stream",
     "text": [
      "6 clusters is not achievable.\n",
      "Working with 3 clusters instead.\n",
      "6 clusters is not achievable.\n",
      "Working with 4 clusters instead.\n",
      "6 clusters is not achievable.\n",
      "Working with 1 clusters instead.\n",
      "6 clusters is not achievable.\n",
      "Working with 4 clusters instead.\n"
     ]
    },
    {
     "name": "stderr",
     "output_type": "stream",
     "text": [
      "100%|██████████| 26/26 [00:10<00:00,  2.45it/s]\n"
     ]
    },
    {
     "data": {
      "text/plain": [
       "{'noisy_circles': 1.0,\n",
       " 'noisy_moons': 1.0,\n",
       " 'varied': 0.9185869026460391,\n",
       " 'aniso': 0.9940030181141498,\n",
       " 'blobs': 0.9791686930598544,\n",
       " 'clusterlab10': 1.0,\n",
       " 'blobs1_8': 0.34262232302663975,\n",
       " 'blobs1_16': 0.6410282099934741,\n",
       " 'blobs1_32': 0.5861164439968722,\n",
       " 'blobs1_64': 0.1163306540379317,\n",
       " 'blobs2_8': 0.9193729615061842,\n",
       " 'blobs2_16': 0.7838116179263909,\n",
       " 'blobs2_32': 0.7084642736339302,\n",
       " 'blobs2_64': 0.014901978761080105,\n",
       " 'densired8': 0.9154259542207419,\n",
       " 'densired16': 0.9994812581099763,\n",
       " 'densired32': 0.9403327318878137,\n",
       " 'densired64': 0.9611912026531544,\n",
       " 'densired_soft_8': 0.8864630461210533,\n",
       " 'densired_soft_16': 0.9357572061626555,\n",
       " 'densired_soft_32': 0.9362739455687082,\n",
       " 'densired_soft_64': 0.7876474875493565,\n",
       " 'mnist8': 0.7736526782829555,\n",
       " 'mnist16': 0.9178499306648794,\n",
       " 'mnist32': 0.7911511607016158,\n",
       " 'mnist64': 0.730825738083194}"
      ]
     },
     "execution_count": 6,
     "metadata": {},
     "output_type": "execute_result"
    }
   ],
   "source": [
    "all_aris_cache_2d = get_all_aris(\"../cache3\")\n",
    "all_aris_cache_2d"
   ]
  },
  {
   "cell_type": "code",
   "execution_count": 5,
   "id": "3be8c8fd",
   "metadata": {},
   "outputs": [
    {
     "name": "stderr",
     "output_type": "stream",
     "text": [
      " 35%|███▍      | 9/26 [00:08<00:16,  1.05it/s]"
     ]
    },
    {
     "name": "stdout",
     "output_type": "stream",
     "text": [
      "6 clusters is not achievable.\n",
      "Working with 2 clusters instead.\n",
      "6 clusters is not achievable.\n",
      "Working with 2 clusters instead.\n",
      "6 clusters is not achievable.\n",
      "Working with 4 clusters instead.\n",
      "6 clusters is not achievable.\n",
      "Working with 2 clusters instead.\n",
      "6 clusters is not achievable.\n",
      "Working with 1 clusters instead.\n",
      "6 clusters is not achievable.\n",
      "Working with 2 clusters instead.\n"
     ]
    },
    {
     "name": "stderr",
     "output_type": "stream",
     "text": [
      " 38%|███▊      | 10/26 [00:10<00:19,  1.22s/it]"
     ]
    },
    {
     "name": "stdout",
     "output_type": "stream",
     "text": [
      "6 clusters is not achievable.\n",
      "Working with 3 clusters instead.\n",
      "6 clusters is not achievable.\n",
      "Working with 4 clusters instead.\n",
      "6 clusters is not achievable.\n",
      "Working with 3 clusters instead.\n"
     ]
    },
    {
     "name": "stderr",
     "output_type": "stream",
     "text": [
      " 50%|█████     | 13/26 [00:14<00:18,  1.42s/it]"
     ]
    },
    {
     "name": "stdout",
     "output_type": "stream",
     "text": [
      "6 clusters is not achievable.\n",
      "Working with 3 clusters instead.\n",
      "6 clusters is not achievable.\n",
      "Working with 1 clusters instead.\n",
      "6 clusters is not achievable.\n",
      "Working with 1 clusters instead.\n",
      "6 clusters is not achievable.\n",
      "Working with 2 clusters instead.\n",
      "6 clusters is not achievable.\n",
      "Working with 2 clusters instead.\n",
      "6 clusters is not achievable.\n",
      "Working with 2 clusters instead.\n"
     ]
    },
    {
     "name": "stderr",
     "output_type": "stream",
     "text": [
      " 54%|█████▍    | 14/26 [00:16<00:18,  1.56s/it]"
     ]
    },
    {
     "name": "stdout",
     "output_type": "stream",
     "text": [
      "6 clusters is not achievable.\n",
      "Working with 4 clusters instead.\n",
      "6 clusters is not achievable.\n",
      "Working with 1 clusters instead.\n",
      "6 clusters is not achievable.\n",
      "Working with 1 clusters instead.\n"
     ]
    },
    {
     "name": "stderr",
     "output_type": "stream",
     "text": [
      "100%|██████████| 26/26 [00:26<00:00,  1.03s/it]\n"
     ]
    },
    {
     "data": {
      "text/plain": [
       "{'noisy_circles': 1.0,\n",
       " 'noisy_moons': 1.0,\n",
       " 'varied': 0.9557599714670977,\n",
       " 'aniso': 0.9940030181141498,\n",
       " 'blobs': 0.9762286483708661,\n",
       " 'clusterlab10': 1.0,\n",
       " 'blobs1_8': 0.5952380663774963,\n",
       " 'blobs1_16': 0.6703361045730446,\n",
       " 'blobs1_32': 0.47130118485304623,\n",
       " 'blobs1_64': 0.09263044752978673,\n",
       " 'blobs2_8': 0.9289957517994762,\n",
       " 'blobs2_16': 0.8348194600748167,\n",
       " 'blobs2_32': 0.6510849761301287,\n",
       " 'blobs2_64': 0.14762171667427595,\n",
       " 'densired8': 0.9849682468022152,\n",
       " 'densired16': 0.999397856410516,\n",
       " 'densired32': 0.9975086719170865,\n",
       " 'densired64': 0.9955838145655392,\n",
       " 'densired_soft_8': 0.8908139630997427,\n",
       " 'densired_soft_16': 0.9352201268860914,\n",
       " 'densired_soft_32': 0.9365724128926435,\n",
       " 'densired_soft_64': 0.7873728262988128,\n",
       " 'mnist8': 0.7755900983197325,\n",
       " 'mnist16': 0.7784781131325141,\n",
       " 'mnist32': 0.6209229077625189,\n",
       " 'mnist64': 0.5435717931210313}"
      ]
     },
     "execution_count": 5,
     "metadata": {},
     "output_type": "execute_result"
    }
   ],
   "source": [
    "all_aris_cache3_2d = get_all_aris(\"../cache_variable_df\")\n",
    "all_aris_cache3_2d"
   ]
  },
  {
   "cell_type": "code",
   "execution_count": 8,
   "id": "18e38979",
   "metadata": {},
   "outputs": [
    {
     "name": "stdout",
     "output_type": "stream",
     "text": [
      "noisy_circles\t\t: 1.00 (fixed), 1.00 (variable)\n",
      "noisy_moons\t\t: 1.00 (fixed), 1.00 (variable)\n",
      "varied\t\t: 0.92 (fixed), 0.96 (variable)\n",
      "aniso\t\t: 0.99 (fixed), 0.99 (variable)\n",
      "blobs\t\t: 0.98 (fixed), 0.98 (variable)\n",
      "clusterlab10\t\t: 1.00 (fixed), 1.00 (variable)\n",
      "blobs1_8\t\t: 0.34 (fixed), 0.60 (variable)\n",
      "blobs1_16\t\t: 0.64 (fixed), 0.67 (variable)\n",
      "blobs1_32\t\t: 0.59 (fixed), 0.47 (variable)\n",
      "blobs1_64\t\t: 0.12 (fixed), 0.09 (variable)\n",
      "blobs2_8\t\t: 0.92 (fixed), 0.93 (variable)\n",
      "blobs2_16\t\t: 0.78 (fixed), 0.83 (variable)\n",
      "blobs2_32\t\t: 0.71 (fixed), 0.65 (variable)\n",
      "blobs2_64\t\t: 0.01 (fixed), 0.15 (variable)\n",
      "densired8\t\t: 0.92 (fixed), 0.98 (variable)\n",
      "densired16\t\t: 1.00 (fixed), 1.00 (variable)\n",
      "densired32\t\t: 0.94 (fixed), 1.00 (variable)\n",
      "densired64\t\t: 0.96 (fixed), 1.00 (variable)\n",
      "densired_soft_8\t\t: 0.89 (fixed), 0.89 (variable)\n",
      "densired_soft_16\t\t: 0.94 (fixed), 0.94 (variable)\n",
      "densired_soft_32\t\t: 0.94 (fixed), 0.94 (variable)\n",
      "densired_soft_64\t\t: 0.79 (fixed), 0.79 (variable)\n",
      "mnist8\t\t: 0.77 (fixed), 0.78 (variable)\n",
      "mnist16\t\t: 0.92 (fixed), 0.78 (variable)\n",
      "mnist32\t\t: 0.79 (fixed), 0.62 (variable)\n",
      "mnist64\t\t: 0.73 (fixed), 0.54 (variable)\n"
     ]
    }
   ],
   "source": [
    "for dataset in all_aris_cache3_2d.keys():\n",
    "        print(f\"{dataset}\\t\\t: {all_aris_cache_2d[dataset]:.2f} (fixed), {all_aris_cache3_2d[dataset]:.2f} (variable)\")"
   ]
  }
 ],
 "metadata": {
  "kernelspec": {
   "display_name": "tneb",
   "language": "python",
   "name": "python3"
  },
  "language_info": {
   "codemirror_mode": {
    "name": "ipython",
    "version": 3
   },
   "file_extension": ".py",
   "mimetype": "text/x-python",
   "name": "python",
   "nbconvert_exporter": "python",
   "pygments_lexer": "ipython3",
   "version": "3.11.11"
  }
 },
 "nbformat": 4,
 "nbformat_minor": 5
}
