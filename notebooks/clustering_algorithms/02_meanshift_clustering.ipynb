{
 "cells": [
  {
   "cell_type": "code",
   "execution_count": null,
   "metadata": {},
   "outputs": [],
   "source": [
    "import matplotlib.pyplot as plt\n",
    "from sklearn.cluster import MeanShift, estimate_bandwidth\n",
    "\n",
    "from corc.generation import GenerationModel\n",
    "\n",
    "%matplotlib inline"
   ]
  },
  {
   "cell_type": "markdown",
   "metadata": {},
   "source": [
    "# References\n",
    "\n",
    "- https://en.wikipedia.org/wiki/Mean_shift\n",
    "- https://scikit-learn.org/stable/modules/generated/sklearn.cluster.MeanShift.html\n",
    "- https://scikit-learn.org/stable/auto_examples/cluster/plot_mean_shift.html#sphx-glr-auto-examples-cluster-plot-mean-shift-py"
   ]
  },
  {
   "cell_type": "markdown",
   "metadata": {},
   "source": [
    "# Equidistant triangle"
   ]
  },
  {
   "cell_type": "code",
   "execution_count": null,
   "metadata": {},
   "outputs": [],
   "source": [
    "params = {\n",
    "    'center_structure': 'equidistant_triangle',\n",
    "    'n_centers': 3,\n",
    "    'distance': 1,\n",
    "    'n_samples': 1000,\n",
    "    'dim': 2,\n",
    "    'save_file': False,\n",
    "    'outdir': '.'\n",
    "}"
   ]
  },
  {
   "cell_type": "code",
   "execution_count": null,
   "metadata": {},
   "outputs": [],
   "source": [
    "gen = GenerationModel(**params)\n",
    "gen.generate()"
   ]
  },
  {
   "cell_type": "markdown",
   "metadata": {},
   "source": [
    "## std = 0.01"
   ]
  },
  {
   "cell_type": "code",
   "execution_count": null,
   "metadata": {},
   "outputs": [],
   "source": [
    "std = 0.01\n",
    "data = gen.sample_embedding(std=std)\n",
    "plt.scatter(data[:,0], data[:,1], c=gen.labels)"
   ]
  },
  {
   "cell_type": "code",
   "execution_count": null,
   "metadata": {},
   "outputs": [],
   "source": [
    "# bandwidth = estimate_bandwidth(data, quantile=0.2, n_samples=500)\n",
    "bandwidth = estimate_bandwidth(data, quantile=0.3)\n",
    "print(f'{bandwidth=}')\n",
    "clustering = MeanShift(bandwidth=bandwidth, bin_seeding=True).fit(data)\n",
    "\n",
    "print(f'n clusters = {len(clustering.cluster_centers_)}')\n",
    "\n",
    "plt.scatter(data[:,0], data[:,1], c=clustering.labels_)\n",
    "plt.scatter(clustering.cluster_centers_[:,0], clustering.cluster_centers_[:,1], marker='x', s=30, c='blacK')"
   ]
  },
  {
   "cell_type": "markdown",
   "metadata": {},
   "source": [
    "## std = 0.1"
   ]
  },
  {
   "cell_type": "code",
   "execution_count": null,
   "metadata": {},
   "outputs": [],
   "source": [
    "std = 0.1\n",
    "data = gen.sample_embedding(std=std)\n",
    "plt.scatter(data[:,0], data[:,1], c=gen.labels)"
   ]
  },
  {
   "cell_type": "code",
   "execution_count": null,
   "metadata": {},
   "outputs": [],
   "source": [
    "bandwidth = estimate_bandwidth(data, quantile=0.3)\n",
    "print(f'{bandwidth=}')\n",
    "clustering = MeanShift(bandwidth=bandwidth, bin_seeding=True).fit(data)\n",
    "\n",
    "print(f'n clusters = {len(clustering.cluster_centers_)}')\n",
    "\n",
    "plt.scatter(data[:,0], data[:,1], c=clustering.labels_)\n",
    "plt.scatter(clustering.cluster_centers_[:,0], clustering.cluster_centers_[:,1], marker='x', s=30, c='blacK')"
   ]
  },
  {
   "cell_type": "markdown",
   "metadata": {},
   "source": [
    "## std = 0.2"
   ]
  },
  {
   "cell_type": "code",
   "execution_count": null,
   "metadata": {},
   "outputs": [],
   "source": [
    "std = 0.2\n",
    "data = gen.sample_embedding(std=std)\n",
    "plt.scatter(data[:,0], data[:,1], c=gen.labels)"
   ]
  },
  {
   "cell_type": "code",
   "execution_count": null,
   "metadata": {},
   "outputs": [],
   "source": [
    "bandwidth = estimate_bandwidth(data, quantile=0.3)\n",
    "print(f'{bandwidth=}')\n",
    "clustering = MeanShift(bandwidth=bandwidth, bin_seeding=True).fit(data)\n",
    "\n",
    "print(f'n clusters = {len(clustering.cluster_centers_)}')\n",
    "\n",
    "plt.scatter(data[:,0], data[:,1], c=clustering.labels_)\n",
    "plt.scatter(clustering.cluster_centers_[:,0], clustering.cluster_centers_[:,1], marker='x', s=30, c='blacK')"
   ]
  },
  {
   "cell_type": "markdown",
   "metadata": {},
   "source": [
    "## std = 0.5"
   ]
  },
  {
   "cell_type": "code",
   "execution_count": null,
   "metadata": {},
   "outputs": [],
   "source": [
    "std = 0.4\n",
    "data = gen.sample_embedding(std=std)\n",
    "plt.scatter(data[:,0], data[:,1], c=gen.labels)"
   ]
  },
  {
   "cell_type": "code",
   "execution_count": null,
   "metadata": {},
   "outputs": [],
   "source": [
    "bandwidth = estimate_bandwidth(data, quantile=0.3)\n",
    "print(f'{bandwidth=}')\n",
    "clustering = MeanShift(bandwidth=bandwidth, bin_seeding=True).fit(data)\n",
    "\n",
    "print(f'n clusters = {len(clustering.cluster_centers_)}')\n",
    "\n",
    "plt.scatter(data[:,0], data[:,1], c=clustering.labels_)\n",
    "plt.scatter(clustering.cluster_centers_[:,0], clustering.cluster_centers_[:,1], marker='x', s=30, c='blacK')"
   ]
  },
  {
   "cell_type": "markdown",
   "metadata": {},
   "source": [
    "# More than 3 clusters"
   ]
  },
  {
   "cell_type": "code",
   "execution_count": null,
   "metadata": {},
   "outputs": [],
   "source": [
    "params = {\n",
    "    'center_structure': 'uniform',\n",
    "    'n_centers': 7,\n",
    "    'distance': 1,\n",
    "    'n_samples': 1000,\n",
    "    'dim': 2,\n",
    "    'save_file': False,\n",
    "    'outdir': '.'\n",
    "}"
   ]
  },
  {
   "cell_type": "code",
   "execution_count": null,
   "metadata": {},
   "outputs": [],
   "source": [
    "gen = GenerationModel(**params)\n",
    "gen.generate()"
   ]
  },
  {
   "cell_type": "markdown",
   "metadata": {},
   "source": [
    "## std = 0.01"
   ]
  },
  {
   "cell_type": "code",
   "execution_count": null,
   "metadata": {},
   "outputs": [],
   "source": [
    "std = 0.01\n",
    "data = gen.sample_embedding(std=std)\n",
    "plt.scatter(data[:,0], data[:,1], c=gen.labels)"
   ]
  },
  {
   "cell_type": "code",
   "execution_count": null,
   "metadata": {},
   "outputs": [],
   "source": [
    "bandwidth = estimate_bandwidth(data, quantile=0.1)\n",
    "print(f'{bandwidth=}')\n",
    "clustering = MeanShift(bandwidth=bandwidth, bin_seeding=True).fit(data)\n",
    "\n",
    "print(f'n clusters = {len(clustering.cluster_centers_)}')\n",
    "\n",
    "plt.scatter(data[:,0], data[:,1], c=clustering.labels_)\n",
    "plt.scatter(clustering.cluster_centers_[:,0], clustering.cluster_centers_[:,1], marker='x', s=30, c='blacK')"
   ]
  },
  {
   "cell_type": "markdown",
   "metadata": {},
   "source": [
    "## std = 0.05"
   ]
  },
  {
   "cell_type": "code",
   "execution_count": null,
   "metadata": {},
   "outputs": [],
   "source": [
    "std = 0.05\n",
    "data = gen.sample_embedding(std=std)\n",
    "plt.scatter(data[:,0], data[:,1], c=gen.labels)"
   ]
  },
  {
   "cell_type": "code",
   "execution_count": null,
   "metadata": {},
   "outputs": [],
   "source": [
    "bandwidth = estimate_bandwidth(data, quantile=0.1)\n",
    "print(f'{bandwidth=}')\n",
    "clustering = MeanShift(bandwidth=bandwidth, bin_seeding=True).fit(data)\n",
    "\n",
    "print(f'n clusters = {len(clustering.cluster_centers_)}')\n",
    "\n",
    "plt.scatter(data[:,0], data[:,1], c=clustering.labels_)\n",
    "plt.scatter(clustering.cluster_centers_[:,0], clustering.cluster_centers_[:,1], marker='x', s=30, c='blacK')"
   ]
  },
  {
   "cell_type": "markdown",
   "metadata": {},
   "source": [
    "## std = 0.1"
   ]
  },
  {
   "cell_type": "code",
   "execution_count": null,
   "metadata": {},
   "outputs": [],
   "source": [
    "std = 0.1\n",
    "data = gen.sample_embedding(std=std)\n",
    "plt.scatter(data[:,0], data[:,1], c=gen.labels)"
   ]
  },
  {
   "cell_type": "code",
   "execution_count": null,
   "metadata": {},
   "outputs": [],
   "source": [
    "bandwidth = estimate_bandwidth(data, quantile=0.2)\n",
    "print(f'{bandwidth=}')\n",
    "clustering = MeanShift(bandwidth=bandwidth, bin_seeding=True).fit(data)\n",
    "\n",
    "print(f'n clusters = {len(clustering.cluster_centers_)}')\n",
    "\n",
    "plt.scatter(data[:,0], data[:,1], c=clustering.labels_)\n",
    "plt.scatter(clustering.cluster_centers_[:,0], clustering.cluster_centers_[:,1], marker='x', s=30, c='blacK')"
   ]
  },
  {
   "cell_type": "markdown",
   "metadata": {},
   "source": [
    "# On Mara's embeddings"
   ]
  },
  {
   "cell_type": "code",
   "execution_count": null,
   "metadata": {},
   "outputs": [],
   "source": [
    "import pandas as pd\n",
    "import numpy as np"
   ]
  },
  {
   "cell_type": "code",
   "execution_count": null,
   "metadata": {},
   "outputs": [],
   "source": [
    "df = pd.read_pickle('../../graphdino_morphological_embeddings_tsne.pkl')\n",
    "latents = np.stack(df['latent_emb'].values).astype(float)\n",
    "tsne = np.stack(df['tsne'].values).astype(float)"
   ]
  },
  {
   "cell_type": "code",
   "execution_count": null,
   "metadata": {},
   "outputs": [],
   "source": [
    "plt.scatter(tsne[:,0], tsne[:,1], s=1)"
   ]
  },
  {
   "cell_type": "code",
   "execution_count": null,
   "metadata": {},
   "outputs": [],
   "source": [
    "# bandwidth = estimate_bandwidth(latents, quantile=0.01, n_samples=1000)\n",
    "bandwidth = 0.05\n",
    "print(f'{bandwidth=}')\n",
    "clustering = MeanShift(bandwidth=bandwidth).fit(latents)\n",
    "\n",
    "print(f'n clusters = {len(clustering.cluster_centers_)}')\n",
    "\n",
    "plt.scatter(tsne[:,0], tsne[:,1], c=clustering.labels_, s=1)\n",
    "plt.scatter(clustering.cluster_centers_[:,0], clustering.cluster_centers_[:,1], marker='x', s=30, c='blacK')"
   ]
  },
  {
   "cell_type": "code",
   "execution_count": null,
   "metadata": {},
   "outputs": [],
   "source": [
    "# bandwidth = estimate_bandwidth(latents, quantile=0.01, n_samples=1000)\n",
    "bandwidth = 0.1\n",
    "print(f'{bandwidth=}')\n",
    "clustering = MeanShift(bandwidth=bandwidth).fit(latents)\n",
    "\n",
    "print(f'n clusters = {len(clustering.cluster_centers_)}')\n",
    "\n",
    "plt.scatter(tsne[:,0], tsne[:,1], c=clustering.labels_, s=1)\n",
    "plt.scatter(clustering.cluster_centers_[:,0], clustering.cluster_centers_[:,1], marker='x', s=30, c='blacK')"
   ]
  },
  {
   "cell_type": "code",
   "execution_count": null,
   "metadata": {},
   "outputs": [],
   "source": [
    "# bandwidth = estimate_bandwidth(latents, quantile=0.01, n_samples=1000)\n",
    "bandwidth = 0.2\n",
    "print(f'{bandwidth=}')\n",
    "clustering = MeanShift(bandwidth=bandwidth).fit(latents)\n",
    "\n",
    "print(f'n clusters = {len(clustering.cluster_centers_)}')\n",
    "\n",
    "plt.scatter(tsne[:,0], tsne[:,1], c=clustering.labels_, s=1)\n",
    "plt.scatter(clustering.cluster_centers_[:,0], clustering.cluster_centers_[:,1], marker='x', s=30, c='blacK')"
   ]
  },
  {
   "cell_type": "code",
   "execution_count": null,
   "metadata": {},
   "outputs": [],
   "source": [
    "for quantile in np.arange(0,1,0.1):\n",
    "    bandwidth = estimate_bandwidth(latents, quantile=quantile, n_samples=1000)\n",
    "    print(f'For {quantile=} the {bandwidth=}')"
   ]
  },
  {
   "cell_type": "code",
   "execution_count": null,
   "metadata": {},
   "outputs": [],
   "source": [
    "# bandwidth = estimate_bandwidth(latents, quantile=0.01, n_samples=1000)\n",
    "bandwidth = 2.5\n",
    "print(f'{bandwidth=}')\n",
    "clustering = MeanShift(bandwidth=bandwidth).fit(latents)\n",
    "\n",
    "print(f'n clusters = {len(clustering.cluster_centers_)}')\n",
    "\n",
    "plt.scatter(tsne[:,0], tsne[:,1], c=clustering.labels_, s=1)\n",
    "plt.scatter(clustering.cluster_centers_[:,0], clustering.cluster_centers_[:,1], marker='x', s=30, c='blacK')"
   ]
  },
  {
   "cell_type": "code",
   "execution_count": null,
   "metadata": {},
   "outputs": [],
   "source": [
    "# bandwidth = estimate_bandwidth(latents, quantile=0.01, n_samples=1000)\n",
    "bandwidth = 5\n",
    "print(f'{bandwidth=}')\n",
    "clustering = MeanShift(bandwidth=bandwidth).fit(latents)\n",
    "\n",
    "print(f'n clusters = {len(clustering.cluster_centers_)}')\n",
    "\n",
    "plt.scatter(tsne[:,0], tsne[:,1], c=clustering.labels_, s=1)\n",
    "plt.scatter(clustering.cluster_centers_[:,0], clustering.cluster_centers_[:,1], marker='x', s=30, c='blacK')"
   ]
  },
  {
   "cell_type": "code",
   "execution_count": null,
   "metadata": {},
   "outputs": [],
   "source": []
  }
 ],
 "metadata": {
  "kernelspec": {
   "display_name": "corc",
   "language": "python",
   "name": "python3"
  },
  "language_info": {
   "codemirror_mode": {
    "name": "ipython",
    "version": 3
   },
   "file_extension": ".py",
   "mimetype": "text/x-python",
   "name": "python",
   "nbconvert_exporter": "python",
   "pygments_lexer": "ipython3",
   "version": "3.9.16"
  }
 },
 "nbformat": 4,
 "nbformat_minor": 2
}
