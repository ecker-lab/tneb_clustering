{
 "cells": [
  {
   "cell_type": "code",
   "execution_count": null,
   "metadata": {},
   "outputs": [],
   "source": [
    "import matplotlib.pyplot as plt\n",
    "import pandas as pd\n",
    "import numpy as np\n",
    "from sklearn.manifold import trustworthiness, TSNE\n",
    "from sklearn.cluster import AgglomerativeClustering\n",
    "from sklearn.metrics import silhouette_score\n",
    "import scipy.cluster.hierarchy as shc\n",
    "\n",
    "from corc.generation import GenerationModel\n",
    "\n",
    "%matplotlib inline"
   ]
  },
  {
   "cell_type": "markdown",
   "metadata": {},
   "source": [
    "# References\n",
    "\n",
    "- https://scikit-learn.org/stable/modules/generated/sklearn.cluster.AgglomerativeClustering.html\n",
    "- https://www.geeksforgeeks.org/implementing-agglomerative-clustering-using-sklearn/\n",
    "- https://stackabuse.com/hierarchical-clustering-with-python-and-scikit-learn/\n",
    "- https://docs.scipy.org/doc/scipy/reference/generated/scipy.cluster.hierarchy.linkage.html\n",
    "- https://docs.scipy.org/doc/scipy/reference/generated/scipy.cluster.hierarchy.dendrogram.html"
   ]
  },
  {
   "cell_type": "markdown",
   "metadata": {},
   "source": [
    "# Equidistant triangle"
   ]
  },
  {
   "cell_type": "code",
   "execution_count": null,
   "metadata": {},
   "outputs": [],
   "source": [
    "params = {\n",
    "    'center_structure': 'equidistant_triangle',\n",
    "    'n_centers': 3,\n",
    "    'distance': 1,\n",
    "    'n_samples': 1000,\n",
    "    'dim': 2,\n",
    "    'save_file': False,\n",
    "    'outdir': '.'\n",
    "}"
   ]
  },
  {
   "cell_type": "code",
   "execution_count": null,
   "metadata": {},
   "outputs": [],
   "source": [
    "gen = GenerationModel(**params)\n",
    "gen.generate()"
   ]
  },
  {
   "cell_type": "markdown",
   "metadata": {},
   "source": [
    "## std = 0.01"
   ]
  },
  {
   "cell_type": "code",
   "execution_count": null,
   "metadata": {},
   "outputs": [],
   "source": [
    "std = 0.01\n",
    "data = gen.sample_embedding(std=std)\n",
    "plt.scatter(data[:,0], data[:,1], c=gen.labels)"
   ]
  },
  {
   "cell_type": "code",
   "execution_count": null,
   "metadata": {},
   "outputs": [],
   "source": [
    "Dendrogram = shc.dendrogram((shc.linkage(data, method ='ward')))"
   ]
  },
  {
   "cell_type": "code",
   "execution_count": null,
   "metadata": {},
   "outputs": [],
   "source": [
    "ac2 = AgglomerativeClustering(n_clusters = 3)\n",
    "plt.scatter(data[:,0], data[:,1], c = ac2.fit_predict(data), cmap ='rainbow')"
   ]
  },
  {
   "cell_type": "markdown",
   "metadata": {},
   "source": [
    "## std = 0.1"
   ]
  },
  {
   "cell_type": "code",
   "execution_count": null,
   "metadata": {},
   "outputs": [],
   "source": [
    "std = 0.1\n",
    "data = gen.sample_embedding(std=std)\n",
    "plt.scatter(data[:,0], data[:,1], c=gen.labels)"
   ]
  },
  {
   "cell_type": "code",
   "execution_count": null,
   "metadata": {},
   "outputs": [],
   "source": [
    "Dendrogram = shc.dendrogram((shc.linkage(data, method ='ward')))"
   ]
  },
  {
   "cell_type": "code",
   "execution_count": null,
   "metadata": {},
   "outputs": [],
   "source": [
    "ac2 = AgglomerativeClustering(n_clusters = 3)\n",
    "plt.scatter(data[:,0], data[:,1], c = ac2.fit_predict(data), cmap ='rainbow')"
   ]
  },
  {
   "cell_type": "markdown",
   "metadata": {},
   "source": [
    "## std = 0.2"
   ]
  },
  {
   "cell_type": "code",
   "execution_count": null,
   "metadata": {},
   "outputs": [],
   "source": [
    "std = 0.2\n",
    "data = gen.sample_embedding(std=std)\n",
    "plt.scatter(data[:,0], data[:,1], c=gen.labels)"
   ]
  },
  {
   "cell_type": "code",
   "execution_count": null,
   "metadata": {},
   "outputs": [],
   "source": [
    "Dendrogram = shc.dendrogram((shc.linkage(data, method ='ward')))"
   ]
  },
  {
   "cell_type": "code",
   "execution_count": null,
   "metadata": {},
   "outputs": [],
   "source": [
    "ac2 = AgglomerativeClustering(n_clusters = 3)\n",
    "plt.scatter(data[:,0], data[:,1], c = ac2.fit_predict(data), cmap ='rainbow')"
   ]
  },
  {
   "cell_type": "markdown",
   "metadata": {},
   "source": [
    "## std = 0.4"
   ]
  },
  {
   "cell_type": "code",
   "execution_count": null,
   "metadata": {},
   "outputs": [],
   "source": [
    "std = 0.4\n",
    "data = gen.sample_embedding(std=std)\n",
    "plt.scatter(data[:,0], data[:,1], c=gen.labels)"
   ]
  },
  {
   "cell_type": "code",
   "execution_count": null,
   "metadata": {},
   "outputs": [],
   "source": [
    "Dendrogram = shc.dendrogram((shc.linkage(data, method ='ward')))"
   ]
  },
  {
   "cell_type": "code",
   "execution_count": null,
   "metadata": {},
   "outputs": [],
   "source": [
    "ac2 = AgglomerativeClustering(n_clusters = 3)\n",
    "plt.scatter(data[:,0], data[:,1], c = ac2.fit_predict(data), cmap ='rainbow')"
   ]
  },
  {
   "cell_type": "markdown",
   "metadata": {},
   "source": [
    "# More than 3 clusters"
   ]
  },
  {
   "cell_type": "code",
   "execution_count": null,
   "metadata": {},
   "outputs": [],
   "source": [
    "params = {\n",
    "    'center_structure': 'uniform',\n",
    "    'n_centers': 7,\n",
    "    'distance': 1,\n",
    "    'n_samples': 1000,\n",
    "    'dim': 2,\n",
    "    'save_file': False,\n",
    "    'outdir': '.'\n",
    "}"
   ]
  },
  {
   "cell_type": "code",
   "execution_count": null,
   "metadata": {},
   "outputs": [],
   "source": [
    "gen = GenerationModel(**params)\n",
    "gen.generate()"
   ]
  },
  {
   "cell_type": "markdown",
   "metadata": {},
   "source": [
    "## std = 0.01"
   ]
  },
  {
   "cell_type": "code",
   "execution_count": null,
   "metadata": {},
   "outputs": [],
   "source": [
    "std = 0.01\n",
    "data = gen.sample_embedding(std=std)\n",
    "plt.scatter(data[:,0], data[:,1], c=gen.labels)"
   ]
  },
  {
   "cell_type": "code",
   "execution_count": null,
   "metadata": {},
   "outputs": [],
   "source": [
    "Dendrogram = shc.dendrogram((shc.linkage(data, method ='ward')))"
   ]
  },
  {
   "cell_type": "code",
   "execution_count": null,
   "metadata": {},
   "outputs": [],
   "source": [
    "ac2 = AgglomerativeClustering(n_clusters = 2)\n",
    "plt.scatter(data[:,0], data[:,1], c = ac2.fit_predict(data), cmap ='rainbow')"
   ]
  },
  {
   "cell_type": "code",
   "execution_count": null,
   "metadata": {},
   "outputs": [],
   "source": [
    "ac2 = AgglomerativeClustering(n_clusters = 7)\n",
    "plt.scatter(data[:,0], data[:,1], c = ac2.fit_predict(data), cmap ='rainbow')"
   ]
  },
  {
   "cell_type": "markdown",
   "metadata": {},
   "source": [
    "## std = 0.05"
   ]
  },
  {
   "cell_type": "code",
   "execution_count": null,
   "metadata": {},
   "outputs": [],
   "source": [
    "std = 0.05\n",
    "data = gen.sample_embedding(std=std)\n",
    "plt.scatter(data[:,0], data[:,1], c=gen.labels)"
   ]
  },
  {
   "cell_type": "code",
   "execution_count": null,
   "metadata": {},
   "outputs": [],
   "source": [
    "Dendrogram = shc.dendrogram((shc.linkage(data, method ='ward')))"
   ]
  },
  {
   "cell_type": "code",
   "execution_count": null,
   "metadata": {},
   "outputs": [],
   "source": [
    "ac2 = AgglomerativeClustering(n_clusters = 5)\n",
    "plt.scatter(data[:,0], data[:,1], c = ac2.fit_predict(data), cmap ='rainbow')"
   ]
  },
  {
   "cell_type": "code",
   "execution_count": null,
   "metadata": {},
   "outputs": [],
   "source": [
    "ac2 = AgglomerativeClustering(n_clusters = 7)\n",
    "plt.scatter(data[:,0], data[:,1], c = ac2.fit_predict(data), cmap ='rainbow')"
   ]
  },
  {
   "cell_type": "markdown",
   "metadata": {},
   "source": [
    "## std = 0.1"
   ]
  },
  {
   "cell_type": "code",
   "execution_count": null,
   "metadata": {},
   "outputs": [],
   "source": [
    "std = 0.1\n",
    "data = gen.sample_embedding(std=std)\n",
    "plt.scatter(data[:,0], data[:,1], c=gen.labels)"
   ]
  },
  {
   "cell_type": "code",
   "execution_count": null,
   "metadata": {},
   "outputs": [],
   "source": [
    "Dendrogram = shc.dendrogram((shc.linkage(data, method ='ward')))"
   ]
  },
  {
   "cell_type": "code",
   "execution_count": null,
   "metadata": {},
   "outputs": [],
   "source": [
    "ac2 = AgglomerativeClustering(n_clusters = 5)\n",
    "plt.scatter(data[:,0], data[:,1], c = ac2.fit_predict(data), cmap ='rainbow')"
   ]
  },
  {
   "cell_type": "code",
   "execution_count": null,
   "metadata": {},
   "outputs": [],
   "source": [
    "ac2 = AgglomerativeClustering(n_clusters = 7)\n",
    "plt.scatter(data[:,0], data[:,1], c = ac2.fit_predict(data), cmap ='rainbow')"
   ]
  },
  {
   "cell_type": "markdown",
   "metadata": {},
   "source": [
    "# More than 2 dimensions"
   ]
  },
  {
   "cell_type": "code",
   "execution_count": null,
   "metadata": {},
   "outputs": [],
   "source": [
    "params = {\n",
    "    'center_structure': 'uniform',\n",
    "    'n_centers': 3,\n",
    "    'distance': 1,\n",
    "    'n_samples': 1000,\n",
    "    'dim': 32,\n",
    "    'save_file': False,\n",
    "    'outdir': '.'\n",
    "}"
   ]
  },
  {
   "cell_type": "code",
   "execution_count": null,
   "metadata": {},
   "outputs": [],
   "source": [
    "gen = GenerationModel(**params)\n",
    "gen.generate()"
   ]
  },
  {
   "cell_type": "markdown",
   "metadata": {},
   "source": [
    "## std = 0.2"
   ]
  },
  {
   "cell_type": "code",
   "execution_count": null,
   "metadata": {},
   "outputs": [],
   "source": [
    "std = 0.2\n",
    "data = gen.sample_embedding(std=std)"
   ]
  },
  {
   "cell_type": "code",
   "execution_count": null,
   "metadata": {},
   "outputs": [],
   "source": [
    "tsne = TSNE(n_components=2, perplexity=30).fit_transform(data)\n",
    "plt.scatter(tsne[:,0], tsne[:,1], c=gen.labels)"
   ]
  },
  {
   "cell_type": "code",
   "execution_count": null,
   "metadata": {},
   "outputs": [],
   "source": [
    "Dendrogram = shc.dendrogram((shc.linkage(data, method ='ward')))"
   ]
  },
  {
   "cell_type": "code",
   "execution_count": null,
   "metadata": {},
   "outputs": [],
   "source": [
    "ac2 = AgglomerativeClustering(n_clusters = 3)\n",
    "labels = ac2.fit_predict(data)\n",
    "plt.scatter(tsne[:,0], tsne[:,1], c = labels, cmap ='rainbow')"
   ]
  },
  {
   "cell_type": "code",
   "execution_count": null,
   "metadata": {},
   "outputs": [],
   "source": [
    "Dendrogram = shc.dendrogram((shc.linkage(tsne, method ='ward')))"
   ]
  },
  {
   "cell_type": "code",
   "execution_count": null,
   "metadata": {},
   "outputs": [],
   "source": [
    "ac2 = AgglomerativeClustering(n_clusters = 3)\n",
    "labels = ac2.fit_predict(tsne)\n",
    "plt.scatter(tsne[:,0], tsne[:,1], c = labels, cmap ='rainbow')"
   ]
  },
  {
   "cell_type": "markdown",
   "metadata": {},
   "source": [
    "## std = 0.4"
   ]
  },
  {
   "cell_type": "code",
   "execution_count": null,
   "metadata": {},
   "outputs": [],
   "source": [
    "std = 0.4\n",
    "data = gen.sample_embedding(std=std)"
   ]
  },
  {
   "cell_type": "code",
   "execution_count": null,
   "metadata": {},
   "outputs": [],
   "source": [
    "tsne = TSNE(n_components=2, perplexity=30).fit_transform(data)\n",
    "plt.scatter(tsne[:,0], tsne[:,1], c=gen.labels)"
   ]
  },
  {
   "cell_type": "code",
   "execution_count": null,
   "metadata": {},
   "outputs": [],
   "source": [
    "Dendrogram = shc.dendrogram((shc.linkage(data, method ='ward')))"
   ]
  },
  {
   "cell_type": "code",
   "execution_count": null,
   "metadata": {},
   "outputs": [],
   "source": [
    "ac2 = AgglomerativeClustering(n_clusters = 3)\n",
    "labels = ac2.fit_predict(data)\n",
    "plt.scatter(tsne[:,0], tsne[:,1], c = labels, cmap ='rainbow')"
   ]
  },
  {
   "cell_type": "code",
   "execution_count": null,
   "metadata": {},
   "outputs": [],
   "source": [
    "Dendrogram = shc.dendrogram((shc.linkage(tsne, method ='ward')))"
   ]
  },
  {
   "cell_type": "code",
   "execution_count": null,
   "metadata": {},
   "outputs": [],
   "source": [
    "ac2 = AgglomerativeClustering(n_clusters = 3)\n",
    "labels = ac2.fit_predict(tsne)\n",
    "plt.scatter(tsne[:,0], tsne[:,1], c = labels, cmap ='rainbow')"
   ]
  },
  {
   "cell_type": "markdown",
   "metadata": {},
   "source": [
    "# More clusters and more than 2 dimensions"
   ]
  },
  {
   "cell_type": "code",
   "execution_count": null,
   "metadata": {},
   "outputs": [],
   "source": [
    "params = {\n",
    "    'center_structure': 'uniform',\n",
    "    'n_centers': 6,\n",
    "    'distance': 1,\n",
    "    'n_samples': 1000,\n",
    "    'dim': 32,\n",
    "    'save_file': False,\n",
    "    'outdir': '.'\n",
    "}"
   ]
  },
  {
   "cell_type": "code",
   "execution_count": null,
   "metadata": {},
   "outputs": [],
   "source": [
    "gen = GenerationModel(**params)\n",
    "gen.generate()"
   ]
  },
  {
   "cell_type": "markdown",
   "metadata": {},
   "source": [
    "## std = 0.1"
   ]
  },
  {
   "cell_type": "code",
   "execution_count": null,
   "metadata": {},
   "outputs": [],
   "source": [
    "std = 0.1\n",
    "data = gen.sample_embedding(std=std)"
   ]
  },
  {
   "cell_type": "code",
   "execution_count": null,
   "metadata": {},
   "outputs": [],
   "source": [
    "tsne = TSNE(n_components=2, perplexity=30).fit_transform(data)\n",
    "plt.scatter(tsne[:,0], tsne[:,1], c=gen.labels)"
   ]
  },
  {
   "cell_type": "code",
   "execution_count": null,
   "metadata": {},
   "outputs": [],
   "source": [
    "Dendrogram = shc.dendrogram((shc.linkage(data, method ='ward')))"
   ]
  },
  {
   "cell_type": "code",
   "execution_count": null,
   "metadata": {},
   "outputs": [],
   "source": [
    "ac2 = AgglomerativeClustering(n_clusters = 6)\n",
    "labels = ac2.fit_predict(data)\n",
    "plt.scatter(tsne[:,0], tsne[:,1], c = labels, cmap ='rainbow')"
   ]
  },
  {
   "cell_type": "code",
   "execution_count": null,
   "metadata": {},
   "outputs": [],
   "source": [
    "Dendrogram = shc.dendrogram((shc.linkage(tsne, method ='ward')))"
   ]
  },
  {
   "cell_type": "code",
   "execution_count": null,
   "metadata": {},
   "outputs": [],
   "source": [
    "ac2 = AgglomerativeClustering(n_clusters = 6)\n",
    "labels = ac2.fit_predict(tsne)\n",
    "plt.scatter(tsne[:,0], tsne[:,1], c = labels, cmap ='rainbow')"
   ]
  },
  {
   "cell_type": "markdown",
   "metadata": {},
   "source": [
    "## std = 0.3"
   ]
  },
  {
   "cell_type": "code",
   "execution_count": null,
   "metadata": {},
   "outputs": [],
   "source": [
    "std = 0.3\n",
    "data = gen.sample_embedding(std=std)"
   ]
  },
  {
   "cell_type": "code",
   "execution_count": null,
   "metadata": {},
   "outputs": [],
   "source": [
    "tsne = TSNE(n_components=2, perplexity=30).fit_transform(data)\n",
    "plt.scatter(tsne[:,0], tsne[:,1], c=gen.labels)"
   ]
  },
  {
   "cell_type": "code",
   "execution_count": null,
   "metadata": {},
   "outputs": [],
   "source": [
    "Dendrogram = shc.dendrogram((shc.linkage(data, method ='ward')))"
   ]
  },
  {
   "cell_type": "code",
   "execution_count": null,
   "metadata": {},
   "outputs": [],
   "source": [
    "ac2 = AgglomerativeClustering(n_clusters = 6)\n",
    "labels = ac2.fit_predict(data)\n",
    "plt.scatter(tsne[:,0], tsne[:,1], c = labels, cmap ='rainbow')"
   ]
  },
  {
   "cell_type": "code",
   "execution_count": null,
   "metadata": {},
   "outputs": [],
   "source": [
    "Dendrogram = shc.dendrogram((shc.linkage(tsne, method ='ward')))"
   ]
  },
  {
   "cell_type": "code",
   "execution_count": null,
   "metadata": {},
   "outputs": [],
   "source": [
    "ac2 = AgglomerativeClustering(n_clusters = 6)\n",
    "labels = ac2.fit_predict(tsne)\n",
    "plt.scatter(tsne[:,0], tsne[:,1], c = labels, cmap ='rainbow')"
   ]
  },
  {
   "cell_type": "markdown",
   "metadata": {},
   "source": [
    "## std = 0.4"
   ]
  },
  {
   "cell_type": "code",
   "execution_count": null,
   "metadata": {},
   "outputs": [],
   "source": [
    "std = 0.4\n",
    "data = gen.sample_embedding(std=std)"
   ]
  },
  {
   "cell_type": "code",
   "execution_count": null,
   "metadata": {},
   "outputs": [],
   "source": [
    "tsne = TSNE(n_components=2, perplexity=30).fit_transform(data)\n",
    "plt.scatter(tsne[:,0], tsne[:,1], c=gen.labels)"
   ]
  },
  {
   "cell_type": "code",
   "execution_count": null,
   "metadata": {},
   "outputs": [],
   "source": [
    "Dendrogram = shc.dendrogram((shc.linkage(data, method ='ward')))"
   ]
  },
  {
   "cell_type": "code",
   "execution_count": null,
   "metadata": {},
   "outputs": [],
   "source": [
    "ac2 = AgglomerativeClustering(n_clusters = 6)\n",
    "labels = ac2.fit_predict(data)\n",
    "plt.scatter(tsne[:,0], tsne[:,1], c = labels, cmap ='rainbow')"
   ]
  },
  {
   "cell_type": "code",
   "execution_count": null,
   "metadata": {},
   "outputs": [],
   "source": [
    "Dendrogram = shc.dendrogram((shc.linkage(tsne, method ='ward')))"
   ]
  },
  {
   "cell_type": "code",
   "execution_count": null,
   "metadata": {},
   "outputs": [],
   "source": [
    "ac2 = AgglomerativeClustering(n_clusters = 6)\n",
    "labels = ac2.fit_predict(tsne)\n",
    "plt.scatter(tsne[:,0], tsne[:,1], c = labels, cmap ='rainbow')"
   ]
  },
  {
   "cell_type": "markdown",
   "metadata": {},
   "source": [
    "# On Mara's embeddings"
   ]
  },
  {
   "cell_type": "code",
   "execution_count": null,
   "metadata": {},
   "outputs": [],
   "source": [
    "import pandas as pd\n",
    "import numpy as np"
   ]
  },
  {
   "cell_type": "code",
   "execution_count": null,
   "metadata": {},
   "outputs": [],
   "source": [
    "df = pd.read_pickle('/usr/users/pede1/morphology/cluster_vs_continuum/graphdino_morphological_embeddings_tsne.pkl')\n",
    "df"
   ]
  },
  {
   "cell_type": "code",
   "execution_count": null,
   "metadata": {},
   "outputs": [],
   "source": [
    "latents = np.stack(df['latent_emb'].values).astype(float)\n",
    "tsne = np.stack(df['tsne'].values).astype(float)\n",
    "colors = np.stack(df['assigned_layer_num'].values)"
   ]
  },
  {
   "cell_type": "code",
   "execution_count": null,
   "metadata": {},
   "outputs": [],
   "source": [
    "plt.scatter(tsne[:,0], tsne[:,1], s=1, c=colors)"
   ]
  },
  {
   "cell_type": "code",
   "execution_count": null,
   "metadata": {},
   "outputs": [],
   "source": [
    "Dendrogram = shc.dendrogram((shc.linkage(latents, method ='ward')))"
   ]
  },
  {
   "cell_type": "code",
   "execution_count": null,
   "metadata": {},
   "outputs": [],
   "source": [
    "ac2 = AgglomerativeClustering(n_clusters = 4)\n",
    "labels = ac2.fit_predict(latents)\n",
    "plt.scatter(tsne[:,0], tsne[:,1], c = labels, cmap ='rainbow', s=1)"
   ]
  },
  {
   "cell_type": "code",
   "execution_count": null,
   "metadata": {},
   "outputs": [],
   "source": [
    "ac2 = AgglomerativeClustering(n_clusters = 6)\n",
    "labels = ac2.fit_predict(latents)\n",
    "plt.scatter(tsne[:,0], tsne[:,1], c = labels, cmap ='rainbow', s=1)"
   ]
  },
  {
   "cell_type": "code",
   "execution_count": null,
   "metadata": {},
   "outputs": [],
   "source": [
    "ac2 = AgglomerativeClustering(n_clusters = 9)\n",
    "labels = ac2.fit_predict(latents)\n",
    "plt.scatter(tsne[:,0], tsne[:,1], c = labels, cmap ='rainbow', s=1)"
   ]
  },
  {
   "cell_type": "code",
   "execution_count": null,
   "metadata": {},
   "outputs": [],
   "source": [
    "ac2 = AgglomerativeClustering(n_clusters = 12)\n",
    "labels = ac2.fit_predict(latents)\n",
    "plt.scatter(tsne[:,0], tsne[:,1], c = labels, cmap ='rainbow', s=1)"
   ]
  },
  {
   "cell_type": "code",
   "execution_count": null,
   "metadata": {},
   "outputs": [],
   "source": [
    "Dendrogram = shc.dendrogram((shc.linkage(tsne, method ='ward')))"
   ]
  },
  {
   "cell_type": "code",
   "execution_count": null,
   "metadata": {},
   "outputs": [],
   "source": [
    "Dendrogram = shc.dendrogram((shc.linkage(tsne, method ='ward')), color_threshold=2200)"
   ]
  },
  {
   "cell_type": "code",
   "execution_count": null,
   "metadata": {},
   "outputs": [],
   "source": [
    "ac2 = AgglomerativeClustering(n_clusters = 3)\n",
    "labels = ac2.fit_predict(tsne)\n",
    "plt.scatter(tsne[:,0], tsne[:,1], c = labels, cmap ='rainbow', s=1)"
   ]
  },
  {
   "cell_type": "code",
   "execution_count": null,
   "metadata": {},
   "outputs": [],
   "source": [
    "ac2 = AgglomerativeClustering(n_clusters = 4)\n",
    "labels = ac2.fit_predict(tsne)\n",
    "plt.scatter(tsne[:,0], tsne[:,1], c = labels, cmap ='rainbow', s=1)"
   ]
  },
  {
   "cell_type": "code",
   "execution_count": null,
   "metadata": {},
   "outputs": [],
   "source": [
    "ac2 = AgglomerativeClustering(n_clusters = 8)\n",
    "labels = ac2.fit_predict(tsne)\n",
    "plt.scatter(tsne[:,0], tsne[:,1], c = labels, cmap ='rainbow', s=1)"
   ]
  },
  {
   "cell_type": "code",
   "execution_count": null,
   "metadata": {},
   "outputs": [],
   "source": [
    "k = [3,4,5,6,7,10, 11, 12]\n",
    "acs = [AgglomerativeClustering(n_clusters = i) for i in k]"
   ]
  },
  {
   "cell_type": "code",
   "execution_count": null,
   "metadata": {},
   "outputs": [],
   "source": [
    "# Appending the silhouette scores of the different models to the list\n",
    "silhouette_scores = [silhouette_score(tsne, ac.fit_predict(tsne)) for ac in acs]\n",
    "\n",
    "# Plotting a bar graph to compare the results\n",
    "plt.bar(k, silhouette_scores)\n",
    "plt.xlabel('Number of clusters', fontsize = 20)\n",
    "plt.ylabel('S(i)', fontsize = 20)\n",
    "plt.show()\n"
   ]
  },
  {
   "cell_type": "code",
   "execution_count": null,
   "metadata": {},
   "outputs": [],
   "source": [
    "silhouette_scores"
   ]
  },
  {
   "cell_type": "code",
   "execution_count": null,
   "metadata": {},
   "outputs": [],
   "source": []
  }
 ],
 "metadata": {
  "kernelspec": {
   "display_name": "corc",
   "language": "python",
   "name": "python3"
  },
  "language_info": {
   "codemirror_mode": {
    "name": "ipython",
    "version": 3
   },
   "file_extension": ".py",
   "mimetype": "text/x-python",
   "name": "python",
   "nbconvert_exporter": "python",
   "pygments_lexer": "ipython3",
   "version": "3.9.16"
  }
 },
 "nbformat": 4,
 "nbformat_minor": 2
}
