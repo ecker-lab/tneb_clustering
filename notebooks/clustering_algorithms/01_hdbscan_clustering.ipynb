{
 "cells": [
  {
   "cell_type": "code",
   "execution_count": null,
   "metadata": {},
   "outputs": [],
   "source": [
    "import matplotlib.pyplot as plt\n",
    "import numpy as np\n",
    "from sklearn.cluster import HDBSCAN\n",
    "\n",
    "from corc.generation import GenerationModel\n",
    "\n",
    "%matplotlib inline"
   ]
  },
  {
   "cell_type": "markdown",
   "metadata": {},
   "source": [
    "# References\n",
    "\n",
    "- https://scikit-learn.org/stable/modules/generated/sklearn.cluster.HDBSCAN.html\n",
    "- https://scikit-learn.org/stable/auto_examples/cluster/plot_hdbscan.html#sphx-glr-auto-examples-cluster-plot-hdbscan-py\n",
    "- https://hdbscan.readthedocs.io/en/latest/parameter_selection.html\n",
    "- https://hdbscan.readthedocs.io/en/latest/how_hdbscan_works.html"
   ]
  },
  {
   "cell_type": "markdown",
   "metadata": {},
   "source": [
    "# Equidistant triangle"
   ]
  },
  {
   "cell_type": "code",
   "execution_count": null,
   "metadata": {},
   "outputs": [],
   "source": [
    "params = {\n",
    "    'center_structure': 'equidistant_triangle',\n",
    "    'n_centers': 3,\n",
    "    'distance': 1,\n",
    "    'n_samples': 1000,\n",
    "    'dim': 2,\n",
    "    'save_file': False,\n",
    "    'outdir': '.'\n",
    "}"
   ]
  },
  {
   "cell_type": "code",
   "execution_count": null,
   "metadata": {},
   "outputs": [],
   "source": [
    "gen = GenerationModel(**params)\n",
    "gen.generate()"
   ]
  },
  {
   "cell_type": "markdown",
   "metadata": {},
   "source": [
    "## std = 0.01"
   ]
  },
  {
   "cell_type": "code",
   "execution_count": null,
   "metadata": {},
   "outputs": [],
   "source": [
    "std = 0.01\n",
    "data = gen.sample_embedding(std=std)\n",
    "plt.scatter(data[:,0], data[:,1], c=gen.labels)"
   ]
  },
  {
   "cell_type": "code",
   "execution_count": null,
   "metadata": {},
   "outputs": [],
   "source": [
    "clustering = HDBSCAN(min_cluster_size=10)\n",
    "clustering.fit(data)"
   ]
  },
  {
   "cell_type": "code",
   "execution_count": null,
   "metadata": {},
   "outputs": [],
   "source": [
    "clustering.probabilities_[0]"
   ]
  },
  {
   "cell_type": "code",
   "execution_count": null,
   "metadata": {},
   "outputs": [],
   "source": [
    "print(f'n clusters = {len(np.unique(clustering.labels_))}')\n",
    "plt.scatter(data[:,0], data[:,1], c=clustering.labels_)"
   ]
  },
  {
   "cell_type": "markdown",
   "metadata": {},
   "source": [
    "## std = 0.1"
   ]
  },
  {
   "cell_type": "code",
   "execution_count": null,
   "metadata": {},
   "outputs": [],
   "source": [
    "std = 0.1\n",
    "data = gen.sample_embedding(std=std)\n",
    "plt.scatter(data[:,0], data[:,1], c=gen.labels)"
   ]
  },
  {
   "cell_type": "code",
   "execution_count": null,
   "metadata": {},
   "outputs": [],
   "source": [
    "clustering = HDBSCAN(min_cluster_size=10)\n",
    "clustering.fit(data)\n",
    "\n",
    "print(f'n clusters = {len(np.unique(clustering.labels_))}')\n",
    "\n",
    "plt.scatter(data[:,0], data[:,1], c=clustering.labels_)"
   ]
  },
  {
   "cell_type": "markdown",
   "metadata": {},
   "source": [
    "## std = 0.2"
   ]
  },
  {
   "cell_type": "code",
   "execution_count": null,
   "metadata": {},
   "outputs": [],
   "source": [
    "std = 0.2\n",
    "data = gen.sample_embedding(std=std)\n",
    "plt.scatter(data[:,0], data[:,1], c=gen.labels)"
   ]
  },
  {
   "cell_type": "code",
   "execution_count": null,
   "metadata": {},
   "outputs": [],
   "source": [
    "clustering = HDBSCAN(min_cluster_size=10)\n",
    "clustering.fit(data)\n",
    "\n",
    "print(f'n clusters = {len(np.unique(clustering.labels_))}')\n",
    "\n",
    "plt.scatter(data[:,0], data[:,1], c=clustering.labels_)"
   ]
  },
  {
   "cell_type": "markdown",
   "metadata": {},
   "source": [
    "## std = 0.5"
   ]
  },
  {
   "cell_type": "code",
   "execution_count": null,
   "metadata": {},
   "outputs": [],
   "source": [
    "std = 0.4\n",
    "data = gen.sample_embedding(std=std)\n",
    "plt.scatter(data[:,0], data[:,1], c=gen.labels)"
   ]
  },
  {
   "cell_type": "code",
   "execution_count": null,
   "metadata": {},
   "outputs": [],
   "source": [
    "clustering = HDBSCAN(min_cluster_size=10)\n",
    "clustering.fit(data)\n",
    "\n",
    "print(f'n clusters = {len(np.unique(clustering.labels_))}')\n",
    "\n",
    "plt.scatter(data[:,0], data[:,1], c=clustering.labels_)"
   ]
  },
  {
   "cell_type": "markdown",
   "metadata": {},
   "source": [
    "# More than 3 clusters"
   ]
  },
  {
   "cell_type": "code",
   "execution_count": null,
   "metadata": {},
   "outputs": [],
   "source": [
    "params = {\n",
    "    'center_structure': 'uniform',\n",
    "    'n_centers': 7,\n",
    "    'distance': 1,\n",
    "    'n_samples': 1000,\n",
    "    'dim': 2,\n",
    "    'save_file': False,\n",
    "    'outdir': '.'\n",
    "}"
   ]
  },
  {
   "cell_type": "code",
   "execution_count": null,
   "metadata": {},
   "outputs": [],
   "source": [
    "gen = GenerationModel(**params)\n",
    "gen.generate()"
   ]
  },
  {
   "cell_type": "markdown",
   "metadata": {},
   "source": [
    "## std = 0.01"
   ]
  },
  {
   "cell_type": "code",
   "execution_count": null,
   "metadata": {},
   "outputs": [],
   "source": [
    "std = 0.01\n",
    "data = gen.sample_embedding(std=std)\n",
    "plt.scatter(data[:,0], data[:,1], c=gen.labels)"
   ]
  },
  {
   "cell_type": "code",
   "execution_count": null,
   "metadata": {},
   "outputs": [],
   "source": [
    "clustering = HDBSCAN(min_cluster_size=10)\n",
    "clustering.fit(data)\n",
    "\n",
    "print(f'n clusters = {len(np.unique(clustering.labels_))}')\n",
    "\n",
    "plt.scatter(data[:,0], data[:,1], c=clustering.labels_)"
   ]
  },
  {
   "cell_type": "markdown",
   "metadata": {},
   "source": [
    "## std = 0.05"
   ]
  },
  {
   "cell_type": "code",
   "execution_count": null,
   "metadata": {},
   "outputs": [],
   "source": [
    "std = 0.05\n",
    "data = gen.sample_embedding(std=std)\n",
    "plt.scatter(data[:,0], data[:,1], c=gen.labels)"
   ]
  },
  {
   "cell_type": "code",
   "execution_count": null,
   "metadata": {},
   "outputs": [],
   "source": [
    "clustering = HDBSCAN(min_cluster_size=3)\n",
    "clustering.fit(data)\n",
    "\n",
    "print(f'n clusters = {len(np.unique(clustering.labels_))}')\n",
    "\n",
    "plt.scatter(data[:,0], data[:,1], c=clustering.labels_)"
   ]
  },
  {
   "cell_type": "code",
   "execution_count": null,
   "metadata": {},
   "outputs": [],
   "source": [
    "clustering = HDBSCAN(min_cluster_size=4)\n",
    "clustering.fit(data)\n",
    "\n",
    "print(f'n clusters = {len(np.unique(clustering.labels_))}')\n",
    "\n",
    "plt.scatter(data[:,0], data[:,1], c=clustering.labels_)"
   ]
  },
  {
   "cell_type": "markdown",
   "metadata": {},
   "source": [
    "## std = 0.1"
   ]
  },
  {
   "cell_type": "code",
   "execution_count": null,
   "metadata": {},
   "outputs": [],
   "source": [
    "std = 0.1\n",
    "data = gen.sample_embedding(std=std)\n",
    "plt.scatter(data[:,0], data[:,1], c=gen.labels)"
   ]
  },
  {
   "cell_type": "code",
   "execution_count": null,
   "metadata": {},
   "outputs": [],
   "source": [
    "clustering = HDBSCAN(min_cluster_size=7)\n",
    "clustering.fit(data)\n",
    "\n",
    "print(f'n clusters = {len(np.unique(clustering.labels_))}')\n",
    "\n",
    "plt.scatter(data[:,0], data[:,1], c=clustering.labels_)"
   ]
  },
  {
   "cell_type": "code",
   "execution_count": null,
   "metadata": {},
   "outputs": [],
   "source": [
    "clustering = HDBSCAN(min_cluster_size=6)\n",
    "clustering.fit(data)\n",
    "\n",
    "print(f'n clusters = {len(np.unique(clustering.labels_))}')\n",
    "\n",
    "plt.scatter(data[:,0], data[:,1], c=clustering.labels_)"
   ]
  },
  {
   "cell_type": "markdown",
   "metadata": {},
   "source": [
    "# More than 2 dimensions"
   ]
  },
  {
   "cell_type": "code",
   "execution_count": null,
   "metadata": {},
   "outputs": [],
   "source": [
    "from sklearn.manifold import trustworthiness, TSNE"
   ]
  },
  {
   "cell_type": "code",
   "execution_count": null,
   "metadata": {},
   "outputs": [],
   "source": [
    "params = {\n",
    "    'center_structure': 'uniform',\n",
    "    'n_centers': 3,\n",
    "    'distance': 1,\n",
    "    'n_samples': 1000,\n",
    "    'dim': 32,\n",
    "    'save_file': False,\n",
    "    'outdir': '.'\n",
    "}"
   ]
  },
  {
   "cell_type": "code",
   "execution_count": null,
   "metadata": {},
   "outputs": [],
   "source": [
    "gen = GenerationModel(**params)\n",
    "gen.generate()"
   ]
  },
  {
   "cell_type": "markdown",
   "metadata": {},
   "source": [
    "## std = 0.2"
   ]
  },
  {
   "cell_type": "code",
   "execution_count": null,
   "metadata": {},
   "outputs": [],
   "source": [
    "std = 0.2\n",
    "data = gen.sample_embedding(std=std)\n",
    "plt.scatter(data[:,0], data[:,1], c=gen.labels)"
   ]
  },
  {
   "cell_type": "code",
   "execution_count": null,
   "metadata": {},
   "outputs": [],
   "source": [
    "clustering = HDBSCAN(min_cluster_size=10)\n",
    "clustering.fit(data)\n",
    "\n",
    "print(f'n clusters = {len(np.unique(clustering.labels_))}')\n",
    "\n",
    "plt.scatter(data[:,0], data[:,1], c=clustering.labels_)"
   ]
  },
  {
   "cell_type": "code",
   "execution_count": null,
   "metadata": {},
   "outputs": [],
   "source": [
    "tsne = TSNE(n_components=2, perplexity=30).fit_transform(data)"
   ]
  },
  {
   "cell_type": "code",
   "execution_count": null,
   "metadata": {},
   "outputs": [],
   "source": [
    "plt.scatter(tsne[:,0], tsne[:,1], c=gen.labels)"
   ]
  },
  {
   "cell_type": "code",
   "execution_count": null,
   "metadata": {},
   "outputs": [],
   "source": [
    "plt.scatter(tsne[:,0], tsne[:,1], c=clustering.labels_)"
   ]
  },
  {
   "cell_type": "markdown",
   "metadata": {},
   "source": [
    "## std = 0.4"
   ]
  },
  {
   "cell_type": "code",
   "execution_count": null,
   "metadata": {},
   "outputs": [],
   "source": [
    "std = 0.4\n",
    "data = gen.sample_embedding(std=std)\n",
    "plt.scatter(data[:,0], data[:,1], c=gen.labels)"
   ]
  },
  {
   "cell_type": "code",
   "execution_count": null,
   "metadata": {},
   "outputs": [],
   "source": [
    "clustering = HDBSCAN(min_cluster_size=10, min_samples=3)\n",
    "clustering.fit(data)\n",
    "\n",
    "print(f'n clusters = {len(np.unique(clustering.labels_))}')\n",
    "\n",
    "# plt.scatter(data[:,0], data[:,1], c=clustering.labels_)"
   ]
  },
  {
   "cell_type": "code",
   "execution_count": null,
   "metadata": {},
   "outputs": [],
   "source": [
    "tsne = TSNE(n_components=2, perplexity=30).fit_transform(data)"
   ]
  },
  {
   "cell_type": "code",
   "execution_count": null,
   "metadata": {},
   "outputs": [],
   "source": [
    "plt.scatter(tsne[:,0], tsne[:,1], c=gen.labels)"
   ]
  },
  {
   "cell_type": "code",
   "execution_count": null,
   "metadata": {},
   "outputs": [],
   "source": [
    "plt.scatter(tsne[:,0], tsne[:,1], c=clustering.labels_)"
   ]
  },
  {
   "cell_type": "markdown",
   "metadata": {},
   "source": [
    "# More clusters and more than 2 dimensions"
   ]
  },
  {
   "cell_type": "code",
   "execution_count": null,
   "metadata": {},
   "outputs": [],
   "source": [
    "params = {\n",
    "    'center_structure': 'uniform',\n",
    "    'n_centers': 6,\n",
    "    'distance': 1,\n",
    "    'n_samples': 1000,\n",
    "    'dim': 32,\n",
    "    'save_file': False,\n",
    "    'outdir': '.'\n",
    "}"
   ]
  },
  {
   "cell_type": "code",
   "execution_count": null,
   "metadata": {},
   "outputs": [],
   "source": [
    "gen = GenerationModel(**params)\n",
    "gen.generate()"
   ]
  },
  {
   "cell_type": "markdown",
   "metadata": {},
   "source": [
    "## std = 0.1"
   ]
  },
  {
   "cell_type": "code",
   "execution_count": null,
   "metadata": {},
   "outputs": [],
   "source": [
    "std = 0.1\n",
    "data = gen.sample_embedding(std=std)\n",
    "plt.scatter(data[:,0], data[:,1], c=gen.labels)"
   ]
  },
  {
   "cell_type": "code",
   "execution_count": null,
   "metadata": {},
   "outputs": [],
   "source": [
    "clustering = HDBSCAN(min_cluster_size=10)\n",
    "clustering.fit(data)\n",
    "\n",
    "print(f'n clusters = {len(np.unique(clustering.labels_))}')\n",
    "\n",
    "plt.scatter(data[:,0], data[:,1], c=clustering.labels_)"
   ]
  },
  {
   "cell_type": "code",
   "execution_count": null,
   "metadata": {},
   "outputs": [],
   "source": [
    "tsne = TSNE(n_components=2, perplexity=30).fit_transform(data)"
   ]
  },
  {
   "cell_type": "code",
   "execution_count": null,
   "metadata": {},
   "outputs": [],
   "source": [
    "plt.scatter(tsne[:,0], tsne[:,1], c=gen.labels)"
   ]
  },
  {
   "cell_type": "code",
   "execution_count": null,
   "metadata": {},
   "outputs": [],
   "source": [
    "plt.scatter(tsne[:,0], tsne[:,1], c=clustering.labels_)"
   ]
  },
  {
   "cell_type": "markdown",
   "metadata": {},
   "source": [
    "## std = 0.3"
   ]
  },
  {
   "cell_type": "code",
   "execution_count": null,
   "metadata": {},
   "outputs": [],
   "source": [
    "std = 0.3\n",
    "data = gen.sample_embedding(std=std)\n",
    "plt.scatter(data[:,0], data[:,1], c=gen.labels)"
   ]
  },
  {
   "cell_type": "code",
   "execution_count": null,
   "metadata": {},
   "outputs": [],
   "source": [
    "clustering = HDBSCAN(min_cluster_size=10, min_samples=10)\n",
    "clustering.fit(data)\n",
    "\n",
    "print(f'n clusters = {len(np.unique(clustering.labels_))}')\n",
    "\n",
    "plt.scatter(data[:,0], data[:,1], c=clustering.labels_)"
   ]
  },
  {
   "cell_type": "code",
   "execution_count": null,
   "metadata": {},
   "outputs": [],
   "source": [
    "tsne = TSNE(n_components=2, perplexity=30).fit_transform(data)"
   ]
  },
  {
   "cell_type": "code",
   "execution_count": null,
   "metadata": {},
   "outputs": [],
   "source": [
    "plt.scatter(tsne[:,0], tsne[:,1], c=gen.labels)"
   ]
  },
  {
   "cell_type": "code",
   "execution_count": null,
   "metadata": {},
   "outputs": [],
   "source": [
    "plt.scatter(tsne[:,0], tsne[:,1], c=clustering.labels_)"
   ]
  },
  {
   "cell_type": "markdown",
   "metadata": {},
   "source": [
    "## std = 0.4"
   ]
  },
  {
   "cell_type": "code",
   "execution_count": null,
   "metadata": {},
   "outputs": [],
   "source": [
    "std = 0.4\n",
    "data = gen.sample_embedding(std=std)\n",
    "plt.scatter(data[:,0], data[:,1], c=gen.labels)"
   ]
  },
  {
   "cell_type": "code",
   "execution_count": null,
   "metadata": {},
   "outputs": [],
   "source": [
    "clustering = HDBSCAN(min_cluster_size=5, min_samples=3)\n",
    "clustering.fit(data)\n",
    "\n",
    "print(f'n clusters = {len(np.unique(clustering.labels_))}')\n",
    "\n",
    "# plt.scatter(data[:,0], data[:,1], c=clustering.labels_)"
   ]
  },
  {
   "cell_type": "code",
   "execution_count": null,
   "metadata": {},
   "outputs": [],
   "source": [
    "tsne = TSNE(n_components=2, perplexity=30).fit_transform(data)"
   ]
  },
  {
   "cell_type": "code",
   "execution_count": null,
   "metadata": {},
   "outputs": [],
   "source": [
    "plt.scatter(tsne[:,0], tsne[:,1], c=gen.labels)"
   ]
  },
  {
   "cell_type": "code",
   "execution_count": null,
   "metadata": {},
   "outputs": [],
   "source": [
    "plt.scatter(tsne[:,0], tsne[:,1], c=clustering.labels_)"
   ]
  },
  {
   "cell_type": "markdown",
   "metadata": {},
   "source": [
    "# On Mara's embeddings"
   ]
  },
  {
   "cell_type": "code",
   "execution_count": null,
   "metadata": {},
   "outputs": [],
   "source": [
    "import pandas as pd\n",
    "import numpy as np"
   ]
  },
  {
   "cell_type": "code",
   "execution_count": null,
   "metadata": {},
   "outputs": [],
   "source": [
    "df = pd.read_pickle('../../graphdino_morphological_embeddings_tsne.pkl')\n",
    "latents = np.stack(df['latent_emb'].values).astype(float)\n",
    "tsne = np.stack(df['tsne'].values).astype(float)"
   ]
  },
  {
   "cell_type": "code",
   "execution_count": null,
   "metadata": {},
   "outputs": [],
   "source": [
    "plt.scatter(tsne[:,0], tsne[:,1], s=1)"
   ]
  },
  {
   "cell_type": "code",
   "execution_count": null,
   "metadata": {},
   "outputs": [],
   "source": [
    "clustering = HDBSCAN(min_cluster_size=10, min_samples=7, algorithm='balltree')\n",
    "clustering.fit(latents)\n",
    "\n",
    "print(f'n clusters = {len(np.unique(clustering.labels_))}')\n",
    "\n",
    "plt.scatter(tsne[:,0], tsne[:,1], c=clustering.labels_, s=1)"
   ]
  },
  {
   "cell_type": "code",
   "execution_count": null,
   "metadata": {},
   "outputs": [],
   "source": [
    "clustering = HDBSCAN(min_cluster_size=10, min_samples=7, cluster_selection_epsilon=0.7, algorithm='balltree')\n",
    "clustering.fit(latents)\n",
    "\n",
    "print(f'n clusters = {len(np.unique(clustering.labels_))}')\n",
    "\n",
    "plt.scatter(tsne[:,0], tsne[:,1], c=clustering.labels_, s=1)"
   ]
  },
  {
   "cell_type": "code",
   "execution_count": null,
   "metadata": {},
   "outputs": [],
   "source": [
    "clustering = HDBSCAN(min_samples=100, cluster_selection_method='leaf')\n",
    "clustering.fit(latents)\n",
    "\n",
    "print(f'n clusters = {len(np.unique(clustering.labels_))}')\n",
    "\n",
    "plt.scatter(tsne[:,0], tsne[:,1], c=clustering.labels_, s=1)"
   ]
  },
  {
   "cell_type": "code",
   "execution_count": null,
   "metadata": {},
   "outputs": [],
   "source": [
    "clustering = HDBSCAN(min_samples=300, min_cluster_size=7, cluster_selection_method='leaf')\n",
    "clustering.fit(latents)\n",
    "\n",
    "print(f'n clusters = {len(np.unique(clustering.labels_))}')\n",
    "\n",
    "plt.scatter(tsne[:,0], tsne[:,1], c=clustering.labels_, s=1)"
   ]
  },
  {
   "cell_type": "code",
   "execution_count": null,
   "metadata": {},
   "outputs": [],
   "source": [
    "clustering = HDBSCAN(min_samples=300, min_cluster_size=3)\n",
    "clustering.fit(latents)\n",
    "\n",
    "print(f'n clusters = {len(np.unique(clustering.labels_))}')\n",
    "\n",
    "plt.scatter(tsne[:,0], tsne[:,1], c=clustering.labels_, s=1)"
   ]
  },
  {
   "cell_type": "code",
   "execution_count": null,
   "metadata": {},
   "outputs": [],
   "source": []
  }
 ],
 "metadata": {
  "kernelspec": {
   "display_name": "corc",
   "language": "python",
   "name": "python3"
  },
  "language_info": {
   "codemirror_mode": {
    "name": "ipython",
    "version": 3
   },
   "file_extension": ".py",
   "mimetype": "text/x-python",
   "name": "python",
   "nbconvert_exporter": "python",
   "pygments_lexer": "ipython3",
   "version": "3.9.16"
  }
 },
 "nbformat": 4,
 "nbformat_minor": 2
}
