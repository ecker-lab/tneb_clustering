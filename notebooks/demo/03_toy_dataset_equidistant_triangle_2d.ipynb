{
 "cells": [
  {
   "cell_type": "code",
   "execution_count": null,
   "metadata": {},
   "outputs": [],
   "source": [
    "from scipy.spatial.distance import cdist\n",
    "import math\n",
    "import numpy as np\n",
    "import matplotlib.pyplot as plt\n",
    "\n",
    "from corc.generation import GenerationModel"
   ]
  },
  {
   "cell_type": "code",
   "execution_count": null,
   "metadata": {},
   "outputs": [],
   "source": [
    "params = {\n",
    "    'center_structure': 'equidistant_triangle',\n",
    "    'distance': 1,\n",
    "    'n_centers': 3,\n",
    "    'n_samples': 100,\n",
    "    'dim': 2,\n",
    "    'save_file': False,\n",
    "    'outdir': '.'\n",
    "}"
   ]
  },
  {
   "cell_type": "code",
   "execution_count": null,
   "metadata": {},
   "outputs": [],
   "source": [
    "std = 0.2"
   ]
  },
  {
   "cell_type": "code",
   "execution_count": null,
   "metadata": {},
   "outputs": [],
   "source": [
    "gen = GenerationModel(**params)\n",
    "gen.generate()\n",
    "data = gen.sample_embedding(std=std)"
   ]
  },
  {
   "cell_type": "code",
   "execution_count": null,
   "metadata": {},
   "outputs": [],
   "source": [
    "plt.scatter(data[:,0], data[:,1], c=gen.labels)"
   ]
  },
  {
   "cell_type": "code",
   "execution_count": null,
   "metadata": {},
   "outputs": [],
   "source": [
    "gen.dists"
   ]
  },
  {
   "cell_type": "code",
   "execution_count": null,
   "metadata": {},
   "outputs": [],
   "source": [
    "from math import ceil\n",
    "\n",
    "stds = [0.03, 0.1, 0.15, 0.2, 0.25, 0.3, 0.4, 0.5]\n",
    "gen = GenerationModel(**params)\n",
    "gen.generate()\n",
    "\n",
    "fig=plt.figure(figsize=(25, 15))\n",
    "cols = 4\n",
    "rows = ceil(len(stds) / cols)\n",
    "for i, std in enumerate(stds):\n",
    "    fig.add_subplot(rows, cols, i+1)\n",
    "    data = gen.sample_embedding(std=std)\n",
    "    plt.scatter(data[:,0], data[:,1], c=gen.labels)\n",
    "    plt.title(f'std={std}')\n",
    "plt.show()"
   ]
  },
  {
   "cell_type": "code",
   "execution_count": null,
   "metadata": {},
   "outputs": [],
   "source": []
  },
  {
   "cell_type": "code",
   "execution_count": null,
   "metadata": {},
   "outputs": [],
   "source": []
  }
 ],
 "metadata": {
  "kernelspec": {
   "display_name": "corc",
   "language": "python",
   "name": "python3"
  },
  "language_info": {
   "codemirror_mode": {
    "name": "ipython",
    "version": 3
   },
   "file_extension": ".py",
   "mimetype": "text/x-python",
   "name": "python",
   "nbconvert_exporter": "python",
   "pygments_lexer": "ipython3",
   "version": "3.9.16"
  }
 },
 "nbformat": 4,
 "nbformat_minor": 2
}
