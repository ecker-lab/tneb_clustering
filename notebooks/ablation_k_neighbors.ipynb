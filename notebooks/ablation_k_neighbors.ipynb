{
 "cells": [
  {
   "cell_type": "markdown",
   "metadata": {},
   "source": [
    "# Ablation num neighbors"
   ]
  },
  {
   "cell_type": "code",
   "execution_count": 1,
   "metadata": {},
   "outputs": [],
   "source": [
    "%load_ext autoreload\n",
    "%autoreload 2"
   ]
  },
  {
   "cell_type": "code",
   "execution_count": 16,
   "metadata": {},
   "outputs": [],
   "source": [
    "import corc.utils\n",
    "import corc.graph_metrics.neb\n",
    "import corc.graph_metrics.tmm_gmm_neb\n",
    "import sklearn.metrics\n",
    "import pickle\n",
    "import os\n",
    "import corc.our_datasets\n",
    "import numpy as np\n",
    "from scipy.spatial import distance\n",
    "\n",
    "\n",
    "cache_folder = \"../cache\""
   ]
  },
  {
   "cell_type": "code",
   "execution_count": 14,
   "metadata": {},
   "outputs": [
    {
     "data": {
      "text/plain": [
       "['densired8',\n",
       " 'densired16',\n",
       " 'densired32',\n",
       " 'densired64',\n",
       " 'densired_soft_8',\n",
       " 'densired_soft_16',\n",
       " 'densired_soft_32',\n",
       " 'densired_soft_64',\n",
       " 'mnist8',\n",
       " 'mnist16',\n",
       " 'mnist32',\n",
       " 'mnist64']"
      ]
     },
     "execution_count": 14,
     "metadata": {},
     "output_type": "execute_result"
    }
   ],
   "source": [
    "datasets = corc.our_datasets.CORE_HD_DATASETS\n",
    "datasets"
   ]
  },
  {
   "cell_type": "code",
   "execution_count": 30,
   "metadata": {},
   "outputs": [],
   "source": [
    "import jax.numpy as jnp\n",
    "\n",
    "def subselect_adjacency_matrix(adjacency_matrix, centers, knn):\n",
    "    \"\"\"\n",
    "    Subselect the adjacency matrix to include only the knn nearest neighbors of each center.\n",
    "\n",
    "    Parameters:\n",
    "    adjacency_matrix (np.ndarray): The original adjacency matrix.\n",
    "    centers (np.ndarray): The list of centers.\n",
    "    knn (int): The number of nearest neighbors to include.\n",
    "\n",
    "    Returns:\n",
    "    np.ndarray: The subselected adjacency matrix.\n",
    "    \"\"\"\n",
    "    num_centers = len(centers)\n",
    "\n",
    "    distances = jnp.linalg.norm(centers[:, None, :] - centers[None, :, :], axis=-1)\n",
    "    indices = jnp.argsort(distances, axis=-1)[:, 1 : (knn + 1)]\n",
    "    pair_i, pair_j = jnp.meshgrid(\n",
    "        jnp.arange(num_centers), jnp.arange(indices.shape[1]), indexing=\"ij\"\n",
    "    )\n",
    "    pairs = (pair_i.flatten(), indices.flatten())\n",
    "    mask = np.zeros((num_centers, num_centers), dtype=bool)\n",
    "    mask[pairs] = True\n",
    "    mask[pairs[1], pairs[0]] = True\n",
    "\n",
    "    # Create the subselected adjacency matrix\n",
    "    subselected_adjacency_matrix = np.where(mask, adjacency_matrix, 0)\n",
    "\n",
    "    return subselected_adjacency_matrix"
   ]
  },
  {
   "cell_type": "markdown",
   "metadata": {},
   "source": [
    "in order to create the pickle file, please run ablation_k_neighbors_tmm_fitting.py on a GPU node."
   ]
  },
  {
   "cell_type": "code",
   "execution_count": 33,
   "metadata": {},
   "outputs": [
    {
     "name": "stdout",
     "output_type": "stream",
     "text": [
      "starting ARI 0.8833875240681565\n",
      "Warning: MST contains multiple connected components. Please consider increasing knn.\n",
      "densired_soft_8 k=0: ARI 0.8833875240681565\n",
      "densired_soft_8 k=1: ARI 0.8833875240681565\n",
      "densired_soft_8 k=2: ARI 0.8833875240681565\n",
      "densired_soft_8 k=3: ARI 0.8833875240681565\n",
      "densired_soft_8 k=4: ARI 0.8833875240681565\n",
      "densired_soft_8 k=5: ARI 0.8833875240681565\n",
      "densired_soft_8 k=6: ARI 0.8833875240681565\n",
      "densired_soft_8 k=7: ARI 0.8833875240681565\n",
      "densired_soft_8 k=8: ARI 0.8833875240681565\n",
      "densired_soft_8 k=9: ARI 0.8833875240681565\n",
      "densired_soft_8 k=10: ARI 0.6524955788731666\n",
      "6 clusters is not achievable.\n",
      "Working with 5 clusters instead.\n",
      "densired_soft_8 k=11: ARI 0.5792079059523746\n",
      "6 clusters is not achievable.\n",
      "Working with 5 clusters instead.\n",
      "densired_soft_8 k=12: ARI 0.5792079059523746\n",
      "starting ARI 0.8833875240681565\n"
     ]
    }
   ],
   "source": [
    "import pickle\n",
    "import matplotlib.pyplot as plt\n",
    "import numpy as np\n",
    "\n",
    "# Load the pickled all_tmms dictionary\n",
    "filename = os.path.join(cache_folder, \"ablations\", \"tmms_fitted_all_pairs.pickle\")\n",
    "with open(filename, \"rb\") as f:\n",
    "    all_tmms = pickle.load(f)\n",
    "\n",
    "# Create lists to store the ARI values for each dataset\n",
    "ari_values = dict()\n",
    "# dataset_names = list(all_tmms.keys())\n",
    "dataset_names = [\"densired_soft_8\"]\n",
    "\n",
    "# Loop through each dataset\n",
    "for dataset in dataset_names:\n",
    "    tmm = all_tmms[dataset]\n",
    "    X,y,_ = corc.utils.load_dataset(dataset, cache_path=cache_folder)\n",
    "    ari_values_dataset = []\n",
    "\n",
    "    # test ARI\n",
    "    y_pred = tmm.predict_with_target(X, len(np.unique(y)))\n",
    "    print(f\"starting ARI {sklearn.metrics.adjusted_rand_score(y,y_pred)}\")\n",
    "    \n",
    "    # Loop through each k value\n",
    "    for k in range(len(tmm.mixture_model.weights)):\n",
    "        raw_adj = subselect_adjacency_matrix(tmm.raw_adjacency_+1, tmm.mixture_model.centers, k+1)\n",
    "        tmm.adjacency_ = corc.graph_metrics.tmm_gmm_neb.compute_mst_distances(raw_adj)\n",
    "        y_pred = tmm.predict_with_target(X, len(np.unique(y)))\n",
    "        ari = sklearn.metrics.adjusted_rand_score(y, y_pred)\n",
    "        ari_values_dataset.append(ari)\n",
    "        print(f\"{dataset} k={k}: ARI {ari}\")\n",
    "\n",
    "    tmm.adjacency_ = corc.graph_metrics.tmm_gmm_neb.compute_mst_distances(tmm.raw_adjacency_)\n",
    "    y_pred = tmm.predict_with_target(X, len(np.unique(y)))\n",
    "    print(f\"starting ARI {sklearn.metrics.adjusted_rand_score(y,y_pred)}\")\n",
    "\n",
    "    # Append the ARI values\n",
    "    ari_values[dataset] = ari_values_dataset\n"
   ]
  },
  {
   "cell_type": "code",
   "execution_count": 29,
   "metadata": {},
   "outputs": [
    {
     "data": {
      "text/plain": [
       "(20,)"
      ]
     },
     "execution_count": 29,
     "metadata": {},
     "output_type": "execute_result"
    }
   ],
   "source": [
    "tmm.mixture_model.weights.shape"
   ]
  },
  {
   "cell_type": "code",
   "execution_count": 34,
   "metadata": {},
   "outputs": [
    {
     "data": {
      "image/png": "[encoded data removed]",
      "text/plain": [
       "<Figure size 1000x600 with 1 Axes>"
      ]
     },
     "metadata": {},
     "output_type": "display_data"
    }
   ],
   "source": [
    "\n",
    "# Create the plot\n",
    "plt.figure(figsize=(10, 6))\n",
    "\n",
    "# Plot the absolute ARI values\n",
    "for i, dataset in enumerate(dataset_names):\n",
    "    plt.plot(ari_values[dataset], label=dataset)\n",
    "\n",
    "plt.xlabel('k')\n",
    "plt.ylabel('ARI')\n",
    "plt.title('Absolute ARI Values')\n",
    "plt.legend()\n",
    "plt.show()"
   ]
  },
  {
   "cell_type": "code",
   "execution_count": 5,
   "metadata": {},
   "outputs": [],
   "source": [
    "def get_tNEB(dataset_name, cache_path):\n",
    "    filename = os.path.join(cache_path, f\"{dataset_name}_TMM-NEB.pickle\")\n",
    "    if os.path.exists(filename):\n",
    "        with open(filename, \"rb\") as f:\n",
    "            tmm = pickle.load(f)[0]\n",
    "    else:\n",
    "        X, y, tsne = corc.utils.load_dataset(dataset_name)\n",
    "        tmm = corc.graph_metrics.neb.NEB(\n",
    "            data=X, labels=y, n_components=15, optimization_iterations=1\n",
    "        )\n",
    "        tmm.fit(X)  # the fitting essentially initializes the mixture model\n",
    "    return tmm"
   ]
  },
  {
   "cell_type": "markdown",
   "metadata": {},
   "source": [
    "all_tmms = dict()\n",
    "for dataset in datasets:\n",
    "    tmm = get_tNEB(dataset, \"../cache\")\n",
    "    tmm.fit(X, knn=None)\n",
    "    all_tmms[dataset] = tmm"
   ]
  },
  {
   "cell_type": "code",
   "execution_count": 7,
   "metadata": {},
   "outputs": [],
   "source": [
    "tmm = get_tNEB(dataset_name, \"../cache\")"
   ]
  },
  {
   "cell_type": "code",
   "execution_count": 9,
   "metadata": {},
   "outputs": [
    {
     "name": "stdout",
     "output_type": "stream",
     "text": [
      "[[373  49]\n",
      " [331  38]\n",
      " [547  41]\n",
      " [449  55]\n",
      " [440  52]\n",
      " [422  49]\n",
      " [225  67]\n",
      " [472  61]\n",
      " [306  68]\n",
      " [304  51]\n",
      " [313  48]\n",
      " [435  48]\n",
      " [262  55]\n",
      " [490  31]\n",
      " [345  40]\n",
      " [281  51]\n",
      " [352  49]\n",
      " [503  56]\n",
      " [284  98]\n",
      " [813  40]\n",
      " [390  40]\n",
      " [446  34]\n",
      " [434  46]\n",
      " [348  39]\n",
      " [435  40]]\n",
      "After filtering 25 components, we are left with 25 components\n"
     ]
    },
    {
     "name": "stderr",
     "output_type": "stream",
     "text": [
      "t-NEB: 100%|██████████| 1/1 [00:28<00:00, 28.03s/it]\n"
     ]
    }
   ],
   "source": [
    "tmm.fit(X, knn=None)"
   ]
  },
  {
   "cell_type": "code",
   "execution_count": 6,
   "metadata": {},
   "outputs": [],
   "source": [
    "dataset_name = \"densired32\"\n",
    "# dataset_name = \"mnist16\"\n",
    "X,y,tsne = corc.utils.load_dataset(dataset_name)"
   ]
  },
  {
   "cell_type": "code",
   "execution_count": 10,
   "metadata": {},
   "outputs": [],
   "source": [
    "import pickle\n",
    "\n",
    "with open(f\"../cache/ablations/k_neighbors_{dataset_name}.pkl\", \"wb\") as f:\n",
    "    pickle.dump(tmm, f)"
   ]
  },
  {
   "cell_type": "code",
   "execution_count": 11,
   "metadata": {},
   "outputs": [],
   "source": [
    "with open(f\"../cache/ablations/k_neighbors_{dataset_name}.pkl\", \"rb\") as f:\n",
    "    tmm = pickle.load(f)"
   ]
  },
  {
   "cell_type": "code",
   "execution_count": 122,
   "metadata": {},
   "outputs": [
    {
     "data": {
      "text/plain": [
       "array([[  0.        ,   0.        ,   3.20275187,   0.        ,\n",
       "          0.        ,  -0.2779457 ,   0.        ,   0.        ,\n",
       "          0.        ],\n",
       "       [  0.        ,   0.        ,   0.        ,   0.        ,\n",
       "          0.        ,   0.        ,  26.23476791,  30.62001801,\n",
       "          0.        ],\n",
       "       [  3.20275187,   0.        ,   0.        ,  31.17840385,\n",
       "          0.        ,   0.        ,   0.        ,   0.        ,\n",
       "          0.        ],\n",
       "       [  0.        ,   0.        ,  31.17840385,   0.        ,\n",
       "          0.        ,   0.        ,   0.        ,   0.        ,\n",
       "         34.49775696],\n",
       "       [  0.        ,   0.        ,   0.        ,   0.        ,\n",
       "          0.        ,   0.        ,   0.        , -17.19381905,\n",
       "          0.        ],\n",
       "       [ -0.2779457 ,   0.        ,   0.        ,   0.        ,\n",
       "          0.        ,   0.        ,   0.        ,   0.        ,\n",
       "          0.        ],\n",
       "       [  0.        ,  26.23476791,   0.        ,   0.        ,\n",
       "          0.        ,   0.        ,   0.        ,   0.        ,\n",
       "          0.        ],\n",
       "       [  0.        ,  30.62001801,   0.        ,   0.        ,\n",
       "        -17.19381905,   0.        ,   0.        ,   0.        ,\n",
       "          0.        ],\n",
       "       [  0.        ,   0.        ,   0.        ,  34.49775696,\n",
       "          0.        ,   0.        ,   0.        ,   0.        ,\n",
       "          0.        ]])"
      ]
     },
     "execution_count": 122,
     "metadata": {},
     "output_type": "execute_result"
    }
   ],
   "source": [
    "raw_adj = subselect_adjacency_matrix(tmm.raw_adjacency_, tmm.mixture_model.centers, 1)\n",
    "raw_adj"
   ]
  },
  {
   "cell_type": "code",
   "execution_count": 123,
   "metadata": {},
   "outputs": [
    {
     "data": {
      "text/plain": [
       "14"
      ]
     },
     "execution_count": 123,
     "metadata": {},
     "output_type": "execute_result"
    }
   ],
   "source": [
    "np.count_nonzero(raw_adj)"
   ]
  },
  {
   "cell_type": "code",
   "execution_count": null,
   "metadata": {},
   "outputs": [
    {
     "name": "stdout",
     "output_type": "stream",
     "text": [
      "Warning: MST contains multiple connected components. Please consider increasing knn.\n",
      "6 clusters is not achievable.\n",
      "Working with 1 clusters instead.\n",
      "k = 1, ari = 0.0\n",
      "Warning: MST contains multiple connected components. Please consider increasing knn.\n",
      "k = 2, ari = 0.7634215908240864\n",
      "Warning: MST contains multiple connected components. Please consider increasing knn.\n",
      "k = 3, ari = 0.9003961036790805\n",
      "Warning: MST contains multiple connected components. Please consider increasing knn.\n",
      "k = 4, ari = 0.9003961036790805\n",
      "Warning: MST contains multiple connected components. Please consider increasing knn.\n",
      "k = 5, ari = 0.9003961036790805\n",
      "Warning: MST contains multiple connected components. Please consider increasing knn.\n",
      "k = 6, ari = 0.9003961036790805\n",
      "Warning: MST contains multiple connected components. Please consider increasing knn.\n",
      "k = 7, ari = 0.9003961036790805\n",
      "Warning: MST contains multiple connected components. Please consider increasing knn.\n",
      "k = 8, ari = 0.9003961036790805\n",
      "Warning: MST contains multiple connected components. Please consider increasing knn.\n",
      "k = 9, ari = 0.9003961036790805\n",
      "k = 10, ari = 0.9003961036790805\n",
      "k = 11, ari = 0.9003961036790805\n",
      "k = 12, ari = 0.9003961036790805\n",
      "k = 13, ari = 0.9003961036790805\n",
      "k = 14, ari = 0.9003961036790805\n",
      "k = 15, ari = 0.9003961036790805\n",
      "k = 16, ari = 0.9003961036790805\n",
      "k = 17, ari = 0.9003961036790805\n",
      "k = 18, ari = 0.9003961036790805\n",
      "k = 19, ari = 0.9003961036790805\n",
      "k = 20, ari = 0.9003961036790805\n",
      "k = 21, ari = 0.9003961036790805\n",
      "k = 22, ari = 0.9003961036790805\n",
      "k = 23, ari = 0.9003961036790805\n",
      "k = 24, ari = 0.9003961036790805\n",
      "k = 25, ari = 0.9003961036790805\n",
      "k = 26, ari = 0.9003961036790805\n",
      "k = 27, ari = 0.9003961036790805\n",
      "k = 28, ari = 0.9003961036790805\n",
      "k = 29, ari = 0.9003961036790805\n",
      "k = 30, ari = 0.9003961036790805\n"
     ]
    }
   ],
   "source": [
    "for k in range(len(tmm.mixture_model.weights)):\n",
    "    raw_adj = subselect_adjacency_matrix(tmm.raw_adjacency_+1, tmm.mixture_model.centers, k+1)\n",
    "    tmm.adjacency_ = corc.graph_metrics.tmm_gmm_neb.compute_mst_distances(raw_adj)\n",
    "    y_pred = tmm.predict_with_target(X, len(np.unique(y)))\n",
    "    ari = sklearn.metrics.adjusted_rand_score(y, y_pred)\n",
    "    print(f\"k = {k+1}, ari = {ari}\")"
   ]
  },
  {
   "cell_type": "code",
   "execution_count": 124,
   "metadata": {},
   "outputs": [
    {
     "name": "stdout",
     "output_type": "stream",
     "text": [
      "Warning: MST contains multiple connected components. Please consider increasing knn.\n"
     ]
    },
    {
     "data": {
      "text/plain": [
       "array([[  0.        ,          inf,   3.20275187,   3.20275187,\n",
       "                 inf,  -0.2779457 ,          inf,          inf,\n",
       "          3.20275187],\n",
       "       [         inf,   0.        ,          inf,          inf,\n",
       "        -17.19381905,          inf,  26.23476791,  30.62001801,\n",
       "                 inf],\n",
       "       [  3.20275187,          inf,   0.        ,  31.17840385,\n",
       "                 inf,  -0.2779457 ,          inf,          inf,\n",
       "         31.17840385],\n",
       "       [  3.20275187,          inf,  31.17840385,   0.        ,\n",
       "                 inf,  -0.2779457 ,          inf,          inf,\n",
       "         34.49775696],\n",
       "       [         inf, -17.19381905,          inf,          inf,\n",
       "          0.        ,          inf, -17.19381905, -17.19381905,\n",
       "                 inf],\n",
       "       [ -0.2779457 ,          inf,  -0.2779457 ,  -0.2779457 ,\n",
       "                 inf,   0.        ,          inf,          inf,\n",
       "         -0.2779457 ],\n",
       "       [         inf,  26.23476791,          inf,          inf,\n",
       "        -17.19381905,          inf,   0.        ,  26.23476791,\n",
       "                 inf],\n",
       "       [         inf,  30.62001801,          inf,          inf,\n",
       "        -17.19381905,          inf,  26.23476791,   0.        ,\n",
       "                 inf],\n",
       "       [  3.20275187,          inf,  31.17840385,  34.49775696,\n",
       "                 inf,  -0.2779457 ,          inf,          inf,\n",
       "          0.        ]])"
      ]
     },
     "execution_count": 124,
     "metadata": {},
     "output_type": "execute_result"
    }
   ],
   "source": [
    "corc.graph_metrics.tmm_gmm_neb.compute_mst_distances(adj)\n",
    "corc.graph_metrics.tmm_gmm_neb.compute_mst_distances(raw_adj)"
   ]
  },
  {
   "cell_type": "code",
   "execution_count": 126,
   "metadata": {},
   "outputs": [
    {
     "data": {
      "text/plain": [
       "0.8640218314265484"
      ]
     },
     "execution_count": 126,
     "metadata": {},
     "output_type": "execute_result"
    }
   ],
   "source": [
    "y_pred = tmm.predict_with_target(X, 6)\n",
    "sklearn.metrics.adjusted_rand_score(y, y_pred)"
   ]
  },
  {
   "cell_type": "code",
   "execution_count": null,
   "metadata": {},
   "outputs": [],
   "source": []
  },
  {
   "cell_type": "code",
   "execution_count": null,
   "metadata": {},
   "outputs": [],
   "source": []
  },
  {
   "cell_type": "code",
   "execution_count": null,
   "metadata": {},
   "outputs": [],
   "source": []
  },
  {
   "cell_type": "code",
   "execution_count": 83,
   "metadata": {},
   "outputs": [
    {
     "name": "stdout",
     "output_type": "stream",
     "text": [
      "[[      8  981898]\n",
      " [   1211       7]\n",
      " [   1134       4]\n",
      " [   1217       8]\n",
      " [   1380       7]\n",
      " [   1158       6]\n",
      " [      1       1]\n",
      " [    536       4]\n",
      " [      1       1]\n",
      " [      2     189]\n",
      " [      1       1]\n",
      " [    773       8]\n",
      " [      1       1]\n",
      " [      1       1]\n",
      " [      1       1]\n",
      " [      2     187]\n",
      " [    773       6]\n",
      " [      1       1]\n",
      " [      1       1]\n",
      " [      1       1]\n",
      " [      1       1]\n",
      " [    895      10]\n",
      " [      5 3224997]\n",
      " [      1       1]\n",
      " [      8 1071925]\n",
      " [      1       1]\n",
      " [      1       1]\n",
      " [      1       1]\n",
      " [    882       7]\n",
      " [      2     796]]\n",
      "After filtering 30 components, we are left with 10 components\n",
      "[[1215    7]\n",
      " [1139    4]\n",
      " [1221    8]\n",
      " [1384    7]\n",
      " [1163    6]\n",
      " [ 537    4]\n",
      " [ 777    8]\n",
      " [ 778    6]\n",
      " [ 899   10]\n",
      " [ 887    7]]\n"
     ]
    },
    {
     "name": "stderr",
     "output_type": "stream",
     "text": [
      "tmm: 100%|██████████| 10/10 [00:00<00:00, 110.46it/s]"
     ]
    },
    {
     "name": "stdout",
     "output_type": "stream",
     "text": [
      "Warning: MST contains multiple connected components. Please consider increasing knn.\n"
     ]
    },
    {
     "name": "stderr",
     "output_type": "stream",
     "text": [
      "\n"
     ]
    }
   ],
   "source": [
    "X_densired,y_densired,tsne_densired = corc.utils.load_dataset(\"densired_soft_16\")\n",
    "tmm = corc.graph_metrics.neb.NEB(\n",
    "    data=X_densired,\n",
    "    labels=y_densired,\n",
    "    n_components=30,\n",
    "    optimization_iterations=1,\n",
    "    n_neighbors=100,\n",
    "    tmm_regularization=1e-4,\n",
    ")\n",
    "tmm.fit(X_densired, knn=1)"
   ]
  },
  {
   "cell_type": "code",
   "execution_count": 85,
   "metadata": {},
   "outputs": [],
   "source": [
    "elongations = [[      8,  981898],\n",
    " [   1211,       7],\n",
    " [   1134,       4],\n",
    " [   1217,       8],\n",
    " [   1380,       7],\n",
    " [   1158,       6],\n",
    " [      1,       1],\n",
    " [    536,       4],\n",
    " [      1,       1],\n",
    " [      2,     189],\n",
    " [      1,       1],\n",
    " [    773,       8],\n",
    " [      1,       1],\n",
    " [      1,       1],\n",
    " [      1,       1],\n",
    " [      2,     187],\n",
    " [    773,       6],\n",
    " [      1,       1],\n",
    " [      1,       1],\n",
    " [      1,       1],\n",
    " [      1,       1],\n",
    " [    895,      10],\n",
    " [      5, 3224997],\n",
    " [      1,       1],\n",
    " [      8, 1071925]]"
   ]
  },
  {
   "cell_type": "code",
   "execution_count": 86,
   "metadata": {},
   "outputs": [],
   "source": [
    "import pandas as pd"
   ]
  },
  {
   "cell_type": "code",
   "execution_count": 102,
   "metadata": {},
   "outputs": [
    {
     "data": {
      "text/html": [
       "<div>\n",
       "<style scoped>\n",
       "    .dataframe tbody tr th:only-of-type {\n",
       "        vertical-align: middle;\n",
       "    }\n",
       "\n",
       "    .dataframe tbody tr th {\n",
       "        vertical-align: top;\n",
       "    }\n",
       "\n",
       "    .dataframe thead th {\n",
       "        text-align: right;\n",
       "    }\n",
       "</style>\n",
       "<table border=\"1\" class=\"dataframe\">\n",
       "  <thead>\n",
       "    <tr style=\"text-align: right;\">\n",
       "      <th></th>\n",
       "      <th>counts</th>\n",
       "      <th>elongations</th>\n",
       "    </tr>\n",
       "  </thead>\n",
       "  <tbody>\n",
       "    <tr>\n",
       "      <th>0</th>\n",
       "      <td>8</td>\n",
       "      <td>981898</td>\n",
       "    </tr>\n",
       "    <tr>\n",
       "      <th>1</th>\n",
       "      <td>1211</td>\n",
       "      <td>7</td>\n",
       "    </tr>\n",
       "    <tr>\n",
       "      <th>2</th>\n",
       "      <td>1134</td>\n",
       "      <td>4</td>\n",
       "    </tr>\n",
       "    <tr>\n",
       "      <th>3</th>\n",
       "      <td>1217</td>\n",
       "      <td>8</td>\n",
       "    </tr>\n",
       "    <tr>\n",
       "      <th>4</th>\n",
       "      <td>1380</td>\n",
       "      <td>7</td>\n",
       "    </tr>\n",
       "    <tr>\n",
       "      <th>5</th>\n",
       "      <td>1158</td>\n",
       "      <td>6</td>\n",
       "    </tr>\n",
       "    <tr>\n",
       "      <th>6</th>\n",
       "      <td>1</td>\n",
       "      <td>1</td>\n",
       "    </tr>\n",
       "    <tr>\n",
       "      <th>7</th>\n",
       "      <td>536</td>\n",
       "      <td>4</td>\n",
       "    </tr>\n",
       "    <tr>\n",
       "      <th>8</th>\n",
       "      <td>1</td>\n",
       "      <td>1</td>\n",
       "    </tr>\n",
       "    <tr>\n",
       "      <th>9</th>\n",
       "      <td>2</td>\n",
       "      <td>189</td>\n",
       "    </tr>\n",
       "    <tr>\n",
       "      <th>10</th>\n",
       "      <td>1</td>\n",
       "      <td>1</td>\n",
       "    </tr>\n",
       "    <tr>\n",
       "      <th>11</th>\n",
       "      <td>773</td>\n",
       "      <td>8</td>\n",
       "    </tr>\n",
       "    <tr>\n",
       "      <th>12</th>\n",
       "      <td>1</td>\n",
       "      <td>1</td>\n",
       "    </tr>\n",
       "    <tr>\n",
       "      <th>13</th>\n",
       "      <td>1</td>\n",
       "      <td>1</td>\n",
       "    </tr>\n",
       "    <tr>\n",
       "      <th>14</th>\n",
       "      <td>1</td>\n",
       "      <td>1</td>\n",
       "    </tr>\n",
       "    <tr>\n",
       "      <th>15</th>\n",
       "      <td>2</td>\n",
       "      <td>187</td>\n",
       "    </tr>\n",
       "    <tr>\n",
       "      <th>16</th>\n",
       "      <td>773</td>\n",
       "      <td>6</td>\n",
       "    </tr>\n",
       "    <tr>\n",
       "      <th>17</th>\n",
       "      <td>1</td>\n",
       "      <td>1</td>\n",
       "    </tr>\n",
       "    <tr>\n",
       "      <th>18</th>\n",
       "      <td>1</td>\n",
       "      <td>1</td>\n",
       "    </tr>\n",
       "    <tr>\n",
       "      <th>19</th>\n",
       "      <td>1</td>\n",
       "      <td>1</td>\n",
       "    </tr>\n",
       "    <tr>\n",
       "      <th>20</th>\n",
       "      <td>1</td>\n",
       "      <td>1</td>\n",
       "    </tr>\n",
       "    <tr>\n",
       "      <th>21</th>\n",
       "      <td>895</td>\n",
       "      <td>10</td>\n",
       "    </tr>\n",
       "    <tr>\n",
       "      <th>22</th>\n",
       "      <td>5</td>\n",
       "      <td>3224997</td>\n",
       "    </tr>\n",
       "    <tr>\n",
       "      <th>23</th>\n",
       "      <td>1</td>\n",
       "      <td>1</td>\n",
       "    </tr>\n",
       "    <tr>\n",
       "      <th>24</th>\n",
       "      <td>8</td>\n",
       "      <td>1071925</td>\n",
       "    </tr>\n",
       "  </tbody>\n",
       "</table>\n",
       "</div>"
      ],
      "text/plain": [
       "    counts  elongations\n",
       "0        8       981898\n",
       "1     1211            7\n",
       "2     1134            4\n",
       "3     1217            8\n",
       "4     1380            7\n",
       "5     1158            6\n",
       "6        1            1\n",
       "7      536            4\n",
       "8        1            1\n",
       "9        2          189\n",
       "10       1            1\n",
       "11     773            8\n",
       "12       1            1\n",
       "13       1            1\n",
       "14       1            1\n",
       "15       2          187\n",
       "16     773            6\n",
       "17       1            1\n",
       "18       1            1\n",
       "19       1            1\n",
       "20       1            1\n",
       "21     895           10\n",
       "22       5      3224997\n",
       "23       1            1\n",
       "24       8      1071925"
      ]
     },
     "execution_count": 102,
     "metadata": {},
     "output_type": "execute_result"
    }
   ],
   "source": [
    "df = pd.DataFrame(elongations)\n",
    "df.columns = ['counts', 'elongations']\n",
    "# df.index.name = 'component id'\n",
    "# df.style.hide_index()\n",
    "df"
   ]
  }
 ],
 "metadata": {
  "kernelspec": {
   "display_name": "tneb",
   "language": "python",
   "name": "python3"
  },
  "language_info": {
   "codemirror_mode": {
    "name": "ipython",
    "version": 3
   },
   "file_extension": ".py",
   "mimetype": "text/x-python",
   "name": "python",
   "nbconvert_exporter": "python",
   "pygments_lexer": "ipython3",
   "version": "3.11.11"
  }
 },
 "nbformat": 4,
 "nbformat_minor": 2
}
