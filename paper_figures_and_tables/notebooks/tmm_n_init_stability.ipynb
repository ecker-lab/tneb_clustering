{
 "cells": [
  {
   "cell_type": "markdown",
   "id": "e8a6da07",
   "metadata": {},
   "source": [
    "# Check how n_init influences stability"
   ]
  },
  {
   "cell_type": "code",
   "execution_count": 1,
   "id": "24f595ba",
   "metadata": {},
   "outputs": [],
   "source": [
    "%load_ext autoreload\n",
    "%autoreload 2"
   ]
  },
  {
   "cell_type": "code",
   "execution_count": null,
   "id": "e707ba55",
   "metadata": {},
   "outputs": [],
   "source": [
    "import corc.graph_metrics.neb\n",
    "import corc.utils\n",
    "import corc.our_datasets\n",
    "import os\n",
    "import pickle\n",
    "import matplotlib.pyplot as plt\n",
    "import numpy as np\n",
    "\n",
    "\n",
    "cache_path=\"../../cache\""
   ]
  },
  {
   "cell_type": "code",
   "execution_count": null,
   "id": "5e8bfb29",
   "metadata": {},
   "outputs": [],
   "source": [
    "possible_n_init = [1,5,10,20, 50]\n",
    "\n",
    "num_models = 6\n",
    "\n",
    "# Load the dataset\n",
    "dataset = \"mnist16\"\n",
    "X,y,tsne = corc.utils.load_dataset(dataset, cache_path=cache_path)\n",
    "filename = \"../../cache/n_init.pkl\""
   ]
  },
  {
   "cell_type": "code",
   "execution_count": 4,
   "id": "7ca300b7",
   "metadata": {},
   "outputs": [
    {
     "name": "stdout",
     "output_type": "stream",
     "text": [
      "Running NEB with n_init=1\n",
      "Mixture model fit took 0.76 seconds.\n",
      "[[404 129]\n",
      " [285  39]\n",
      " [447  31]\n",
      " [297  36]\n",
      " [399 100]\n",
      " [346  20]\n",
      " [511  48]\n",
      " [238  53]\n",
      " [604  34]\n",
      " [381  27]\n",
      " [245  50]\n",
      " [333 189]\n",
      " [453  26]\n",
      " [279  36]\n",
      " [381  32]\n",
      " [460  38]\n",
      " [268  39]\n",
      " [371  18]\n",
      " [634  18]\n",
      " [390  30]\n",
      " [478  24]\n",
      " [449  43]\n",
      " [359  24]\n",
      " [459  35]\n",
      " [529  25]]\n",
      "After filtering 25 components, we are left with 25 components\n"
     ]
    },
    {
     "name": "stderr",
     "output_type": "stream",
     "text": [
      "t-NEB: 100%|██████████| 1/1 [00:05<00:00,  5.80s/it]\n"
     ]
    },
    {
     "name": "stdout",
     "output_type": "stream",
     "text": [
      "Mixture model fit took 0.53 seconds.\n",
      "[[527  25]\n",
      " [366  26]\n",
      " [396 101]\n",
      " [643  18]\n",
      " [446  42]\n",
      " [458  26]\n",
      " [350  36]\n",
      " [458  37]\n",
      " [339 189]\n",
      " [235  53]\n",
      " [592  32]\n",
      " [456  42]\n",
      " [500  37]\n",
      " [382  18]\n",
      " [245  50]\n",
      " [375  33]\n",
      " [344  20]\n",
      " [307  37]\n",
      " [363  24]\n",
      " [292  39]\n",
      " [273  38]\n",
      " [468  23]\n",
      " [403 127]\n",
      " [272  25]\n",
      " [510  48]]\n",
      "After filtering 25 components, we are left with 25 components\n"
     ]
    },
    {
     "name": "stderr",
     "output_type": "stream",
     "text": [
      "t-NEB: 100%|██████████| 1/1 [00:03<00:00,  3.09s/it]\n"
     ]
    },
    {
     "name": "stdout",
     "output_type": "stream",
     "text": [
      "Mixture model fit took 0.80 seconds.\n",
      "[[371  32]\n",
      " [440  37]\n",
      " [351  27]\n",
      " [308 205]\n",
      " [346  36]\n",
      " [259  41]\n",
      " [563  26]\n",
      " [216  51]\n",
      " [599  35]\n",
      " [397 103]\n",
      " [437 130]\n",
      " [393  32]\n",
      " [489  20]\n",
      " [496  35]\n",
      " [218  56]\n",
      " [606  25]\n",
      " [508  24]\n",
      " [515  18]\n",
      " [455  43]\n",
      " [472  32]\n",
      " [481  47]\n",
      " [339  28]\n",
      " [285  48]\n",
      " [207  43]\n",
      " [249  41]]\n",
      "After filtering 25 components, we are left with 25 components\n"
     ]
    },
    {
     "name": "stderr",
     "output_type": "stream",
     "text": [
      "t-NEB: 100%|██████████| 1/1 [00:03<00:00,  3.09s/it]\n"
     ]
    },
    {
     "name": "stdout",
     "output_type": "stream",
     "text": [
      "Mixture model fit took 0.78 seconds.\n",
      "[[393  30]\n",
      " [168  59]\n",
      " [458  28]\n",
      " [543  19]\n",
      " [392 103]\n",
      " [490  32]\n",
      " [613  24]\n",
      " [381  46]\n",
      " [337  24]\n",
      " [497  36]\n",
      " [318 197]\n",
      " [233  50]\n",
      " [487  23]\n",
      " [392  32]\n",
      " [310  39]\n",
      " [602  35]\n",
      " [459  20]\n",
      " [526  36]\n",
      " [251  41]\n",
      " [217  55]\n",
      " [433 130]\n",
      " [452  43]\n",
      " [214  47]\n",
      " [261  42]\n",
      " [573  25]]\n",
      "After filtering 25 components, we are left with 25 components\n"
     ]
    },
    {
     "name": "stderr",
     "output_type": "stream",
     "text": [
      "t-NEB: 100%|██████████| 1/1 [00:03<00:00,  3.10s/it]\n"
     ]
    },
    {
     "name": "stdout",
     "output_type": "stream",
     "text": [
      "Mixture model fit took 0.52 seconds.\n",
      "[[432  40]\n",
      " [241  41]\n",
      " [398 100]\n",
      " [350  20]\n",
      " [484  25]\n",
      " [519  48]\n",
      " [337 186]\n",
      " [306  35]\n",
      " [237  31]\n",
      " [550  42]\n",
      " [399  28]\n",
      " [530  31]\n",
      " [444  42]\n",
      " [331  24]\n",
      " [432  31]\n",
      " [376  31]\n",
      " [451  34]\n",
      " [382  26]\n",
      " [213  54]\n",
      " [645  17]\n",
      " [403 128]\n",
      " [298  36]\n",
      " [367  33]\n",
      " [514  24]\n",
      " [361  31]]\n",
      "After filtering 25 components, we are left with 25 components\n"
     ]
    },
    {
     "name": "stderr",
     "output_type": "stream",
     "text": [
      "t-NEB: 100%|██████████| 1/1 [00:03<00:00,  3.13s/it]\n"
     ]
    },
    {
     "name": "stdout",
     "output_type": "stream",
     "text": [
      "Mixture model fit took 0.51 seconds.\n",
      "[[416  22]\n",
      " [398  99]\n",
      " [242  51]\n",
      " [457  37]\n",
      " [526  24]\n",
      " [353  23]\n",
      " [219  46]\n",
      " [234  51]\n",
      " [340 183]\n",
      " [456  26]\n",
      " [536  35]\n",
      " [618  33]\n",
      " [264  44]\n",
      " [291  40]\n",
      " [466  31]\n",
      " [448  29]\n",
      " [640  18]\n",
      " [376  17]\n",
      " [402 128]\n",
      " [635  26]\n",
      " [373  31]\n",
      " [213  43]\n",
      " [486  24]\n",
      " [265  42]\n",
      " [346  20]]\n",
      "After filtering 25 components, we are left with 25 components\n"
     ]
    },
    {
     "name": "stderr",
     "output_type": "stream",
     "text": [
      "t-NEB: 100%|██████████| 1/1 [00:03<00:00,  3.14s/it]\n"
     ]
    },
    {
     "name": "stdout",
     "output_type": "stream",
     "text": [
      "Running NEB with n_init=5\n",
      "Mixture model fit took 2.71 seconds.\n",
      "[[246  50]\n",
      " [239  50]\n",
      " [405 126]\n",
      " [467  43]\n",
      " [339 188]\n",
      " [523  25]\n",
      " [240  52]\n",
      " [419  30]\n",
      " [512  47]\n",
      " [317  22]\n",
      " [452  38]\n",
      " [505  37]\n",
      " [447  36]\n",
      " [397 100]\n",
      " [378  25]\n",
      " [448  42]\n",
      " [464  32]\n",
      " [435  30]\n",
      " [650  17]\n",
      " [433  28]\n",
      " [288  40]\n",
      " [511  24]\n",
      " [291  35]\n",
      " [329  20]\n",
      " [265  27]]\n",
      "After filtering 25 components, we are left with 25 components\n"
     ]
    },
    {
     "name": "stderr",
     "output_type": "stream",
     "text": [
      "t-NEB: 100%|██████████| 1/1 [00:03<00:00,  3.14s/it]\n"
     ]
    },
    {
     "name": "stdout",
     "output_type": "stream",
     "text": [
      "Mixture model fit took 2.54 seconds.\n",
      "[[527  25]\n",
      " [366  26]\n",
      " [396 101]\n",
      " [643  18]\n",
      " [446  42]\n",
      " [458  26]\n",
      " [350  36]\n",
      " [458  37]\n",
      " [339 189]\n",
      " [235  53]\n",
      " [592  32]\n",
      " [456  42]\n",
      " [500  37]\n",
      " [382  18]\n",
      " [245  50]\n",
      " [375  33]\n",
      " [344  20]\n",
      " [307  37]\n",
      " [363  24]\n",
      " [292  39]\n",
      " [273  38]\n",
      " [468  23]\n",
      " [403 127]\n",
      " [272  25]\n",
      " [510  48]]\n",
      "After filtering 25 components, we are left with 25 components\n"
     ]
    },
    {
     "name": "stderr",
     "output_type": "stream",
     "text": [
      "t-NEB: 100%|██████████| 1/1 [00:03<00:00,  3.15s/it]\n"
     ]
    },
    {
     "name": "stdout",
     "output_type": "stream",
     "text": [
      "Mixture model fit took 2.95 seconds.\n",
      "[[244  51]\n",
      " [400 101]\n",
      " [277  49]\n",
      " [455  42]\n",
      " [520  27]\n",
      " [520  27]\n",
      " [446  26]\n",
      " [655  18]\n",
      " [363  38]\n",
      " [421  49]\n",
      " [513  48]\n",
      " [379  34]\n",
      " [348  20]\n",
      " [408 127]\n",
      " [289  35]\n",
      " [269  27]\n",
      " [509  37]\n",
      " [278  40]\n",
      " [444  36]\n",
      " [372  26]\n",
      " [281  41]\n",
      " [244  52]\n",
      " [329 192]\n",
      " [462  37]\n",
      " [574  23]]\n",
      "After filtering 25 components, we are left with 25 components\n"
     ]
    },
    {
     "name": "stderr",
     "output_type": "stream",
     "text": [
      "t-NEB: 100%|██████████| 1/1 [00:03<00:00,  3.11s/it]\n"
     ]
    },
    {
     "name": "stdout",
     "output_type": "stream",
     "text": [
      "Mixture model fit took 2.77 seconds.\n",
      "[[393  30]\n",
      " [168  59]\n",
      " [458  28]\n",
      " [543  19]\n",
      " [392 103]\n",
      " [490  32]\n",
      " [613  24]\n",
      " [381  46]\n",
      " [337  24]\n",
      " [497  36]\n",
      " [318 197]\n",
      " [233  50]\n",
      " [487  23]\n",
      " [392  32]\n",
      " [310  39]\n",
      " [602  35]\n",
      " [459  20]\n",
      " [526  36]\n",
      " [251  41]\n",
      " [217  55]\n",
      " [433 130]\n",
      " [452  43]\n",
      " [214  47]\n",
      " [261  42]\n",
      " [573  25]]\n",
      "After filtering 25 components, we are left with 25 components\n"
     ]
    },
    {
     "name": "stderr",
     "output_type": "stream",
     "text": [
      "t-NEB: 100%|██████████| 1/1 [00:03<00:00,  3.10s/it]\n"
     ]
    },
    {
     "name": "stdout",
     "output_type": "stream",
     "text": [
      "Mixture model fit took 2.57 seconds.\n",
      "[[210  61]\n",
      " [469  31]\n",
      " [438  30]\n",
      " [505  47]\n",
      " [293  29]\n",
      " [461  43]\n",
      " [398 101]\n",
      " [353  26]\n",
      " [449  42]\n",
      " [376  26]\n",
      " [636  18]\n",
      " [358  24]\n",
      " [286  39]\n",
      " [629  34]\n",
      " [409  25]\n",
      " [405 128]\n",
      " [357  33]\n",
      " [260  29]\n",
      " [336 190]\n",
      " [464  37]\n",
      " [524  25]\n",
      " [507  37]\n",
      " [235  54]\n",
      " [350  20]\n",
      " [292  26]]\n",
      "After filtering 25 components, we are left with 25 components\n"
     ]
    },
    {
     "name": "stderr",
     "output_type": "stream",
     "text": [
      "t-NEB: 100%|██████████| 1/1 [00:03<00:00,  3.14s/it]\n"
     ]
    },
    {
     "name": "stdout",
     "output_type": "stream",
     "text": [
      "Mixture model fit took 2.65 seconds.\n",
      "[[238  32]\n",
      " [339  26]\n",
      " [512  24]\n",
      " [556  42]\n",
      " [423  41]\n",
      " [628  34]\n",
      " [483  31]\n",
      " [339 189]\n",
      " [353  20]\n",
      " [457  45]\n",
      " [646  18]\n",
      " [246  41]\n",
      " [339  33]\n",
      " [262  36]\n",
      " [555  25]\n",
      " [403 128]\n",
      " [360  34]\n",
      " [442  30]\n",
      " [264  41]\n",
      " [344  26]\n",
      " [312  36]\n",
      " [455  42]\n",
      " [210  58]\n",
      " [397 100]\n",
      " [437  30]]\n",
      "After filtering 25 components, we are left with 25 components\n"
     ]
    },
    {
     "name": "stderr",
     "output_type": "stream",
     "text": [
      "t-NEB: 100%|██████████| 1/1 [00:03<00:00,  3.14s/it]\n"
     ]
    },
    {
     "name": "stdout",
     "output_type": "stream",
     "text": [
      "Running NEB with n_init=10\n",
      "Mixture model fit took 5.27 seconds.\n",
      "[[246  50]\n",
      " [239  50]\n",
      " [405 126]\n",
      " [467  43]\n",
      " [339 188]\n",
      " [523  25]\n",
      " [240  52]\n",
      " [419  30]\n",
      " [512  47]\n",
      " [317  22]\n",
      " [452  38]\n",
      " [505  37]\n",
      " [447  36]\n",
      " [397 100]\n",
      " [378  25]\n",
      " [448  42]\n",
      " [464  32]\n",
      " [435  30]\n",
      " [650  17]\n",
      " [433  28]\n",
      " [288  40]\n",
      " [511  24]\n",
      " [291  35]\n",
      " [329  20]\n",
      " [265  27]]\n",
      "After filtering 25 components, we are left with 25 components\n"
     ]
    },
    {
     "name": "stderr",
     "output_type": "stream",
     "text": [
      "t-NEB: 100%|██████████| 1/1 [00:03<00:00,  3.13s/it]\n"
     ]
    },
    {
     "name": "stdout",
     "output_type": "stream",
     "text": [
      "Mixture model fit took 5.09 seconds.\n",
      "[[248  21]\n",
      " [232  42]\n",
      " [476  31]\n",
      " [399 100]\n",
      " [426  43]\n",
      " [415  29]\n",
      " [330  21]\n",
      " [433  30]\n",
      " [462  44]\n",
      " [256  29]\n",
      " [359  34]\n",
      " [511  36]\n",
      " [514  25]\n",
      " [384  21]\n",
      " [400  33]\n",
      " [382  20]\n",
      " [422  40]\n",
      " [336 190]\n",
      " [308  41]\n",
      " [627  34]\n",
      " [557  41]\n",
      " [238  50]\n",
      " [406 127]\n",
      " [379  24]\n",
      " [500  23]]\n",
      "After filtering 25 components, we are left with 25 components\n"
     ]
    },
    {
     "name": "stderr",
     "output_type": "stream",
     "text": [
      "t-NEB: 100%|██████████| 1/1 [00:03<00:00,  3.13s/it]\n"
     ]
    },
    {
     "name": "stdout",
     "output_type": "stream",
     "text": [
      "Mixture model fit took 5.44 seconds.\n",
      "[[244  51]\n",
      " [400 101]\n",
      " [277  49]\n",
      " [455  42]\n",
      " [520  27]\n",
      " [520  27]\n",
      " [446  26]\n",
      " [655  18]\n",
      " [363  38]\n",
      " [421  49]\n",
      " [513  48]\n",
      " [379  34]\n",
      " [348  20]\n",
      " [408 127]\n",
      " [289  35]\n",
      " [269  27]\n",
      " [509  37]\n",
      " [278  40]\n",
      " [444  36]\n",
      " [372  26]\n",
      " [281  41]\n",
      " [244  52]\n",
      " [329 192]\n",
      " [462  37]\n",
      " [574  23]]\n",
      "After filtering 25 components, we are left with 25 components\n"
     ]
    },
    {
     "name": "stderr",
     "output_type": "stream",
     "text": [
      "t-NEB: 100%|██████████| 1/1 [00:03<00:00,  3.15s/it]\n"
     ]
    },
    {
     "name": "stdout",
     "output_type": "stream",
     "text": [
      "Mixture model fit took 5.33 seconds.\n",
      "[[243  50]\n",
      " [545  26]\n",
      " [277  36]\n",
      " [445  43]\n",
      " [477  34]\n",
      " [402 129]\n",
      " [460  38]\n",
      " [492  28]\n",
      " [468  31]\n",
      " [618  34]\n",
      " [306  36]\n",
      " [384  26]\n",
      " [355  20]\n",
      " [283  49]\n",
      " [282  40]\n",
      " [242  41]\n",
      " [247  40]\n",
      " [399 100]\n",
      " [277  42]\n",
      " [656  18]\n",
      " [367  33]\n",
      " [509  24]\n",
      " [559  24]\n",
      " [336 188]\n",
      " [371  32]]\n",
      "After filtering 25 components, we are left with 25 components\n"
     ]
    },
    {
     "name": "stderr",
     "output_type": "stream",
     "text": [
      "t-NEB: 100%|██████████| 1/1 [00:03<00:00,  3.19s/it]\n"
     ]
    },
    {
     "name": "stdout",
     "output_type": "stream",
     "text": [
      "Mixture model fit took 5.13 seconds.\n",
      "[[281  40]\n",
      " [262  42]\n",
      " [469  24]\n",
      " [398 101]\n",
      " [244  41]\n",
      " [455  42]\n",
      " [380  25]\n",
      " [460  44]\n",
      " [628  34]\n",
      " [350  20]\n",
      " [404 128]\n",
      " [258  28]\n",
      " [524  25]\n",
      " [338 190]\n",
      " [344  26]\n",
      " [356  33]\n",
      " [436  30]\n",
      " [639  18]\n",
      " [510  36]\n",
      " [391  20]\n",
      " [460  37]\n",
      " [241  52]\n",
      " [469  31]\n",
      " [454  28]\n",
      " [249  49]]\n",
      "After filtering 25 components, we are left with 25 components\n"
     ]
    },
    {
     "name": "stderr",
     "output_type": "stream",
     "text": [
      "t-NEB: 100%|██████████| 1/1 [00:03<00:00,  3.13s/it]\n"
     ]
    },
    {
     "name": "stdout",
     "output_type": "stream",
     "text": [
      "Mixture model fit took 5.21 seconds.\n",
      "[[238  32]\n",
      " [339  26]\n",
      " [512  24]\n",
      " [556  42]\n",
      " [423  41]\n",
      " [628  34]\n",
      " [483  31]\n",
      " [339 189]\n",
      " [353  20]\n",
      " [457  45]\n",
      " [646  18]\n",
      " [246  41]\n",
      " [339  33]\n",
      " [262  36]\n",
      " [555  25]\n",
      " [403 128]\n",
      " [360  34]\n",
      " [442  30]\n",
      " [264  41]\n",
      " [344  26]\n",
      " [312  36]\n",
      " [455  42]\n",
      " [210  58]\n",
      " [397 100]\n",
      " [437  30]]\n",
      "After filtering 25 components, we are left with 25 components\n"
     ]
    },
    {
     "name": "stderr",
     "output_type": "stream",
     "text": [
      "t-NEB: 100%|██████████| 1/1 [00:03<00:00,  3.14s/it]\n"
     ]
    },
    {
     "name": "stdout",
     "output_type": "stream",
     "text": [
      "Running NEB with n_init=20\n",
      "Mixture model fit took 10.33 seconds.\n",
      "[[246  50]\n",
      " [239  50]\n",
      " [405 126]\n",
      " [467  43]\n",
      " [339 188]\n",
      " [523  25]\n",
      " [240  52]\n",
      " [419  30]\n",
      " [512  47]\n",
      " [317  22]\n",
      " [452  38]\n",
      " [505  37]\n",
      " [447  36]\n",
      " [397 100]\n",
      " [378  25]\n",
      " [448  42]\n",
      " [464  32]\n",
      " [435  30]\n",
      " [650  17]\n",
      " [433  28]\n",
      " [288  40]\n",
      " [511  24]\n",
      " [291  35]\n",
      " [329  20]\n",
      " [265  27]]\n",
      "After filtering 25 components, we are left with 25 components\n"
     ]
    },
    {
     "name": "stderr",
     "output_type": "stream",
     "text": [
      "t-NEB: 100%|██████████| 1/1 [00:03<00:00,  3.14s/it]\n"
     ]
    },
    {
     "name": "stdout",
     "output_type": "stream",
     "text": [
      "Mixture model fit took 10.25 seconds.\n",
      "[[317  43]\n",
      " [295  36]\n",
      " [498  29]\n",
      " [406 128]\n",
      " [481  32]\n",
      " [340 188]\n",
      " [459  38]\n",
      " [423  31]\n",
      " [242  52]\n",
      " [412  23]\n",
      " [960  19]\n",
      " [377  25]\n",
      " [281  40]\n",
      " [476  44]\n",
      " [263  46]\n",
      " [417  43]\n",
      " [511  36]\n",
      " [230  42]\n",
      " [249  51]\n",
      " [397 101]\n",
      " [441  36]\n",
      " [265  28]\n",
      " [209  30]\n",
      " [545  25]\n",
      " [506  24]]\n",
      "After filtering 25 components, we are left with 25 components\n"
     ]
    },
    {
     "name": "stderr",
     "output_type": "stream",
     "text": [
      "t-NEB: 100%|██████████| 1/1 [00:03<00:00,  3.12s/it]\n"
     ]
    },
    {
     "name": "stdout",
     "output_type": "stream",
     "text": [
      "Mixture model fit took 10.69 seconds.\n",
      "[[244  51]\n",
      " [400 101]\n",
      " [277  49]\n",
      " [455  42]\n",
      " [520  27]\n",
      " [520  27]\n",
      " [446  26]\n",
      " [655  18]\n",
      " [363  38]\n",
      " [421  49]\n",
      " [513  48]\n",
      " [379  34]\n",
      " [348  20]\n",
      " [408 127]\n",
      " [289  35]\n",
      " [269  27]\n",
      " [509  37]\n",
      " [278  40]\n",
      " [444  36]\n",
      " [372  26]\n",
      " [281  41]\n",
      " [244  52]\n",
      " [329 192]\n",
      " [462  37]\n",
      " [574  23]]\n",
      "After filtering 25 components, we are left with 25 components\n"
     ]
    },
    {
     "name": "stderr",
     "output_type": "stream",
     "text": [
      "t-NEB: 100%|██████████| 1/1 [00:03<00:00,  3.12s/it]\n"
     ]
    },
    {
     "name": "stdout",
     "output_type": "stream",
     "text": [
      "Mixture model fit took 10.45 seconds.\n",
      "[[243  50]\n",
      " [545  26]\n",
      " [277  36]\n",
      " [445  43]\n",
      " [477  34]\n",
      " [402 129]\n",
      " [460  38]\n",
      " [492  28]\n",
      " [468  31]\n",
      " [618  34]\n",
      " [306  36]\n",
      " [384  26]\n",
      " [355  20]\n",
      " [283  49]\n",
      " [282  40]\n",
      " [242  41]\n",
      " [247  40]\n",
      " [399 100]\n",
      " [277  42]\n",
      " [656  18]\n",
      " [367  33]\n",
      " [509  24]\n",
      " [559  24]\n",
      " [336 188]\n",
      " [371  32]]\n",
      "After filtering 25 components, we are left with 25 components\n"
     ]
    },
    {
     "name": "stderr",
     "output_type": "stream",
     "text": [
      "t-NEB: 100%|██████████| 1/1 [00:03<00:00,  3.14s/it]\n"
     ]
    },
    {
     "name": "stdout",
     "output_type": "stream",
     "text": [
      "Mixture model fit took 10.39 seconds.\n",
      "[[459  44]\n",
      " [267  41]\n",
      " [237  52]\n",
      " [398 100]\n",
      " [433  30]\n",
      " [371  19]\n",
      " [352  25]\n",
      " [242  42]\n",
      " [403 128]\n",
      " [451  28]\n",
      " [356  33]\n",
      " [286  40]\n",
      " [628  34]\n",
      " [452  43]\n",
      " [485  24]\n",
      " [510  36]\n",
      " [471  31]\n",
      " [459  38]\n",
      " [338 190]\n",
      " [383  24]\n",
      " [524  25]\n",
      " [249  49]\n",
      " [257  29]\n",
      " [640  18]\n",
      " [349  20]]\n",
      "After filtering 25 components, we are left with 25 components\n"
     ]
    },
    {
     "name": "stderr",
     "output_type": "stream",
     "text": [
      "t-NEB: 100%|██████████| 1/1 [00:03<00:00,  3.13s/it]\n"
     ]
    },
    {
     "name": "stdout",
     "output_type": "stream",
     "text": [
      "Mixture model fit took 10.29 seconds.\n",
      "[[238  32]\n",
      " [339  26]\n",
      " [512  24]\n",
      " [556  42]\n",
      " [423  41]\n",
      " [628  34]\n",
      " [483  31]\n",
      " [339 189]\n",
      " [353  20]\n",
      " [457  45]\n",
      " [646  18]\n",
      " [246  41]\n",
      " [339  33]\n",
      " [262  36]\n",
      " [555  25]\n",
      " [403 128]\n",
      " [360  34]\n",
      " [442  30]\n",
      " [264  41]\n",
      " [344  26]\n",
      " [312  36]\n",
      " [455  42]\n",
      " [210  58]\n",
      " [397 100]\n",
      " [437  30]]\n",
      "After filtering 25 components, we are left with 25 components\n"
     ]
    },
    {
     "name": "stderr",
     "output_type": "stream",
     "text": [
      "t-NEB: 100%|██████████| 1/1 [00:03<00:00,  3.14s/it]\n"
     ]
    },
    {
     "name": "stdout",
     "output_type": "stream",
     "text": [
      "Running NEB with n_init=50\n",
      "Mixture model fit took 25.79 seconds.\n",
      "[[519  48]\n",
      " [403 126]\n",
      " [344  31]\n",
      " [293  34]\n",
      " [428  31]\n",
      " [449  36]\n",
      " [182  30]\n",
      " [335  33]\n",
      " [340 184]\n",
      " [552  42]\n",
      " [463  47]\n",
      " [506  24]\n",
      " [295  27]\n",
      " [404  27]\n",
      " [445  42]\n",
      " [223  52]\n",
      " [357  19]\n",
      " [641  18]\n",
      " [397 101]\n",
      " [247  50]\n",
      " [430  41]\n",
      " [506  24]\n",
      " [426  30]\n",
      " [325  23]\n",
      " [490  31]]\n",
      "After filtering 25 components, we are left with 25 components\n"
     ]
    },
    {
     "name": "stderr",
     "output_type": "stream",
     "text": [
      "t-NEB: 100%|██████████| 1/1 [00:03<00:00,  3.13s/it]\n"
     ]
    },
    {
     "name": "stdout",
     "output_type": "stream",
     "text": [
      "Mixture model fit took 25.53 seconds.\n",
      "[[317  43]\n",
      " [295  36]\n",
      " [498  29]\n",
      " [406 128]\n",
      " [481  32]\n",
      " [340 188]\n",
      " [459  38]\n",
      " [423  31]\n",
      " [242  52]\n",
      " [412  23]\n",
      " [960  19]\n",
      " [377  25]\n",
      " [281  40]\n",
      " [476  44]\n",
      " [263  46]\n",
      " [417  43]\n",
      " [511  36]\n",
      " [230  42]\n",
      " [249  51]\n",
      " [397 101]\n",
      " [441  36]\n",
      " [265  28]\n",
      " [209  30]\n",
      " [545  25]\n",
      " [506  24]]\n",
      "After filtering 25 components, we are left with 25 components\n"
     ]
    },
    {
     "name": "stderr",
     "output_type": "stream",
     "text": [
      "t-NEB: 100%|██████████| 1/1 [00:03<00:00,  3.14s/it]\n"
     ]
    },
    {
     "name": "stdout",
     "output_type": "stream",
     "text": [
      "Mixture model fit took 25.57 seconds.\n",
      "[[362  21]\n",
      " [465  38]\n",
      " [316  36]\n",
      " [521  26]\n",
      " [272  40]\n",
      " [531  25]\n",
      " [400  99]\n",
      " [641  18]\n",
      " [336 187]\n",
      " [611  35]\n",
      " [622  27]\n",
      " [280  40]\n",
      " [414  22]\n",
      " [246  41]\n",
      " [453  43]\n",
      " [373  33]\n",
      " [405 129]\n",
      " [240  52]\n",
      " [384  24]\n",
      " [309  25]\n",
      " [208  64]\n",
      " [263  42]\n",
      " [472  30]\n",
      " [426  34]\n",
      " [450  32]]\n",
      "After filtering 25 components, we are left with 25 components\n"
     ]
    },
    {
     "name": "stderr",
     "output_type": "stream",
     "text": [
      "t-NEB: 100%|██████████| 1/1 [00:03<00:00,  3.14s/it]\n"
     ]
    },
    {
     "name": "stdout",
     "output_type": "stream",
     "text": [
      "Mixture model fit took 25.97 seconds.\n",
      "[[267  27]\n",
      " [339 188]\n",
      " [445  36]\n",
      " [268  41]\n",
      " [467  43]\n",
      " [405 127]\n",
      " [551  42]\n",
      " [245  41]\n",
      " [353  20]\n",
      " [361  25]\n",
      " [211  60]\n",
      " [293  36]\n",
      " [376  25]\n",
      " [529  25]\n",
      " [505  37]\n",
      " [472  30]\n",
      " [316  26]\n",
      " [435  30]\n",
      " [530  25]\n",
      " [429  40]\n",
      " [452  42]\n",
      " [649  18]\n",
      " [247  50]\n",
      " [458  32]\n",
      " [397 101]]\n",
      "After filtering 25 components, we are left with 25 components\n"
     ]
    },
    {
     "name": "stderr",
     "output_type": "stream",
     "text": [
      "t-NEB: 100%|██████████| 1/1 [00:03<00:00,  3.19s/it]\n"
     ]
    },
    {
     "name": "stdout",
     "output_type": "stream",
     "text": [
      "Mixture model fit took 25.95 seconds.\n",
      "[[321  34]\n",
      " [368 116]\n",
      " [555  42]\n",
      " [617  34]\n",
      " [448  29]\n",
      " [524  25]\n",
      " [355  26]\n",
      " [323  25]\n",
      " [449  43]\n",
      " [371  32]\n",
      " [467  30]\n",
      " [361  20]\n",
      " [533  25]\n",
      " [208  61]\n",
      " [386  26]\n",
      " [278 220]\n",
      " [185 156]\n",
      " [429  39]\n",
      " [466  31]\n",
      " [530  35]\n",
      " [637  18]\n",
      " [245  41]\n",
      " [303 137]\n",
      " [368  32]\n",
      " [273  41]]\n",
      "After filtering 25 components, we are left with 25 components\n"
     ]
    },
    {
     "name": "stderr",
     "output_type": "stream",
     "text": [
      "t-NEB: 100%|██████████| 1/1 [00:03<00:00,  3.17s/it]\n"
     ]
    },
    {
     "name": "stdout",
     "output_type": "stream",
     "text": [
      "Mixture model fit took 26.08 seconds.\n",
      "[[277  35]\n",
      " [455  45]\n",
      " [562  42]\n",
      " [635  18]\n",
      " [466  30]\n",
      " [446  42]\n",
      " [397 100]\n",
      " [315  25]\n",
      " [540  25]\n",
      " [251  31]\n",
      " [440  29]\n",
      " [339 189]\n",
      " [460  32]\n",
      " [289  37]\n",
      " [422  42]\n",
      " [404 127]\n",
      " [531  25]\n",
      " [363  25]\n",
      " [260  47]\n",
      " [355  29]\n",
      " [253  51]\n",
      " [211  60]\n",
      " [360  20]\n",
      " [513  47]\n",
      " [456  36]]\n",
      "After filtering 25 components, we are left with 25 components\n"
     ]
    },
    {
     "name": "stderr",
     "output_type": "stream",
     "text": [
      "t-NEB: 100%|██████████| 1/1 [00:03<00:00,  3.15s/it]\n"
     ]
    }
   ],
   "source": [
    "# try loading the cached file\n",
    "try:\n",
    "    with open(filename, 'rb') as f:\n",
    "        all_tmms,all_aris = pickle.load(f)\n",
    "except FileNotFoundError:\n",
    "    all_tmms = dict()\n",
    "    all_aris = dict()\n",
    "\n",
    "\n",
    "for n_init in possible_n_init:\n",
    "    if n_init in all_tmms.keys() and len(all_tmms[n_init]) == num_models:\n",
    "        continue\n",
    "    print(f\"Running NEB with n_init={n_init}\")\n",
    "    all_tmms[n_init] = []\n",
    "    all_aris[n_init] = []\n",
    "    for model_idx in range(num_models):\n",
    "        tmm = corc.graph_metrics.neb.NEB(\n",
    "            data=X,\n",
    "            labels=y, \n",
    "            n_components=25,\n",
    "            n_init=n_init,\n",
    "            n_neighbors=10,\n",
    "            seed=42+model_idx * 100,\n",
    "        )\n",
    "        tmm.fit(X)\n",
    "        all_aris[n_init].append(tmm.get_ari(X,y))\n",
    "        all_tmms[n_init].append(tmm)\n",
    "    with open(filename, 'wb') as f:\n",
    "        pickle.dump((all_tmms, all_aris), f)"
   ]
  },
  {
   "cell_type": "code",
   "execution_count": 5,
   "id": "f3cde01c",
   "metadata": {},
   "outputs": [
    {
     "data": {
      "text/plain": [
       "{1: [0.8220948832282708,\n",
       "  0.7724012959576083,\n",
       "  0.923370267963385,\n",
       "  0.9172635379532691,\n",
       "  0.8041751123355706,\n",
       "  0.818456867087472],\n",
       " 5: [0.803146991384419,\n",
       "  0.7724012959576083,\n",
       "  0.7928545100702789,\n",
       "  0.9172635379532691,\n",
       "  0.8049897881065575,\n",
       "  0.8290625190964208],\n",
       " 10: [0.803146991384419,\n",
       "  0.8113183751613736,\n",
       "  0.7928545100702789,\n",
       "  0.8071291181070189,\n",
       "  0.8075988869954716,\n",
       "  0.8290625190964208],\n",
       " 20: [0.803146991384419,\n",
       "  0.8029414254912194,\n",
       "  0.7928545100702789,\n",
       "  0.8071291181070189,\n",
       "  0.8065572504343851,\n",
       "  0.8290625190964208],\n",
       " 50: [0.7390889418281847,\n",
       "  0.8029414254912194,\n",
       "  0.8211381436491753,\n",
       "  0.8083355660741832,\n",
       "  0.8115001180402955,\n",
       "  0.807432588936563]}"
      ]
     },
     "execution_count": 5,
     "metadata": {},
     "output_type": "execute_result"
    }
   ],
   "source": [
    "all_aris"
   ]
  },
  {
   "cell_type": "code",
   "execution_count": 6,
   "id": "60869b71",
   "metadata": {},
   "outputs": [
    {
     "name": "stdout",
     "output_type": "stream",
     "text": [
      "n_init: 1, avg_ari: 0.8430, std_ari: 0.0625\n",
      "n_init: 5, avg_ari: 0.8200, std_ari: 0.0511\n",
      "n_init: 10, avg_ari: 0.8085, std_ari: 0.0119\n",
      "n_init: 20, avg_ari: 0.8069, std_ari: 0.0120\n",
      "n_init: 50, avg_ari: 0.7984, std_ari: 0.0297\n"
     ]
    }
   ],
   "source": [
    "for n_init in all_aris.keys():\n",
    "    avg_ari = np.mean(all_aris[n_init])\n",
    "    std_ari = np.std(all_aris[n_init], ddof=1)\n",
    "    print(f\"n_init: {n_init}, avg_ari: {avg_ari:.4f}, std_ari: {std_ari:.4f}\")"
   ]
  },
  {
   "cell_type": "markdown",
   "id": "fee13a15",
   "metadata": {},
   "source": [
    "{1: [0.8149319189414314,\n",
    "  0.8107508775419262,\n",
    "  0.7375568043612805,\n",
    "  0.729552049285818,\n",
    "  0.8050739129542397,\n",
    "  0.7270526172305195],\n",
    " 5: [0.7375568043612805,\n",
    "  0.7375568043612805,\n",
    "  0.7375568043612805,\n",
    "  0.8073045470167569,\n",
    "  0.8101493767361339,\n",
    "  0.837058201611172],\n",
    " 10: [0.7375568043612805,\n",
    "  0.7375568043612805,\n",
    "  0.7375568043612805,\n",
    "  0.837058201611172,\n",
    "  0.837058201611172,\n",
    "  0.837058201611172],\n",
    " 20: [0.7375568043612805,\n",
    "  0.7375568043612805,\n",
    "  0.7375568043612805,\n",
    "  0.837058201611172,\n",
    "  0.837058201611172,\n",
    "  0.837058201611172],\n",
    " 50: [0.810330467595892,\n",
    "  0.810330467595892,\n",
    "  0.810330467595892,\n",
    "  0.810330467595892,\n",
    "  0.810330467595892,\n",
    "  0.810330467595892]}"
   ]
  }
 ],
 "metadata": {
  "kernelspec": {
   "display_name": "tneb",
   "language": "python",
   "name": "python3"
  },
  "language_info": {
   "codemirror_mode": {
    "name": "ipython",
    "version": 3
   },
   "file_extension": ".py",
   "mimetype": "text/x-python",
   "name": "python",
   "nbconvert_exporter": "python",
   "pygments_lexer": "ipython3",
   "version": "3.11.11"
  }
 },
 "nbformat": 4,
 "nbformat_minor": 5
}
